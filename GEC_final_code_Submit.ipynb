{
  "nbformat": 4,
  "nbformat_minor": 0,
  "metadata": {
    "colab": {
      "name": "GEC_final_code (1).ipynb",
      "provenance": [],
      "collapsed_sections": []
    },
    "kernelspec": {
      "name": "python3",
      "display_name": "Python 3"
    },
    "language_info": {
      "name": "python"
    },
    "widgets": {
      "application/vnd.jupyter.widget-state+json": {
        "d712021e091e4a2a8e4c328985462afe": {
          "model_module": "@jupyter-widgets/controls",
          "model_name": "HBoxModel",
          "model_module_version": "1.5.0",
          "state": {
            "_dom_classes": [],
            "_model_module": "@jupyter-widgets/controls",
            "_model_module_version": "1.5.0",
            "_model_name": "HBoxModel",
            "_view_count": null,
            "_view_module": "@jupyter-widgets/controls",
            "_view_module_version": "1.5.0",
            "_view_name": "HBoxView",
            "box_style": "",
            "children": [
              "IPY_MODEL_baaac17843ff4848a6cfa98229c0c52f",
              "IPY_MODEL_4e2e640cc7ec4c68937ec0254de7727c",
              "IPY_MODEL_81a7d34c1d1d451e82b8b84a4c4d0dc8"
            ],
            "layout": "IPY_MODEL_a4fd70571d3e4ac2bb75a4785af56354"
          }
        },
        "baaac17843ff4848a6cfa98229c0c52f": {
          "model_module": "@jupyter-widgets/controls",
          "model_name": "HTMLModel",
          "model_module_version": "1.5.0",
          "state": {
            "_dom_classes": [],
            "_model_module": "@jupyter-widgets/controls",
            "_model_module_version": "1.5.0",
            "_model_name": "HTMLModel",
            "_view_count": null,
            "_view_module": "@jupyter-widgets/controls",
            "_view_module_version": "1.5.0",
            "_view_name": "HTMLView",
            "description": "",
            "description_tooltip": null,
            "layout": "IPY_MODEL_754a854544294745a83a95eec962d8c3",
            "placeholder": "​",
            "style": "IPY_MODEL_8ba47b8ba8284dc497f47caae5492049",
            "value": "Downloading: 100%"
          }
        },
        "4e2e640cc7ec4c68937ec0254de7727c": {
          "model_module": "@jupyter-widgets/controls",
          "model_name": "FloatProgressModel",
          "model_module_version": "1.5.0",
          "state": {
            "_dom_classes": [],
            "_model_module": "@jupyter-widgets/controls",
            "_model_module_version": "1.5.0",
            "_model_name": "FloatProgressModel",
            "_view_count": null,
            "_view_module": "@jupyter-widgets/controls",
            "_view_module_version": "1.5.0",
            "_view_name": "ProgressView",
            "bar_style": "success",
            "description": "",
            "description_tooltip": null,
            "layout": "IPY_MODEL_a5dcddf0737a4319aa4ea96b48d4a773",
            "max": 1199,
            "min": 0,
            "orientation": "horizontal",
            "style": "IPY_MODEL_f350e02c0bea4ddeaecfa8c2d5ada67c",
            "value": 1199
          }
        },
        "81a7d34c1d1d451e82b8b84a4c4d0dc8": {
          "model_module": "@jupyter-widgets/controls",
          "model_name": "HTMLModel",
          "model_module_version": "1.5.0",
          "state": {
            "_dom_classes": [],
            "_model_module": "@jupyter-widgets/controls",
            "_model_module_version": "1.5.0",
            "_model_name": "HTMLModel",
            "_view_count": null,
            "_view_module": "@jupyter-widgets/controls",
            "_view_module_version": "1.5.0",
            "_view_name": "HTMLView",
            "description": "",
            "description_tooltip": null,
            "layout": "IPY_MODEL_a190d44efec14ba7b38e7aebe8dc5615",
            "placeholder": "​",
            "style": "IPY_MODEL_4260c8e22899417b96db1519325f452d",
            "value": " 1.17k/1.17k [00:00&lt;00:00, 8.49kB/s]"
          }
        },
        "a4fd70571d3e4ac2bb75a4785af56354": {
          "model_module": "@jupyter-widgets/base",
          "model_name": "LayoutModel",
          "model_module_version": "1.2.0",
          "state": {
            "_model_module": "@jupyter-widgets/base",
            "_model_module_version": "1.2.0",
            "_model_name": "LayoutModel",
            "_view_count": null,
            "_view_module": "@jupyter-widgets/base",
            "_view_module_version": "1.2.0",
            "_view_name": "LayoutView",
            "align_content": null,
            "align_items": null,
            "align_self": null,
            "border": null,
            "bottom": null,
            "display": null,
            "flex": null,
            "flex_flow": null,
            "grid_area": null,
            "grid_auto_columns": null,
            "grid_auto_flow": null,
            "grid_auto_rows": null,
            "grid_column": null,
            "grid_gap": null,
            "grid_row": null,
            "grid_template_areas": null,
            "grid_template_columns": null,
            "grid_template_rows": null,
            "height": null,
            "justify_content": null,
            "justify_items": null,
            "left": null,
            "margin": null,
            "max_height": null,
            "max_width": null,
            "min_height": null,
            "min_width": null,
            "object_fit": null,
            "object_position": null,
            "order": null,
            "overflow": null,
            "overflow_x": null,
            "overflow_y": null,
            "padding": null,
            "right": null,
            "top": null,
            "visibility": null,
            "width": null
          }
        },
        "754a854544294745a83a95eec962d8c3": {
          "model_module": "@jupyter-widgets/base",
          "model_name": "LayoutModel",
          "model_module_version": "1.2.0",
          "state": {
            "_model_module": "@jupyter-widgets/base",
            "_model_module_version": "1.2.0",
            "_model_name": "LayoutModel",
            "_view_count": null,
            "_view_module": "@jupyter-widgets/base",
            "_view_module_version": "1.2.0",
            "_view_name": "LayoutView",
            "align_content": null,
            "align_items": null,
            "align_self": null,
            "border": null,
            "bottom": null,
            "display": null,
            "flex": null,
            "flex_flow": null,
            "grid_area": null,
            "grid_auto_columns": null,
            "grid_auto_flow": null,
            "grid_auto_rows": null,
            "grid_column": null,
            "grid_gap": null,
            "grid_row": null,
            "grid_template_areas": null,
            "grid_template_columns": null,
            "grid_template_rows": null,
            "height": null,
            "justify_content": null,
            "justify_items": null,
            "left": null,
            "margin": null,
            "max_height": null,
            "max_width": null,
            "min_height": null,
            "min_width": null,
            "object_fit": null,
            "object_position": null,
            "order": null,
            "overflow": null,
            "overflow_x": null,
            "overflow_y": null,
            "padding": null,
            "right": null,
            "top": null,
            "visibility": null,
            "width": null
          }
        },
        "8ba47b8ba8284dc497f47caae5492049": {
          "model_module": "@jupyter-widgets/controls",
          "model_name": "DescriptionStyleModel",
          "model_module_version": "1.5.0",
          "state": {
            "_model_module": "@jupyter-widgets/controls",
            "_model_module_version": "1.5.0",
            "_model_name": "DescriptionStyleModel",
            "_view_count": null,
            "_view_module": "@jupyter-widgets/base",
            "_view_module_version": "1.2.0",
            "_view_name": "StyleView",
            "description_width": ""
          }
        },
        "a5dcddf0737a4319aa4ea96b48d4a773": {
          "model_module": "@jupyter-widgets/base",
          "model_name": "LayoutModel",
          "model_module_version": "1.2.0",
          "state": {
            "_model_module": "@jupyter-widgets/base",
            "_model_module_version": "1.2.0",
            "_model_name": "LayoutModel",
            "_view_count": null,
            "_view_module": "@jupyter-widgets/base",
            "_view_module_version": "1.2.0",
            "_view_name": "LayoutView",
            "align_content": null,
            "align_items": null,
            "align_self": null,
            "border": null,
            "bottom": null,
            "display": null,
            "flex": null,
            "flex_flow": null,
            "grid_area": null,
            "grid_auto_columns": null,
            "grid_auto_flow": null,
            "grid_auto_rows": null,
            "grid_column": null,
            "grid_gap": null,
            "grid_row": null,
            "grid_template_areas": null,
            "grid_template_columns": null,
            "grid_template_rows": null,
            "height": null,
            "justify_content": null,
            "justify_items": null,
            "left": null,
            "margin": null,
            "max_height": null,
            "max_width": null,
            "min_height": null,
            "min_width": null,
            "object_fit": null,
            "object_position": null,
            "order": null,
            "overflow": null,
            "overflow_x": null,
            "overflow_y": null,
            "padding": null,
            "right": null,
            "top": null,
            "visibility": null,
            "width": null
          }
        },
        "f350e02c0bea4ddeaecfa8c2d5ada67c": {
          "model_module": "@jupyter-widgets/controls",
          "model_name": "ProgressStyleModel",
          "model_module_version": "1.5.0",
          "state": {
            "_model_module": "@jupyter-widgets/controls",
            "_model_module_version": "1.5.0",
            "_model_name": "ProgressStyleModel",
            "_view_count": null,
            "_view_module": "@jupyter-widgets/base",
            "_view_module_version": "1.2.0",
            "_view_name": "StyleView",
            "bar_color": null,
            "description_width": ""
          }
        },
        "a190d44efec14ba7b38e7aebe8dc5615": {
          "model_module": "@jupyter-widgets/base",
          "model_name": "LayoutModel",
          "model_module_version": "1.2.0",
          "state": {
            "_model_module": "@jupyter-widgets/base",
            "_model_module_version": "1.2.0",
            "_model_name": "LayoutModel",
            "_view_count": null,
            "_view_module": "@jupyter-widgets/base",
            "_view_module_version": "1.2.0",
            "_view_name": "LayoutView",
            "align_content": null,
            "align_items": null,
            "align_self": null,
            "border": null,
            "bottom": null,
            "display": null,
            "flex": null,
            "flex_flow": null,
            "grid_area": null,
            "grid_auto_columns": null,
            "grid_auto_flow": null,
            "grid_auto_rows": null,
            "grid_column": null,
            "grid_gap": null,
            "grid_row": null,
            "grid_template_areas": null,
            "grid_template_columns": null,
            "grid_template_rows": null,
            "height": null,
            "justify_content": null,
            "justify_items": null,
            "left": null,
            "margin": null,
            "max_height": null,
            "max_width": null,
            "min_height": null,
            "min_width": null,
            "object_fit": null,
            "object_position": null,
            "order": null,
            "overflow": null,
            "overflow_x": null,
            "overflow_y": null,
            "padding": null,
            "right": null,
            "top": null,
            "visibility": null,
            "width": null
          }
        },
        "4260c8e22899417b96db1519325f452d": {
          "model_module": "@jupyter-widgets/controls",
          "model_name": "DescriptionStyleModel",
          "model_module_version": "1.5.0",
          "state": {
            "_model_module": "@jupyter-widgets/controls",
            "_model_module_version": "1.5.0",
            "_model_name": "DescriptionStyleModel",
            "_view_count": null,
            "_view_module": "@jupyter-widgets/base",
            "_view_module_version": "1.2.0",
            "_view_name": "StyleView",
            "description_width": ""
          }
        },
        "0f7d7142d303459793cf7f3b7bf948dc": {
          "model_module": "@jupyter-widgets/controls",
          "model_name": "HBoxModel",
          "model_module_version": "1.5.0",
          "state": {
            "_dom_classes": [],
            "_model_module": "@jupyter-widgets/controls",
            "_model_module_version": "1.5.0",
            "_model_name": "HBoxModel",
            "_view_count": null,
            "_view_module": "@jupyter-widgets/controls",
            "_view_module_version": "1.5.0",
            "_view_name": "HBoxView",
            "box_style": "",
            "children": [
              "IPY_MODEL_223c4a0e9f3d48c9a66b3737a2c499d9",
              "IPY_MODEL_fbca4f06d9c64026bd56d11e201712fe",
              "IPY_MODEL_2ad41c6b4fa5448cba1061d8bfe2aa3e"
            ],
            "layout": "IPY_MODEL_34edc2c2e31b48288273f9d7ebd484fa"
          }
        },
        "223c4a0e9f3d48c9a66b3737a2c499d9": {
          "model_module": "@jupyter-widgets/controls",
          "model_name": "HTMLModel",
          "model_module_version": "1.5.0",
          "state": {
            "_dom_classes": [],
            "_model_module": "@jupyter-widgets/controls",
            "_model_module_version": "1.5.0",
            "_model_name": "HTMLModel",
            "_view_count": null,
            "_view_module": "@jupyter-widgets/controls",
            "_view_module_version": "1.5.0",
            "_view_name": "HTMLView",
            "description": "",
            "description_tooltip": null,
            "layout": "IPY_MODEL_e8a67f11ae614127becea06c0db9228b",
            "placeholder": "​",
            "style": "IPY_MODEL_174529a1d5774d1fbe52ab07636fe756",
            "value": "Downloading: 100%"
          }
        },
        "fbca4f06d9c64026bd56d11e201712fe": {
          "model_module": "@jupyter-widgets/controls",
          "model_name": "FloatProgressModel",
          "model_module_version": "1.5.0",
          "state": {
            "_dom_classes": [],
            "_model_module": "@jupyter-widgets/controls",
            "_model_module_version": "1.5.0",
            "_model_name": "FloatProgressModel",
            "_view_count": null,
            "_view_module": "@jupyter-widgets/controls",
            "_view_module_version": "1.5.0",
            "_view_name": "ProgressView",
            "bar_style": "success",
            "description": "",
            "description_tooltip": null,
            "layout": "IPY_MODEL_165d962dfd04413898059092dabf84e4",
            "max": 791656,
            "min": 0,
            "orientation": "horizontal",
            "style": "IPY_MODEL_18e13aad3cfd4fa8bbd4dc2f7b373951",
            "value": 791656
          }
        },
        "2ad41c6b4fa5448cba1061d8bfe2aa3e": {
          "model_module": "@jupyter-widgets/controls",
          "model_name": "HTMLModel",
          "model_module_version": "1.5.0",
          "state": {
            "_dom_classes": [],
            "_model_module": "@jupyter-widgets/controls",
            "_model_module_version": "1.5.0",
            "_model_name": "HTMLModel",
            "_view_count": null,
            "_view_module": "@jupyter-widgets/controls",
            "_view_module_version": "1.5.0",
            "_view_name": "HTMLView",
            "description": "",
            "description_tooltip": null,
            "layout": "IPY_MODEL_4bc94cccb0eb4624ab61c598dbe25d02",
            "placeholder": "​",
            "style": "IPY_MODEL_25ed0115f5784ce5acdf1df74a18bf90",
            "value": " 773k/773k [00:00&lt;00:00, 3.35MB/s]"
          }
        },
        "34edc2c2e31b48288273f9d7ebd484fa": {
          "model_module": "@jupyter-widgets/base",
          "model_name": "LayoutModel",
          "model_module_version": "1.2.0",
          "state": {
            "_model_module": "@jupyter-widgets/base",
            "_model_module_version": "1.2.0",
            "_model_name": "LayoutModel",
            "_view_count": null,
            "_view_module": "@jupyter-widgets/base",
            "_view_module_version": "1.2.0",
            "_view_name": "LayoutView",
            "align_content": null,
            "align_items": null,
            "align_self": null,
            "border": null,
            "bottom": null,
            "display": null,
            "flex": null,
            "flex_flow": null,
            "grid_area": null,
            "grid_auto_columns": null,
            "grid_auto_flow": null,
            "grid_auto_rows": null,
            "grid_column": null,
            "grid_gap": null,
            "grid_row": null,
            "grid_template_areas": null,
            "grid_template_columns": null,
            "grid_template_rows": null,
            "height": null,
            "justify_content": null,
            "justify_items": null,
            "left": null,
            "margin": null,
            "max_height": null,
            "max_width": null,
            "min_height": null,
            "min_width": null,
            "object_fit": null,
            "object_position": null,
            "order": null,
            "overflow": null,
            "overflow_x": null,
            "overflow_y": null,
            "padding": null,
            "right": null,
            "top": null,
            "visibility": null,
            "width": null
          }
        },
        "e8a67f11ae614127becea06c0db9228b": {
          "model_module": "@jupyter-widgets/base",
          "model_name": "LayoutModel",
          "model_module_version": "1.2.0",
          "state": {
            "_model_module": "@jupyter-widgets/base",
            "_model_module_version": "1.2.0",
            "_model_name": "LayoutModel",
            "_view_count": null,
            "_view_module": "@jupyter-widgets/base",
            "_view_module_version": "1.2.0",
            "_view_name": "LayoutView",
            "align_content": null,
            "align_items": null,
            "align_self": null,
            "border": null,
            "bottom": null,
            "display": null,
            "flex": null,
            "flex_flow": null,
            "grid_area": null,
            "grid_auto_columns": null,
            "grid_auto_flow": null,
            "grid_auto_rows": null,
            "grid_column": null,
            "grid_gap": null,
            "grid_row": null,
            "grid_template_areas": null,
            "grid_template_columns": null,
            "grid_template_rows": null,
            "height": null,
            "justify_content": null,
            "justify_items": null,
            "left": null,
            "margin": null,
            "max_height": null,
            "max_width": null,
            "min_height": null,
            "min_width": null,
            "object_fit": null,
            "object_position": null,
            "order": null,
            "overflow": null,
            "overflow_x": null,
            "overflow_y": null,
            "padding": null,
            "right": null,
            "top": null,
            "visibility": null,
            "width": null
          }
        },
        "174529a1d5774d1fbe52ab07636fe756": {
          "model_module": "@jupyter-widgets/controls",
          "model_name": "DescriptionStyleModel",
          "model_module_version": "1.5.0",
          "state": {
            "_model_module": "@jupyter-widgets/controls",
            "_model_module_version": "1.5.0",
            "_model_name": "DescriptionStyleModel",
            "_view_count": null,
            "_view_module": "@jupyter-widgets/base",
            "_view_module_version": "1.2.0",
            "_view_name": "StyleView",
            "description_width": ""
          }
        },
        "165d962dfd04413898059092dabf84e4": {
          "model_module": "@jupyter-widgets/base",
          "model_name": "LayoutModel",
          "model_module_version": "1.2.0",
          "state": {
            "_model_module": "@jupyter-widgets/base",
            "_model_module_version": "1.2.0",
            "_model_name": "LayoutModel",
            "_view_count": null,
            "_view_module": "@jupyter-widgets/base",
            "_view_module_version": "1.2.0",
            "_view_name": "LayoutView",
            "align_content": null,
            "align_items": null,
            "align_self": null,
            "border": null,
            "bottom": null,
            "display": null,
            "flex": null,
            "flex_flow": null,
            "grid_area": null,
            "grid_auto_columns": null,
            "grid_auto_flow": null,
            "grid_auto_rows": null,
            "grid_column": null,
            "grid_gap": null,
            "grid_row": null,
            "grid_template_areas": null,
            "grid_template_columns": null,
            "grid_template_rows": null,
            "height": null,
            "justify_content": null,
            "justify_items": null,
            "left": null,
            "margin": null,
            "max_height": null,
            "max_width": null,
            "min_height": null,
            "min_width": null,
            "object_fit": null,
            "object_position": null,
            "order": null,
            "overflow": null,
            "overflow_x": null,
            "overflow_y": null,
            "padding": null,
            "right": null,
            "top": null,
            "visibility": null,
            "width": null
          }
        },
        "18e13aad3cfd4fa8bbd4dc2f7b373951": {
          "model_module": "@jupyter-widgets/controls",
          "model_name": "ProgressStyleModel",
          "model_module_version": "1.5.0",
          "state": {
            "_model_module": "@jupyter-widgets/controls",
            "_model_module_version": "1.5.0",
            "_model_name": "ProgressStyleModel",
            "_view_count": null,
            "_view_module": "@jupyter-widgets/base",
            "_view_module_version": "1.2.0",
            "_view_name": "StyleView",
            "bar_color": null,
            "description_width": ""
          }
        },
        "4bc94cccb0eb4624ab61c598dbe25d02": {
          "model_module": "@jupyter-widgets/base",
          "model_name": "LayoutModel",
          "model_module_version": "1.2.0",
          "state": {
            "_model_module": "@jupyter-widgets/base",
            "_model_module_version": "1.2.0",
            "_model_name": "LayoutModel",
            "_view_count": null,
            "_view_module": "@jupyter-widgets/base",
            "_view_module_version": "1.2.0",
            "_view_name": "LayoutView",
            "align_content": null,
            "align_items": null,
            "align_self": null,
            "border": null,
            "bottom": null,
            "display": null,
            "flex": null,
            "flex_flow": null,
            "grid_area": null,
            "grid_auto_columns": null,
            "grid_auto_flow": null,
            "grid_auto_rows": null,
            "grid_column": null,
            "grid_gap": null,
            "grid_row": null,
            "grid_template_areas": null,
            "grid_template_columns": null,
            "grid_template_rows": null,
            "height": null,
            "justify_content": null,
            "justify_items": null,
            "left": null,
            "margin": null,
            "max_height": null,
            "max_width": null,
            "min_height": null,
            "min_width": null,
            "object_fit": null,
            "object_position": null,
            "order": null,
            "overflow": null,
            "overflow_x": null,
            "overflow_y": null,
            "padding": null,
            "right": null,
            "top": null,
            "visibility": null,
            "width": null
          }
        },
        "25ed0115f5784ce5acdf1df74a18bf90": {
          "model_module": "@jupyter-widgets/controls",
          "model_name": "DescriptionStyleModel",
          "model_module_version": "1.5.0",
          "state": {
            "_model_module": "@jupyter-widgets/controls",
            "_model_module_version": "1.5.0",
            "_model_name": "DescriptionStyleModel",
            "_view_count": null,
            "_view_module": "@jupyter-widgets/base",
            "_view_module_version": "1.2.0",
            "_view_name": "StyleView",
            "description_width": ""
          }
        },
        "565c1ea29c654dff8ca5db74c0e00992": {
          "model_module": "@jupyter-widgets/controls",
          "model_name": "HBoxModel",
          "model_module_version": "1.5.0",
          "state": {
            "_dom_classes": [],
            "_model_module": "@jupyter-widgets/controls",
            "_model_module_version": "1.5.0",
            "_model_name": "HBoxModel",
            "_view_count": null,
            "_view_module": "@jupyter-widgets/controls",
            "_view_module_version": "1.5.0",
            "_view_name": "HBoxView",
            "box_style": "",
            "children": [
              "IPY_MODEL_6ea623c0b5834b059eb8ed98489ec87b",
              "IPY_MODEL_fd2f39628a7a4fafbecafee23a936873",
              "IPY_MODEL_24800d7cc3444146940a69309b6168ec"
            ],
            "layout": "IPY_MODEL_268243cd0650450d953fbc26c77f0bb5"
          }
        },
        "6ea623c0b5834b059eb8ed98489ec87b": {
          "model_module": "@jupyter-widgets/controls",
          "model_name": "HTMLModel",
          "model_module_version": "1.5.0",
          "state": {
            "_dom_classes": [],
            "_model_module": "@jupyter-widgets/controls",
            "_model_module_version": "1.5.0",
            "_model_name": "HTMLModel",
            "_view_count": null,
            "_view_module": "@jupyter-widgets/controls",
            "_view_module_version": "1.5.0",
            "_view_name": "HTMLView",
            "description": "",
            "description_tooltip": null,
            "layout": "IPY_MODEL_35e8aeac5a814ba2946cf3a36b7ef4c9",
            "placeholder": "​",
            "style": "IPY_MODEL_147645a427b541f3bc0cccf27f73ce84",
            "value": "Downloading: 100%"
          }
        },
        "fd2f39628a7a4fafbecafee23a936873": {
          "model_module": "@jupyter-widgets/controls",
          "model_name": "FloatProgressModel",
          "model_module_version": "1.5.0",
          "state": {
            "_dom_classes": [],
            "_model_module": "@jupyter-widgets/controls",
            "_model_module_version": "1.5.0",
            "_model_name": "FloatProgressModel",
            "_view_count": null,
            "_view_module": "@jupyter-widgets/controls",
            "_view_module_version": "1.5.0",
            "_view_name": "ProgressView",
            "bar_style": "success",
            "description": "",
            "description_tooltip": null,
            "layout": "IPY_MODEL_fdf98bc2b8d84d1286609c718802b240",
            "max": 1389353,
            "min": 0,
            "orientation": "horizontal",
            "style": "IPY_MODEL_a275e32fb91e404cba0a2946bd30cfb2",
            "value": 1389353
          }
        },
        "24800d7cc3444146940a69309b6168ec": {
          "model_module": "@jupyter-widgets/controls",
          "model_name": "HTMLModel",
          "model_module_version": "1.5.0",
          "state": {
            "_dom_classes": [],
            "_model_module": "@jupyter-widgets/controls",
            "_model_module_version": "1.5.0",
            "_model_name": "HTMLModel",
            "_view_count": null,
            "_view_module": "@jupyter-widgets/controls",
            "_view_module_version": "1.5.0",
            "_view_name": "HTMLView",
            "description": "",
            "description_tooltip": null,
            "layout": "IPY_MODEL_602f0279a4814950831dd0cb68181e5e",
            "placeholder": "​",
            "style": "IPY_MODEL_fb4643863d554a71a61ad8702479c67d",
            "value": " 1.32M/1.32M [00:00&lt;00:00, 4.45MB/s]"
          }
        },
        "268243cd0650450d953fbc26c77f0bb5": {
          "model_module": "@jupyter-widgets/base",
          "model_name": "LayoutModel",
          "model_module_version": "1.2.0",
          "state": {
            "_model_module": "@jupyter-widgets/base",
            "_model_module_version": "1.2.0",
            "_model_name": "LayoutModel",
            "_view_count": null,
            "_view_module": "@jupyter-widgets/base",
            "_view_module_version": "1.2.0",
            "_view_name": "LayoutView",
            "align_content": null,
            "align_items": null,
            "align_self": null,
            "border": null,
            "bottom": null,
            "display": null,
            "flex": null,
            "flex_flow": null,
            "grid_area": null,
            "grid_auto_columns": null,
            "grid_auto_flow": null,
            "grid_auto_rows": null,
            "grid_column": null,
            "grid_gap": null,
            "grid_row": null,
            "grid_template_areas": null,
            "grid_template_columns": null,
            "grid_template_rows": null,
            "height": null,
            "justify_content": null,
            "justify_items": null,
            "left": null,
            "margin": null,
            "max_height": null,
            "max_width": null,
            "min_height": null,
            "min_width": null,
            "object_fit": null,
            "object_position": null,
            "order": null,
            "overflow": null,
            "overflow_x": null,
            "overflow_y": null,
            "padding": null,
            "right": null,
            "top": null,
            "visibility": null,
            "width": null
          }
        },
        "35e8aeac5a814ba2946cf3a36b7ef4c9": {
          "model_module": "@jupyter-widgets/base",
          "model_name": "LayoutModel",
          "model_module_version": "1.2.0",
          "state": {
            "_model_module": "@jupyter-widgets/base",
            "_model_module_version": "1.2.0",
            "_model_name": "LayoutModel",
            "_view_count": null,
            "_view_module": "@jupyter-widgets/base",
            "_view_module_version": "1.2.0",
            "_view_name": "LayoutView",
            "align_content": null,
            "align_items": null,
            "align_self": null,
            "border": null,
            "bottom": null,
            "display": null,
            "flex": null,
            "flex_flow": null,
            "grid_area": null,
            "grid_auto_columns": null,
            "grid_auto_flow": null,
            "grid_auto_rows": null,
            "grid_column": null,
            "grid_gap": null,
            "grid_row": null,
            "grid_template_areas": null,
            "grid_template_columns": null,
            "grid_template_rows": null,
            "height": null,
            "justify_content": null,
            "justify_items": null,
            "left": null,
            "margin": null,
            "max_height": null,
            "max_width": null,
            "min_height": null,
            "min_width": null,
            "object_fit": null,
            "object_position": null,
            "order": null,
            "overflow": null,
            "overflow_x": null,
            "overflow_y": null,
            "padding": null,
            "right": null,
            "top": null,
            "visibility": null,
            "width": null
          }
        },
        "147645a427b541f3bc0cccf27f73ce84": {
          "model_module": "@jupyter-widgets/controls",
          "model_name": "DescriptionStyleModel",
          "model_module_version": "1.5.0",
          "state": {
            "_model_module": "@jupyter-widgets/controls",
            "_model_module_version": "1.5.0",
            "_model_name": "DescriptionStyleModel",
            "_view_count": null,
            "_view_module": "@jupyter-widgets/base",
            "_view_module_version": "1.2.0",
            "_view_name": "StyleView",
            "description_width": ""
          }
        },
        "fdf98bc2b8d84d1286609c718802b240": {
          "model_module": "@jupyter-widgets/base",
          "model_name": "LayoutModel",
          "model_module_version": "1.2.0",
          "state": {
            "_model_module": "@jupyter-widgets/base",
            "_model_module_version": "1.2.0",
            "_model_name": "LayoutModel",
            "_view_count": null,
            "_view_module": "@jupyter-widgets/base",
            "_view_module_version": "1.2.0",
            "_view_name": "LayoutView",
            "align_content": null,
            "align_items": null,
            "align_self": null,
            "border": null,
            "bottom": null,
            "display": null,
            "flex": null,
            "flex_flow": null,
            "grid_area": null,
            "grid_auto_columns": null,
            "grid_auto_flow": null,
            "grid_auto_rows": null,
            "grid_column": null,
            "grid_gap": null,
            "grid_row": null,
            "grid_template_areas": null,
            "grid_template_columns": null,
            "grid_template_rows": null,
            "height": null,
            "justify_content": null,
            "justify_items": null,
            "left": null,
            "margin": null,
            "max_height": null,
            "max_width": null,
            "min_height": null,
            "min_width": null,
            "object_fit": null,
            "object_position": null,
            "order": null,
            "overflow": null,
            "overflow_x": null,
            "overflow_y": null,
            "padding": null,
            "right": null,
            "top": null,
            "visibility": null,
            "width": null
          }
        },
        "a275e32fb91e404cba0a2946bd30cfb2": {
          "model_module": "@jupyter-widgets/controls",
          "model_name": "ProgressStyleModel",
          "model_module_version": "1.5.0",
          "state": {
            "_model_module": "@jupyter-widgets/controls",
            "_model_module_version": "1.5.0",
            "_model_name": "ProgressStyleModel",
            "_view_count": null,
            "_view_module": "@jupyter-widgets/base",
            "_view_module_version": "1.2.0",
            "_view_name": "StyleView",
            "bar_color": null,
            "description_width": ""
          }
        },
        "602f0279a4814950831dd0cb68181e5e": {
          "model_module": "@jupyter-widgets/base",
          "model_name": "LayoutModel",
          "model_module_version": "1.2.0",
          "state": {
            "_model_module": "@jupyter-widgets/base",
            "_model_module_version": "1.2.0",
            "_model_name": "LayoutModel",
            "_view_count": null,
            "_view_module": "@jupyter-widgets/base",
            "_view_module_version": "1.2.0",
            "_view_name": "LayoutView",
            "align_content": null,
            "align_items": null,
            "align_self": null,
            "border": null,
            "bottom": null,
            "display": null,
            "flex": null,
            "flex_flow": null,
            "grid_area": null,
            "grid_auto_columns": null,
            "grid_auto_flow": null,
            "grid_auto_rows": null,
            "grid_column": null,
            "grid_gap": null,
            "grid_row": null,
            "grid_template_areas": null,
            "grid_template_columns": null,
            "grid_template_rows": null,
            "height": null,
            "justify_content": null,
            "justify_items": null,
            "left": null,
            "margin": null,
            "max_height": null,
            "max_width": null,
            "min_height": null,
            "min_width": null,
            "object_fit": null,
            "object_position": null,
            "order": null,
            "overflow": null,
            "overflow_x": null,
            "overflow_y": null,
            "padding": null,
            "right": null,
            "top": null,
            "visibility": null,
            "width": null
          }
        },
        "fb4643863d554a71a61ad8702479c67d": {
          "model_module": "@jupyter-widgets/controls",
          "model_name": "DescriptionStyleModel",
          "model_module_version": "1.5.0",
          "state": {
            "_model_module": "@jupyter-widgets/controls",
            "_model_module_version": "1.5.0",
            "_model_name": "DescriptionStyleModel",
            "_view_count": null,
            "_view_module": "@jupyter-widgets/base",
            "_view_module_version": "1.2.0",
            "_view_name": "StyleView",
            "description_width": ""
          }
        },
        "eea0fea158e24570b950148fe8e77dc7": {
          "model_module": "@jupyter-widgets/controls",
          "model_name": "HBoxModel",
          "model_module_version": "1.5.0",
          "state": {
            "_dom_classes": [],
            "_model_module": "@jupyter-widgets/controls",
            "_model_module_version": "1.5.0",
            "_model_name": "HBoxModel",
            "_view_count": null,
            "_view_module": "@jupyter-widgets/controls",
            "_view_module_version": "1.5.0",
            "_view_name": "HBoxView",
            "box_style": "",
            "children": [
              "IPY_MODEL_a90f21ee1a514675a99876c4dcbc9944",
              "IPY_MODEL_e477a91e7e094a8bb815833b39242dcc",
              "IPY_MODEL_e87bc398a24341ae9fcf214f03f4472a"
            ],
            "layout": "IPY_MODEL_087b3acd9ca84c769d9b62466298ed1e"
          }
        },
        "a90f21ee1a514675a99876c4dcbc9944": {
          "model_module": "@jupyter-widgets/controls",
          "model_name": "HTMLModel",
          "model_module_version": "1.5.0",
          "state": {
            "_dom_classes": [],
            "_model_module": "@jupyter-widgets/controls",
            "_model_module_version": "1.5.0",
            "_model_name": "HTMLModel",
            "_view_count": null,
            "_view_module": "@jupyter-widgets/controls",
            "_view_module_version": "1.5.0",
            "_view_name": "HTMLView",
            "description": "",
            "description_tooltip": null,
            "layout": "IPY_MODEL_dc320bb2ef394e8d9f5deb04dcabc007",
            "placeholder": "​",
            "style": "IPY_MODEL_ce04f15f0df348a5bb5c8a00ac8976bb",
            "value": "Downloading: 100%"
          }
        },
        "e477a91e7e094a8bb815833b39242dcc": {
          "model_module": "@jupyter-widgets/controls",
          "model_name": "FloatProgressModel",
          "model_module_version": "1.5.0",
          "state": {
            "_dom_classes": [],
            "_model_module": "@jupyter-widgets/controls",
            "_model_module_version": "1.5.0",
            "_model_name": "FloatProgressModel",
            "_view_count": null,
            "_view_module": "@jupyter-widgets/controls",
            "_view_module_version": "1.5.0",
            "_view_name": "ProgressView",
            "bar_style": "success",
            "description": "",
            "description_tooltip": null,
            "layout": "IPY_MODEL_620c483fdb78470986a47a2bed7039bb",
            "max": 891691430,
            "min": 0,
            "orientation": "horizontal",
            "style": "IPY_MODEL_7afa2064952e4ab489fb3d78a0fdbced",
            "value": 891691430
          }
        },
        "e87bc398a24341ae9fcf214f03f4472a": {
          "model_module": "@jupyter-widgets/controls",
          "model_name": "HTMLModel",
          "model_module_version": "1.5.0",
          "state": {
            "_dom_classes": [],
            "_model_module": "@jupyter-widgets/controls",
            "_model_module_version": "1.5.0",
            "_model_name": "HTMLModel",
            "_view_count": null,
            "_view_module": "@jupyter-widgets/controls",
            "_view_module_version": "1.5.0",
            "_view_name": "HTMLView",
            "description": "",
            "description_tooltip": null,
            "layout": "IPY_MODEL_03059f42d0c342e1ba44780324a1fc20",
            "placeholder": "​",
            "style": "IPY_MODEL_9292f13f99f94d5a813ee764aecd4a4c",
            "value": " 850M/850M [00:27&lt;00:00, 40.8MB/s]"
          }
        },
        "087b3acd9ca84c769d9b62466298ed1e": {
          "model_module": "@jupyter-widgets/base",
          "model_name": "LayoutModel",
          "model_module_version": "1.2.0",
          "state": {
            "_model_module": "@jupyter-widgets/base",
            "_model_module_version": "1.2.0",
            "_model_name": "LayoutModel",
            "_view_count": null,
            "_view_module": "@jupyter-widgets/base",
            "_view_module_version": "1.2.0",
            "_view_name": "LayoutView",
            "align_content": null,
            "align_items": null,
            "align_self": null,
            "border": null,
            "bottom": null,
            "display": null,
            "flex": null,
            "flex_flow": null,
            "grid_area": null,
            "grid_auto_columns": null,
            "grid_auto_flow": null,
            "grid_auto_rows": null,
            "grid_column": null,
            "grid_gap": null,
            "grid_row": null,
            "grid_template_areas": null,
            "grid_template_columns": null,
            "grid_template_rows": null,
            "height": null,
            "justify_content": null,
            "justify_items": null,
            "left": null,
            "margin": null,
            "max_height": null,
            "max_width": null,
            "min_height": null,
            "min_width": null,
            "object_fit": null,
            "object_position": null,
            "order": null,
            "overflow": null,
            "overflow_x": null,
            "overflow_y": null,
            "padding": null,
            "right": null,
            "top": null,
            "visibility": null,
            "width": null
          }
        },
        "dc320bb2ef394e8d9f5deb04dcabc007": {
          "model_module": "@jupyter-widgets/base",
          "model_name": "LayoutModel",
          "model_module_version": "1.2.0",
          "state": {
            "_model_module": "@jupyter-widgets/base",
            "_model_module_version": "1.2.0",
            "_model_name": "LayoutModel",
            "_view_count": null,
            "_view_module": "@jupyter-widgets/base",
            "_view_module_version": "1.2.0",
            "_view_name": "LayoutView",
            "align_content": null,
            "align_items": null,
            "align_self": null,
            "border": null,
            "bottom": null,
            "display": null,
            "flex": null,
            "flex_flow": null,
            "grid_area": null,
            "grid_auto_columns": null,
            "grid_auto_flow": null,
            "grid_auto_rows": null,
            "grid_column": null,
            "grid_gap": null,
            "grid_row": null,
            "grid_template_areas": null,
            "grid_template_columns": null,
            "grid_template_rows": null,
            "height": null,
            "justify_content": null,
            "justify_items": null,
            "left": null,
            "margin": null,
            "max_height": null,
            "max_width": null,
            "min_height": null,
            "min_width": null,
            "object_fit": null,
            "object_position": null,
            "order": null,
            "overflow": null,
            "overflow_x": null,
            "overflow_y": null,
            "padding": null,
            "right": null,
            "top": null,
            "visibility": null,
            "width": null
          }
        },
        "ce04f15f0df348a5bb5c8a00ac8976bb": {
          "model_module": "@jupyter-widgets/controls",
          "model_name": "DescriptionStyleModel",
          "model_module_version": "1.5.0",
          "state": {
            "_model_module": "@jupyter-widgets/controls",
            "_model_module_version": "1.5.0",
            "_model_name": "DescriptionStyleModel",
            "_view_count": null,
            "_view_module": "@jupyter-widgets/base",
            "_view_module_version": "1.2.0",
            "_view_name": "StyleView",
            "description_width": ""
          }
        },
        "620c483fdb78470986a47a2bed7039bb": {
          "model_module": "@jupyter-widgets/base",
          "model_name": "LayoutModel",
          "model_module_version": "1.2.0",
          "state": {
            "_model_module": "@jupyter-widgets/base",
            "_model_module_version": "1.2.0",
            "_model_name": "LayoutModel",
            "_view_count": null,
            "_view_module": "@jupyter-widgets/base",
            "_view_module_version": "1.2.0",
            "_view_name": "LayoutView",
            "align_content": null,
            "align_items": null,
            "align_self": null,
            "border": null,
            "bottom": null,
            "display": null,
            "flex": null,
            "flex_flow": null,
            "grid_area": null,
            "grid_auto_columns": null,
            "grid_auto_flow": null,
            "grid_auto_rows": null,
            "grid_column": null,
            "grid_gap": null,
            "grid_row": null,
            "grid_template_areas": null,
            "grid_template_columns": null,
            "grid_template_rows": null,
            "height": null,
            "justify_content": null,
            "justify_items": null,
            "left": null,
            "margin": null,
            "max_height": null,
            "max_width": null,
            "min_height": null,
            "min_width": null,
            "object_fit": null,
            "object_position": null,
            "order": null,
            "overflow": null,
            "overflow_x": null,
            "overflow_y": null,
            "padding": null,
            "right": null,
            "top": null,
            "visibility": null,
            "width": null
          }
        },
        "7afa2064952e4ab489fb3d78a0fdbced": {
          "model_module": "@jupyter-widgets/controls",
          "model_name": "ProgressStyleModel",
          "model_module_version": "1.5.0",
          "state": {
            "_model_module": "@jupyter-widgets/controls",
            "_model_module_version": "1.5.0",
            "_model_name": "ProgressStyleModel",
            "_view_count": null,
            "_view_module": "@jupyter-widgets/base",
            "_view_module_version": "1.2.0",
            "_view_name": "StyleView",
            "bar_color": null,
            "description_width": ""
          }
        },
        "03059f42d0c342e1ba44780324a1fc20": {
          "model_module": "@jupyter-widgets/base",
          "model_name": "LayoutModel",
          "model_module_version": "1.2.0",
          "state": {
            "_model_module": "@jupyter-widgets/base",
            "_model_module_version": "1.2.0",
            "_model_name": "LayoutModel",
            "_view_count": null,
            "_view_module": "@jupyter-widgets/base",
            "_view_module_version": "1.2.0",
            "_view_name": "LayoutView",
            "align_content": null,
            "align_items": null,
            "align_self": null,
            "border": null,
            "bottom": null,
            "display": null,
            "flex": null,
            "flex_flow": null,
            "grid_area": null,
            "grid_auto_columns": null,
            "grid_auto_flow": null,
            "grid_auto_rows": null,
            "grid_column": null,
            "grid_gap": null,
            "grid_row": null,
            "grid_template_areas": null,
            "grid_template_columns": null,
            "grid_template_rows": null,
            "height": null,
            "justify_content": null,
            "justify_items": null,
            "left": null,
            "margin": null,
            "max_height": null,
            "max_width": null,
            "min_height": null,
            "min_width": null,
            "object_fit": null,
            "object_position": null,
            "order": null,
            "overflow": null,
            "overflow_x": null,
            "overflow_y": null,
            "padding": null,
            "right": null,
            "top": null,
            "visibility": null,
            "width": null
          }
        },
        "9292f13f99f94d5a813ee764aecd4a4c": {
          "model_module": "@jupyter-widgets/controls",
          "model_name": "DescriptionStyleModel",
          "model_module_version": "1.5.0",
          "state": {
            "_model_module": "@jupyter-widgets/controls",
            "_model_module_version": "1.5.0",
            "_model_name": "DescriptionStyleModel",
            "_view_count": null,
            "_view_module": "@jupyter-widgets/base",
            "_view_module_version": "1.2.0",
            "_view_name": "StyleView",
            "description_width": ""
          }
        },
        "054334dc3bf244e9944bdf4bf74e5643": {
          "model_module": "@jupyter-widgets/controls",
          "model_name": "HBoxModel",
          "model_module_version": "1.5.0",
          "state": {
            "_dom_classes": [],
            "_model_module": "@jupyter-widgets/controls",
            "_model_module_version": "1.5.0",
            "_model_name": "HBoxModel",
            "_view_count": null,
            "_view_module": "@jupyter-widgets/controls",
            "_view_module_version": "1.5.0",
            "_view_name": "HBoxView",
            "box_style": "",
            "children": [
              "IPY_MODEL_e21ba232733c41b5b84b9c85ab87cfa7",
              "IPY_MODEL_a694feaacd2a4dfeaf63f8eb8812992f",
              "IPY_MODEL_7b84e422c4414ad2a07e7c132751c7e5"
            ],
            "layout": "IPY_MODEL_fbb113598cbb4655b4294fca8188759d"
          }
        },
        "e21ba232733c41b5b84b9c85ab87cfa7": {
          "model_module": "@jupyter-widgets/controls",
          "model_name": "HTMLModel",
          "model_module_version": "1.5.0",
          "state": {
            "_dom_classes": [],
            "_model_module": "@jupyter-widgets/controls",
            "_model_module_version": "1.5.0",
            "_model_name": "HTMLModel",
            "_view_count": null,
            "_view_module": "@jupyter-widgets/controls",
            "_view_module_version": "1.5.0",
            "_view_name": "HTMLView",
            "description": "",
            "description_tooltip": null,
            "layout": "IPY_MODEL_aa949967c2504791bd816d954ad9d1d9",
            "placeholder": "​",
            "style": "IPY_MODEL_9f95c817071144f5b2c130469610e031",
            "value": "Downloading builder script: "
          }
        },
        "a694feaacd2a4dfeaf63f8eb8812992f": {
          "model_module": "@jupyter-widgets/controls",
          "model_name": "FloatProgressModel",
          "model_module_version": "1.5.0",
          "state": {
            "_dom_classes": [],
            "_model_module": "@jupyter-widgets/controls",
            "_model_module_version": "1.5.0",
            "_model_name": "FloatProgressModel",
            "_view_count": null,
            "_view_module": "@jupyter-widgets/controls",
            "_view_module_version": "1.5.0",
            "_view_name": "ProgressView",
            "bar_style": "success",
            "description": "",
            "description_tooltip": null,
            "layout": "IPY_MODEL_17e96ce50f4a445e967840f4dc8e7782",
            "max": 2160,
            "min": 0,
            "orientation": "horizontal",
            "style": "IPY_MODEL_d29ebe0c502547a3af888c6c7f01b10d",
            "value": 2160
          }
        },
        "7b84e422c4414ad2a07e7c132751c7e5": {
          "model_module": "@jupyter-widgets/controls",
          "model_name": "HTMLModel",
          "model_module_version": "1.5.0",
          "state": {
            "_dom_classes": [],
            "_model_module": "@jupyter-widgets/controls",
            "_model_module_version": "1.5.0",
            "_model_name": "HTMLModel",
            "_view_count": null,
            "_view_module": "@jupyter-widgets/controls",
            "_view_module_version": "1.5.0",
            "_view_name": "HTMLView",
            "description": "",
            "description_tooltip": null,
            "layout": "IPY_MODEL_3232997128b444da8fd9ae5737c56d15",
            "placeholder": "​",
            "style": "IPY_MODEL_793ac9a88b7b449aa7aaead655642cf5",
            "value": " 5.60k/? [00:00&lt;00:00, 98.7kB/s]"
          }
        },
        "fbb113598cbb4655b4294fca8188759d": {
          "model_module": "@jupyter-widgets/base",
          "model_name": "LayoutModel",
          "model_module_version": "1.2.0",
          "state": {
            "_model_module": "@jupyter-widgets/base",
            "_model_module_version": "1.2.0",
            "_model_name": "LayoutModel",
            "_view_count": null,
            "_view_module": "@jupyter-widgets/base",
            "_view_module_version": "1.2.0",
            "_view_name": "LayoutView",
            "align_content": null,
            "align_items": null,
            "align_self": null,
            "border": null,
            "bottom": null,
            "display": null,
            "flex": null,
            "flex_flow": null,
            "grid_area": null,
            "grid_auto_columns": null,
            "grid_auto_flow": null,
            "grid_auto_rows": null,
            "grid_column": null,
            "grid_gap": null,
            "grid_row": null,
            "grid_template_areas": null,
            "grid_template_columns": null,
            "grid_template_rows": null,
            "height": null,
            "justify_content": null,
            "justify_items": null,
            "left": null,
            "margin": null,
            "max_height": null,
            "max_width": null,
            "min_height": null,
            "min_width": null,
            "object_fit": null,
            "object_position": null,
            "order": null,
            "overflow": null,
            "overflow_x": null,
            "overflow_y": null,
            "padding": null,
            "right": null,
            "top": null,
            "visibility": null,
            "width": null
          }
        },
        "aa949967c2504791bd816d954ad9d1d9": {
          "model_module": "@jupyter-widgets/base",
          "model_name": "LayoutModel",
          "model_module_version": "1.2.0",
          "state": {
            "_model_module": "@jupyter-widgets/base",
            "_model_module_version": "1.2.0",
            "_model_name": "LayoutModel",
            "_view_count": null,
            "_view_module": "@jupyter-widgets/base",
            "_view_module_version": "1.2.0",
            "_view_name": "LayoutView",
            "align_content": null,
            "align_items": null,
            "align_self": null,
            "border": null,
            "bottom": null,
            "display": null,
            "flex": null,
            "flex_flow": null,
            "grid_area": null,
            "grid_auto_columns": null,
            "grid_auto_flow": null,
            "grid_auto_rows": null,
            "grid_column": null,
            "grid_gap": null,
            "grid_row": null,
            "grid_template_areas": null,
            "grid_template_columns": null,
            "grid_template_rows": null,
            "height": null,
            "justify_content": null,
            "justify_items": null,
            "left": null,
            "margin": null,
            "max_height": null,
            "max_width": null,
            "min_height": null,
            "min_width": null,
            "object_fit": null,
            "object_position": null,
            "order": null,
            "overflow": null,
            "overflow_x": null,
            "overflow_y": null,
            "padding": null,
            "right": null,
            "top": null,
            "visibility": null,
            "width": null
          }
        },
        "9f95c817071144f5b2c130469610e031": {
          "model_module": "@jupyter-widgets/controls",
          "model_name": "DescriptionStyleModel",
          "model_module_version": "1.5.0",
          "state": {
            "_model_module": "@jupyter-widgets/controls",
            "_model_module_version": "1.5.0",
            "_model_name": "DescriptionStyleModel",
            "_view_count": null,
            "_view_module": "@jupyter-widgets/base",
            "_view_module_version": "1.2.0",
            "_view_name": "StyleView",
            "description_width": ""
          }
        },
        "17e96ce50f4a445e967840f4dc8e7782": {
          "model_module": "@jupyter-widgets/base",
          "model_name": "LayoutModel",
          "model_module_version": "1.2.0",
          "state": {
            "_model_module": "@jupyter-widgets/base",
            "_model_module_version": "1.2.0",
            "_model_name": "LayoutModel",
            "_view_count": null,
            "_view_module": "@jupyter-widgets/base",
            "_view_module_version": "1.2.0",
            "_view_name": "LayoutView",
            "align_content": null,
            "align_items": null,
            "align_self": null,
            "border": null,
            "bottom": null,
            "display": null,
            "flex": null,
            "flex_flow": null,
            "grid_area": null,
            "grid_auto_columns": null,
            "grid_auto_flow": null,
            "grid_auto_rows": null,
            "grid_column": null,
            "grid_gap": null,
            "grid_row": null,
            "grid_template_areas": null,
            "grid_template_columns": null,
            "grid_template_rows": null,
            "height": null,
            "justify_content": null,
            "justify_items": null,
            "left": null,
            "margin": null,
            "max_height": null,
            "max_width": null,
            "min_height": null,
            "min_width": null,
            "object_fit": null,
            "object_position": null,
            "order": null,
            "overflow": null,
            "overflow_x": null,
            "overflow_y": null,
            "padding": null,
            "right": null,
            "top": null,
            "visibility": null,
            "width": null
          }
        },
        "d29ebe0c502547a3af888c6c7f01b10d": {
          "model_module": "@jupyter-widgets/controls",
          "model_name": "ProgressStyleModel",
          "model_module_version": "1.5.0",
          "state": {
            "_model_module": "@jupyter-widgets/controls",
            "_model_module_version": "1.5.0",
            "_model_name": "ProgressStyleModel",
            "_view_count": null,
            "_view_module": "@jupyter-widgets/base",
            "_view_module_version": "1.2.0",
            "_view_name": "StyleView",
            "bar_color": null,
            "description_width": ""
          }
        },
        "3232997128b444da8fd9ae5737c56d15": {
          "model_module": "@jupyter-widgets/base",
          "model_name": "LayoutModel",
          "model_module_version": "1.2.0",
          "state": {
            "_model_module": "@jupyter-widgets/base",
            "_model_module_version": "1.2.0",
            "_model_name": "LayoutModel",
            "_view_count": null,
            "_view_module": "@jupyter-widgets/base",
            "_view_module_version": "1.2.0",
            "_view_name": "LayoutView",
            "align_content": null,
            "align_items": null,
            "align_self": null,
            "border": null,
            "bottom": null,
            "display": null,
            "flex": null,
            "flex_flow": null,
            "grid_area": null,
            "grid_auto_columns": null,
            "grid_auto_flow": null,
            "grid_auto_rows": null,
            "grid_column": null,
            "grid_gap": null,
            "grid_row": null,
            "grid_template_areas": null,
            "grid_template_columns": null,
            "grid_template_rows": null,
            "height": null,
            "justify_content": null,
            "justify_items": null,
            "left": null,
            "margin": null,
            "max_height": null,
            "max_width": null,
            "min_height": null,
            "min_width": null,
            "object_fit": null,
            "object_position": null,
            "order": null,
            "overflow": null,
            "overflow_x": null,
            "overflow_y": null,
            "padding": null,
            "right": null,
            "top": null,
            "visibility": null,
            "width": null
          }
        },
        "793ac9a88b7b449aa7aaead655642cf5": {
          "model_module": "@jupyter-widgets/controls",
          "model_name": "DescriptionStyleModel",
          "model_module_version": "1.5.0",
          "state": {
            "_model_module": "@jupyter-widgets/controls",
            "_model_module_version": "1.5.0",
            "_model_name": "DescriptionStyleModel",
            "_view_count": null,
            "_view_module": "@jupyter-widgets/base",
            "_view_module_version": "1.2.0",
            "_view_name": "StyleView",
            "description_width": ""
          }
        },
        "016cbce53bee4a7491ec7b42bd78dd9c": {
          "model_module": "@jupyter-widgets/controls",
          "model_name": "HBoxModel",
          "model_module_version": "1.5.0",
          "state": {
            "_dom_classes": [],
            "_model_module": "@jupyter-widgets/controls",
            "_model_module_version": "1.5.0",
            "_model_name": "HBoxModel",
            "_view_count": null,
            "_view_module": "@jupyter-widgets/controls",
            "_view_module_version": "1.5.0",
            "_view_name": "HBoxView",
            "box_style": "",
            "children": [
              "IPY_MODEL_19052213b282471ca3461727c29571eb",
              "IPY_MODEL_ba047ed0a8834f08aaf56285a21f5120",
              "IPY_MODEL_a3d2d939a4b54a5bb0157bc5ca91fd5c"
            ],
            "layout": "IPY_MODEL_a81fddb3f15340c3ad56d2b8c6cc1618"
          }
        },
        "19052213b282471ca3461727c29571eb": {
          "model_module": "@jupyter-widgets/controls",
          "model_name": "HTMLModel",
          "model_module_version": "1.5.0",
          "state": {
            "_dom_classes": [],
            "_model_module": "@jupyter-widgets/controls",
            "_model_module_version": "1.5.0",
            "_model_name": "HTMLModel",
            "_view_count": null,
            "_view_module": "@jupyter-widgets/controls",
            "_view_module_version": "1.5.0",
            "_view_name": "HTMLView",
            "description": "",
            "description_tooltip": null,
            "layout": "IPY_MODEL_069ab7d224214c9ba1588dc61f9cb18c",
            "placeholder": "​",
            "style": "IPY_MODEL_e3b0f95954184b3795f255c0bfc1e88a",
            "value": "Downloading: 100%"
          }
        },
        "ba047ed0a8834f08aaf56285a21f5120": {
          "model_module": "@jupyter-widgets/controls",
          "model_name": "FloatProgressModel",
          "model_module_version": "1.5.0",
          "state": {
            "_dom_classes": [],
            "_model_module": "@jupyter-widgets/controls",
            "_model_module_version": "1.5.0",
            "_model_name": "FloatProgressModel",
            "_view_count": null,
            "_view_module": "@jupyter-widgets/controls",
            "_view_module_version": "1.5.0",
            "_view_name": "ProgressView",
            "bar_style": "success",
            "description": "",
            "description_tooltip": null,
            "layout": "IPY_MODEL_9aa6cda342d94e39be121e27f8cbb606",
            "max": 791656,
            "min": 0,
            "orientation": "horizontal",
            "style": "IPY_MODEL_bcf88568281344cebc43ffc65f52af69",
            "value": 791656
          }
        },
        "a3d2d939a4b54a5bb0157bc5ca91fd5c": {
          "model_module": "@jupyter-widgets/controls",
          "model_name": "HTMLModel",
          "model_module_version": "1.5.0",
          "state": {
            "_dom_classes": [],
            "_model_module": "@jupyter-widgets/controls",
            "_model_module_version": "1.5.0",
            "_model_name": "HTMLModel",
            "_view_count": null,
            "_view_module": "@jupyter-widgets/controls",
            "_view_module_version": "1.5.0",
            "_view_name": "HTMLView",
            "description": "",
            "description_tooltip": null,
            "layout": "IPY_MODEL_7f503d30158a40c69932a199843819d0",
            "placeholder": "​",
            "style": "IPY_MODEL_8e3c709f72b748f5a1947bae2d4b279e",
            "value": " 773k/773k [00:00&lt;00:00, 3.80MB/s]"
          }
        },
        "a81fddb3f15340c3ad56d2b8c6cc1618": {
          "model_module": "@jupyter-widgets/base",
          "model_name": "LayoutModel",
          "model_module_version": "1.2.0",
          "state": {
            "_model_module": "@jupyter-widgets/base",
            "_model_module_version": "1.2.0",
            "_model_name": "LayoutModel",
            "_view_count": null,
            "_view_module": "@jupyter-widgets/base",
            "_view_module_version": "1.2.0",
            "_view_name": "LayoutView",
            "align_content": null,
            "align_items": null,
            "align_self": null,
            "border": null,
            "bottom": null,
            "display": null,
            "flex": null,
            "flex_flow": null,
            "grid_area": null,
            "grid_auto_columns": null,
            "grid_auto_flow": null,
            "grid_auto_rows": null,
            "grid_column": null,
            "grid_gap": null,
            "grid_row": null,
            "grid_template_areas": null,
            "grid_template_columns": null,
            "grid_template_rows": null,
            "height": null,
            "justify_content": null,
            "justify_items": null,
            "left": null,
            "margin": null,
            "max_height": null,
            "max_width": null,
            "min_height": null,
            "min_width": null,
            "object_fit": null,
            "object_position": null,
            "order": null,
            "overflow": null,
            "overflow_x": null,
            "overflow_y": null,
            "padding": null,
            "right": null,
            "top": null,
            "visibility": null,
            "width": null
          }
        },
        "069ab7d224214c9ba1588dc61f9cb18c": {
          "model_module": "@jupyter-widgets/base",
          "model_name": "LayoutModel",
          "model_module_version": "1.2.0",
          "state": {
            "_model_module": "@jupyter-widgets/base",
            "_model_module_version": "1.2.0",
            "_model_name": "LayoutModel",
            "_view_count": null,
            "_view_module": "@jupyter-widgets/base",
            "_view_module_version": "1.2.0",
            "_view_name": "LayoutView",
            "align_content": null,
            "align_items": null,
            "align_self": null,
            "border": null,
            "bottom": null,
            "display": null,
            "flex": null,
            "flex_flow": null,
            "grid_area": null,
            "grid_auto_columns": null,
            "grid_auto_flow": null,
            "grid_auto_rows": null,
            "grid_column": null,
            "grid_gap": null,
            "grid_row": null,
            "grid_template_areas": null,
            "grid_template_columns": null,
            "grid_template_rows": null,
            "height": null,
            "justify_content": null,
            "justify_items": null,
            "left": null,
            "margin": null,
            "max_height": null,
            "max_width": null,
            "min_height": null,
            "min_width": null,
            "object_fit": null,
            "object_position": null,
            "order": null,
            "overflow": null,
            "overflow_x": null,
            "overflow_y": null,
            "padding": null,
            "right": null,
            "top": null,
            "visibility": null,
            "width": null
          }
        },
        "e3b0f95954184b3795f255c0bfc1e88a": {
          "model_module": "@jupyter-widgets/controls",
          "model_name": "DescriptionStyleModel",
          "model_module_version": "1.5.0",
          "state": {
            "_model_module": "@jupyter-widgets/controls",
            "_model_module_version": "1.5.0",
            "_model_name": "DescriptionStyleModel",
            "_view_count": null,
            "_view_module": "@jupyter-widgets/base",
            "_view_module_version": "1.2.0",
            "_view_name": "StyleView",
            "description_width": ""
          }
        },
        "9aa6cda342d94e39be121e27f8cbb606": {
          "model_module": "@jupyter-widgets/base",
          "model_name": "LayoutModel",
          "model_module_version": "1.2.0",
          "state": {
            "_model_module": "@jupyter-widgets/base",
            "_model_module_version": "1.2.0",
            "_model_name": "LayoutModel",
            "_view_count": null,
            "_view_module": "@jupyter-widgets/base",
            "_view_module_version": "1.2.0",
            "_view_name": "LayoutView",
            "align_content": null,
            "align_items": null,
            "align_self": null,
            "border": null,
            "bottom": null,
            "display": null,
            "flex": null,
            "flex_flow": null,
            "grid_area": null,
            "grid_auto_columns": null,
            "grid_auto_flow": null,
            "grid_auto_rows": null,
            "grid_column": null,
            "grid_gap": null,
            "grid_row": null,
            "grid_template_areas": null,
            "grid_template_columns": null,
            "grid_template_rows": null,
            "height": null,
            "justify_content": null,
            "justify_items": null,
            "left": null,
            "margin": null,
            "max_height": null,
            "max_width": null,
            "min_height": null,
            "min_width": null,
            "object_fit": null,
            "object_position": null,
            "order": null,
            "overflow": null,
            "overflow_x": null,
            "overflow_y": null,
            "padding": null,
            "right": null,
            "top": null,
            "visibility": null,
            "width": null
          }
        },
        "bcf88568281344cebc43ffc65f52af69": {
          "model_module": "@jupyter-widgets/controls",
          "model_name": "ProgressStyleModel",
          "model_module_version": "1.5.0",
          "state": {
            "_model_module": "@jupyter-widgets/controls",
            "_model_module_version": "1.5.0",
            "_model_name": "ProgressStyleModel",
            "_view_count": null,
            "_view_module": "@jupyter-widgets/base",
            "_view_module_version": "1.2.0",
            "_view_name": "StyleView",
            "bar_color": null,
            "description_width": ""
          }
        },
        "7f503d30158a40c69932a199843819d0": {
          "model_module": "@jupyter-widgets/base",
          "model_name": "LayoutModel",
          "model_module_version": "1.2.0",
          "state": {
            "_model_module": "@jupyter-widgets/base",
            "_model_module_version": "1.2.0",
            "_model_name": "LayoutModel",
            "_view_count": null,
            "_view_module": "@jupyter-widgets/base",
            "_view_module_version": "1.2.0",
            "_view_name": "LayoutView",
            "align_content": null,
            "align_items": null,
            "align_self": null,
            "border": null,
            "bottom": null,
            "display": null,
            "flex": null,
            "flex_flow": null,
            "grid_area": null,
            "grid_auto_columns": null,
            "grid_auto_flow": null,
            "grid_auto_rows": null,
            "grid_column": null,
            "grid_gap": null,
            "grid_row": null,
            "grid_template_areas": null,
            "grid_template_columns": null,
            "grid_template_rows": null,
            "height": null,
            "justify_content": null,
            "justify_items": null,
            "left": null,
            "margin": null,
            "max_height": null,
            "max_width": null,
            "min_height": null,
            "min_width": null,
            "object_fit": null,
            "object_position": null,
            "order": null,
            "overflow": null,
            "overflow_x": null,
            "overflow_y": null,
            "padding": null,
            "right": null,
            "top": null,
            "visibility": null,
            "width": null
          }
        },
        "8e3c709f72b748f5a1947bae2d4b279e": {
          "model_module": "@jupyter-widgets/controls",
          "model_name": "DescriptionStyleModel",
          "model_module_version": "1.5.0",
          "state": {
            "_model_module": "@jupyter-widgets/controls",
            "_model_module_version": "1.5.0",
            "_model_name": "DescriptionStyleModel",
            "_view_count": null,
            "_view_module": "@jupyter-widgets/base",
            "_view_module_version": "1.2.0",
            "_view_name": "StyleView",
            "description_width": ""
          }
        },
        "36941291ab1b4a249f126d46d6300e9f": {
          "model_module": "@jupyter-widgets/controls",
          "model_name": "HBoxModel",
          "model_module_version": "1.5.0",
          "state": {
            "_dom_classes": [],
            "_model_module": "@jupyter-widgets/controls",
            "_model_module_version": "1.5.0",
            "_model_name": "HBoxModel",
            "_view_count": null,
            "_view_module": "@jupyter-widgets/controls",
            "_view_module_version": "1.5.0",
            "_view_name": "HBoxView",
            "box_style": "",
            "children": [
              "IPY_MODEL_6ca787f0e2734332bcd25ff5b320d5ca",
              "IPY_MODEL_7a5875df3a3a43e7bb888e23c4d24e8c",
              "IPY_MODEL_001e94a3ea07460385ac29bb9b9e8403"
            ],
            "layout": "IPY_MODEL_b13c62560a434c6cb18ca998068f4b92"
          }
        },
        "6ca787f0e2734332bcd25ff5b320d5ca": {
          "model_module": "@jupyter-widgets/controls",
          "model_name": "HTMLModel",
          "model_module_version": "1.5.0",
          "state": {
            "_dom_classes": [],
            "_model_module": "@jupyter-widgets/controls",
            "_model_module_version": "1.5.0",
            "_model_name": "HTMLModel",
            "_view_count": null,
            "_view_module": "@jupyter-widgets/controls",
            "_view_module_version": "1.5.0",
            "_view_name": "HTMLView",
            "description": "",
            "description_tooltip": null,
            "layout": "IPY_MODEL_bd4a97b69f9f4778b79cab063eeaf382",
            "placeholder": "​",
            "style": "IPY_MODEL_70a5a90beb614f37b50635b85ab66092",
            "value": "Downloading: 100%"
          }
        },
        "7a5875df3a3a43e7bb888e23c4d24e8c": {
          "model_module": "@jupyter-widgets/controls",
          "model_name": "FloatProgressModel",
          "model_module_version": "1.5.0",
          "state": {
            "_dom_classes": [],
            "_model_module": "@jupyter-widgets/controls",
            "_model_module_version": "1.5.0",
            "_model_name": "FloatProgressModel",
            "_view_count": null,
            "_view_module": "@jupyter-widgets/controls",
            "_view_module_version": "1.5.0",
            "_view_name": "ProgressView",
            "bar_style": "success",
            "description": "",
            "description_tooltip": null,
            "layout": "IPY_MODEL_5e111c0377fe4925a503493f510f4b00",
            "max": 1786,
            "min": 0,
            "orientation": "horizontal",
            "style": "IPY_MODEL_07a610f8bdc34fc8a10eeb335968307b",
            "value": 1786
          }
        },
        "001e94a3ea07460385ac29bb9b9e8403": {
          "model_module": "@jupyter-widgets/controls",
          "model_name": "HTMLModel",
          "model_module_version": "1.5.0",
          "state": {
            "_dom_classes": [],
            "_model_module": "@jupyter-widgets/controls",
            "_model_module_version": "1.5.0",
            "_model_name": "HTMLModel",
            "_view_count": null,
            "_view_module": "@jupyter-widgets/controls",
            "_view_module_version": "1.5.0",
            "_view_name": "HTMLView",
            "description": "",
            "description_tooltip": null,
            "layout": "IPY_MODEL_4b02ee0850804dd9b9d63cf41c672c35",
            "placeholder": "​",
            "style": "IPY_MODEL_cc07332968d34796b2dc3d5742b4f1a5",
            "value": " 1.74k/1.74k [00:00&lt;00:00, 47.4kB/s]"
          }
        },
        "b13c62560a434c6cb18ca998068f4b92": {
          "model_module": "@jupyter-widgets/base",
          "model_name": "LayoutModel",
          "model_module_version": "1.2.0",
          "state": {
            "_model_module": "@jupyter-widgets/base",
            "_model_module_version": "1.2.0",
            "_model_name": "LayoutModel",
            "_view_count": null,
            "_view_module": "@jupyter-widgets/base",
            "_view_module_version": "1.2.0",
            "_view_name": "LayoutView",
            "align_content": null,
            "align_items": null,
            "align_self": null,
            "border": null,
            "bottom": null,
            "display": null,
            "flex": null,
            "flex_flow": null,
            "grid_area": null,
            "grid_auto_columns": null,
            "grid_auto_flow": null,
            "grid_auto_rows": null,
            "grid_column": null,
            "grid_gap": null,
            "grid_row": null,
            "grid_template_areas": null,
            "grid_template_columns": null,
            "grid_template_rows": null,
            "height": null,
            "justify_content": null,
            "justify_items": null,
            "left": null,
            "margin": null,
            "max_height": null,
            "max_width": null,
            "min_height": null,
            "min_width": null,
            "object_fit": null,
            "object_position": null,
            "order": null,
            "overflow": null,
            "overflow_x": null,
            "overflow_y": null,
            "padding": null,
            "right": null,
            "top": null,
            "visibility": null,
            "width": null
          }
        },
        "bd4a97b69f9f4778b79cab063eeaf382": {
          "model_module": "@jupyter-widgets/base",
          "model_name": "LayoutModel",
          "model_module_version": "1.2.0",
          "state": {
            "_model_module": "@jupyter-widgets/base",
            "_model_module_version": "1.2.0",
            "_model_name": "LayoutModel",
            "_view_count": null,
            "_view_module": "@jupyter-widgets/base",
            "_view_module_version": "1.2.0",
            "_view_name": "LayoutView",
            "align_content": null,
            "align_items": null,
            "align_self": null,
            "border": null,
            "bottom": null,
            "display": null,
            "flex": null,
            "flex_flow": null,
            "grid_area": null,
            "grid_auto_columns": null,
            "grid_auto_flow": null,
            "grid_auto_rows": null,
            "grid_column": null,
            "grid_gap": null,
            "grid_row": null,
            "grid_template_areas": null,
            "grid_template_columns": null,
            "grid_template_rows": null,
            "height": null,
            "justify_content": null,
            "justify_items": null,
            "left": null,
            "margin": null,
            "max_height": null,
            "max_width": null,
            "min_height": null,
            "min_width": null,
            "object_fit": null,
            "object_position": null,
            "order": null,
            "overflow": null,
            "overflow_x": null,
            "overflow_y": null,
            "padding": null,
            "right": null,
            "top": null,
            "visibility": null,
            "width": null
          }
        },
        "70a5a90beb614f37b50635b85ab66092": {
          "model_module": "@jupyter-widgets/controls",
          "model_name": "DescriptionStyleModel",
          "model_module_version": "1.5.0",
          "state": {
            "_model_module": "@jupyter-widgets/controls",
            "_model_module_version": "1.5.0",
            "_model_name": "DescriptionStyleModel",
            "_view_count": null,
            "_view_module": "@jupyter-widgets/base",
            "_view_module_version": "1.2.0",
            "_view_name": "StyleView",
            "description_width": ""
          }
        },
        "5e111c0377fe4925a503493f510f4b00": {
          "model_module": "@jupyter-widgets/base",
          "model_name": "LayoutModel",
          "model_module_version": "1.2.0",
          "state": {
            "_model_module": "@jupyter-widgets/base",
            "_model_module_version": "1.2.0",
            "_model_name": "LayoutModel",
            "_view_count": null,
            "_view_module": "@jupyter-widgets/base",
            "_view_module_version": "1.2.0",
            "_view_name": "LayoutView",
            "align_content": null,
            "align_items": null,
            "align_self": null,
            "border": null,
            "bottom": null,
            "display": null,
            "flex": null,
            "flex_flow": null,
            "grid_area": null,
            "grid_auto_columns": null,
            "grid_auto_flow": null,
            "grid_auto_rows": null,
            "grid_column": null,
            "grid_gap": null,
            "grid_row": null,
            "grid_template_areas": null,
            "grid_template_columns": null,
            "grid_template_rows": null,
            "height": null,
            "justify_content": null,
            "justify_items": null,
            "left": null,
            "margin": null,
            "max_height": null,
            "max_width": null,
            "min_height": null,
            "min_width": null,
            "object_fit": null,
            "object_position": null,
            "order": null,
            "overflow": null,
            "overflow_x": null,
            "overflow_y": null,
            "padding": null,
            "right": null,
            "top": null,
            "visibility": null,
            "width": null
          }
        },
        "07a610f8bdc34fc8a10eeb335968307b": {
          "model_module": "@jupyter-widgets/controls",
          "model_name": "ProgressStyleModel",
          "model_module_version": "1.5.0",
          "state": {
            "_model_module": "@jupyter-widgets/controls",
            "_model_module_version": "1.5.0",
            "_model_name": "ProgressStyleModel",
            "_view_count": null,
            "_view_module": "@jupyter-widgets/base",
            "_view_module_version": "1.2.0",
            "_view_name": "StyleView",
            "bar_color": null,
            "description_width": ""
          }
        },
        "4b02ee0850804dd9b9d63cf41c672c35": {
          "model_module": "@jupyter-widgets/base",
          "model_name": "LayoutModel",
          "model_module_version": "1.2.0",
          "state": {
            "_model_module": "@jupyter-widgets/base",
            "_model_module_version": "1.2.0",
            "_model_name": "LayoutModel",
            "_view_count": null,
            "_view_module": "@jupyter-widgets/base",
            "_view_module_version": "1.2.0",
            "_view_name": "LayoutView",
            "align_content": null,
            "align_items": null,
            "align_self": null,
            "border": null,
            "bottom": null,
            "display": null,
            "flex": null,
            "flex_flow": null,
            "grid_area": null,
            "grid_auto_columns": null,
            "grid_auto_flow": null,
            "grid_auto_rows": null,
            "grid_column": null,
            "grid_gap": null,
            "grid_row": null,
            "grid_template_areas": null,
            "grid_template_columns": null,
            "grid_template_rows": null,
            "height": null,
            "justify_content": null,
            "justify_items": null,
            "left": null,
            "margin": null,
            "max_height": null,
            "max_width": null,
            "min_height": null,
            "min_width": null,
            "object_fit": null,
            "object_position": null,
            "order": null,
            "overflow": null,
            "overflow_x": null,
            "overflow_y": null,
            "padding": null,
            "right": null,
            "top": null,
            "visibility": null,
            "width": null
          }
        },
        "cc07332968d34796b2dc3d5742b4f1a5": {
          "model_module": "@jupyter-widgets/controls",
          "model_name": "DescriptionStyleModel",
          "model_module_version": "1.5.0",
          "state": {
            "_model_module": "@jupyter-widgets/controls",
            "_model_module_version": "1.5.0",
            "_model_name": "DescriptionStyleModel",
            "_view_count": null,
            "_view_module": "@jupyter-widgets/base",
            "_view_module_version": "1.2.0",
            "_view_name": "StyleView",
            "description_width": ""
          }
        },
        "b517738145344ccfadadcd19d755d097": {
          "model_module": "@jupyter-widgets/controls",
          "model_name": "HBoxModel",
          "model_module_version": "1.5.0",
          "state": {
            "_dom_classes": [],
            "_model_module": "@jupyter-widgets/controls",
            "_model_module_version": "1.5.0",
            "_model_name": "HBoxModel",
            "_view_count": null,
            "_view_module": "@jupyter-widgets/controls",
            "_view_module_version": "1.5.0",
            "_view_name": "HBoxView",
            "box_style": "",
            "children": [
              "IPY_MODEL_0d0ce67bf8a0465b95a919af02e4d1b6",
              "IPY_MODEL_13cc3f910d8c4ee3a500594554fc8fb5",
              "IPY_MODEL_927f1634cf444a7b9115b08145ff1880"
            ],
            "layout": "IPY_MODEL_ea5371bdb8ce4164ba05be7b07fed597"
          }
        },
        "0d0ce67bf8a0465b95a919af02e4d1b6": {
          "model_module": "@jupyter-widgets/controls",
          "model_name": "HTMLModel",
          "model_module_version": "1.5.0",
          "state": {
            "_dom_classes": [],
            "_model_module": "@jupyter-widgets/controls",
            "_model_module_version": "1.5.0",
            "_model_name": "HTMLModel",
            "_view_count": null,
            "_view_module": "@jupyter-widgets/controls",
            "_view_module_version": "1.5.0",
            "_view_name": "HTMLView",
            "description": "",
            "description_tooltip": null,
            "layout": "IPY_MODEL_9ab692da9ec148a894697a9e12e19288",
            "placeholder": "​",
            "style": "IPY_MODEL_2d7323345a8445f6b799e34501ddb282",
            "value": "Downloading: 100%"
          }
        },
        "13cc3f910d8c4ee3a500594554fc8fb5": {
          "model_module": "@jupyter-widgets/controls",
          "model_name": "FloatProgressModel",
          "model_module_version": "1.5.0",
          "state": {
            "_dom_classes": [],
            "_model_module": "@jupyter-widgets/controls",
            "_model_module_version": "1.5.0",
            "_model_name": "FloatProgressModel",
            "_view_count": null,
            "_view_module": "@jupyter-widgets/controls",
            "_view_module_version": "1.5.0",
            "_view_name": "ProgressView",
            "bar_style": "success",
            "description": "",
            "description_tooltip": null,
            "layout": "IPY_MODEL_5ab6ae21a16b437a9be923dd620f12d0",
            "max": 2168,
            "min": 0,
            "orientation": "horizontal",
            "style": "IPY_MODEL_5d6fe7117617460484a09bb4f00f80f9",
            "value": 2168
          }
        },
        "927f1634cf444a7b9115b08145ff1880": {
          "model_module": "@jupyter-widgets/controls",
          "model_name": "HTMLModel",
          "model_module_version": "1.5.0",
          "state": {
            "_dom_classes": [],
            "_model_module": "@jupyter-widgets/controls",
            "_model_module_version": "1.5.0",
            "_model_name": "HTMLModel",
            "_view_count": null,
            "_view_module": "@jupyter-widgets/controls",
            "_view_module_version": "1.5.0",
            "_view_name": "HTMLView",
            "description": "",
            "description_tooltip": null,
            "layout": "IPY_MODEL_cd08359b2d634bd381e1b38b77a84a31",
            "placeholder": "​",
            "style": "IPY_MODEL_529c7ee1fa1b492aa05f12920e586387",
            "value": " 2.12k/2.12k [00:00&lt;00:00, 42.6kB/s]"
          }
        },
        "ea5371bdb8ce4164ba05be7b07fed597": {
          "model_module": "@jupyter-widgets/base",
          "model_name": "LayoutModel",
          "model_module_version": "1.2.0",
          "state": {
            "_model_module": "@jupyter-widgets/base",
            "_model_module_version": "1.2.0",
            "_model_name": "LayoutModel",
            "_view_count": null,
            "_view_module": "@jupyter-widgets/base",
            "_view_module_version": "1.2.0",
            "_view_name": "LayoutView",
            "align_content": null,
            "align_items": null,
            "align_self": null,
            "border": null,
            "bottom": null,
            "display": null,
            "flex": null,
            "flex_flow": null,
            "grid_area": null,
            "grid_auto_columns": null,
            "grid_auto_flow": null,
            "grid_auto_rows": null,
            "grid_column": null,
            "grid_gap": null,
            "grid_row": null,
            "grid_template_areas": null,
            "grid_template_columns": null,
            "grid_template_rows": null,
            "height": null,
            "justify_content": null,
            "justify_items": null,
            "left": null,
            "margin": null,
            "max_height": null,
            "max_width": null,
            "min_height": null,
            "min_width": null,
            "object_fit": null,
            "object_position": null,
            "order": null,
            "overflow": null,
            "overflow_x": null,
            "overflow_y": null,
            "padding": null,
            "right": null,
            "top": null,
            "visibility": null,
            "width": null
          }
        },
        "9ab692da9ec148a894697a9e12e19288": {
          "model_module": "@jupyter-widgets/base",
          "model_name": "LayoutModel",
          "model_module_version": "1.2.0",
          "state": {
            "_model_module": "@jupyter-widgets/base",
            "_model_module_version": "1.2.0",
            "_model_name": "LayoutModel",
            "_view_count": null,
            "_view_module": "@jupyter-widgets/base",
            "_view_module_version": "1.2.0",
            "_view_name": "LayoutView",
            "align_content": null,
            "align_items": null,
            "align_self": null,
            "border": null,
            "bottom": null,
            "display": null,
            "flex": null,
            "flex_flow": null,
            "grid_area": null,
            "grid_auto_columns": null,
            "grid_auto_flow": null,
            "grid_auto_rows": null,
            "grid_column": null,
            "grid_gap": null,
            "grid_row": null,
            "grid_template_areas": null,
            "grid_template_columns": null,
            "grid_template_rows": null,
            "height": null,
            "justify_content": null,
            "justify_items": null,
            "left": null,
            "margin": null,
            "max_height": null,
            "max_width": null,
            "min_height": null,
            "min_width": null,
            "object_fit": null,
            "object_position": null,
            "order": null,
            "overflow": null,
            "overflow_x": null,
            "overflow_y": null,
            "padding": null,
            "right": null,
            "top": null,
            "visibility": null,
            "width": null
          }
        },
        "2d7323345a8445f6b799e34501ddb282": {
          "model_module": "@jupyter-widgets/controls",
          "model_name": "DescriptionStyleModel",
          "model_module_version": "1.5.0",
          "state": {
            "_model_module": "@jupyter-widgets/controls",
            "_model_module_version": "1.5.0",
            "_model_name": "DescriptionStyleModel",
            "_view_count": null,
            "_view_module": "@jupyter-widgets/base",
            "_view_module_version": "1.2.0",
            "_view_name": "StyleView",
            "description_width": ""
          }
        },
        "5ab6ae21a16b437a9be923dd620f12d0": {
          "model_module": "@jupyter-widgets/base",
          "model_name": "LayoutModel",
          "model_module_version": "1.2.0",
          "state": {
            "_model_module": "@jupyter-widgets/base",
            "_model_module_version": "1.2.0",
            "_model_name": "LayoutModel",
            "_view_count": null,
            "_view_module": "@jupyter-widgets/base",
            "_view_module_version": "1.2.0",
            "_view_name": "LayoutView",
            "align_content": null,
            "align_items": null,
            "align_self": null,
            "border": null,
            "bottom": null,
            "display": null,
            "flex": null,
            "flex_flow": null,
            "grid_area": null,
            "grid_auto_columns": null,
            "grid_auto_flow": null,
            "grid_auto_rows": null,
            "grid_column": null,
            "grid_gap": null,
            "grid_row": null,
            "grid_template_areas": null,
            "grid_template_columns": null,
            "grid_template_rows": null,
            "height": null,
            "justify_content": null,
            "justify_items": null,
            "left": null,
            "margin": null,
            "max_height": null,
            "max_width": null,
            "min_height": null,
            "min_width": null,
            "object_fit": null,
            "object_position": null,
            "order": null,
            "overflow": null,
            "overflow_x": null,
            "overflow_y": null,
            "padding": null,
            "right": null,
            "top": null,
            "visibility": null,
            "width": null
          }
        },
        "5d6fe7117617460484a09bb4f00f80f9": {
          "model_module": "@jupyter-widgets/controls",
          "model_name": "ProgressStyleModel",
          "model_module_version": "1.5.0",
          "state": {
            "_model_module": "@jupyter-widgets/controls",
            "_model_module_version": "1.5.0",
            "_model_name": "ProgressStyleModel",
            "_view_count": null,
            "_view_module": "@jupyter-widgets/base",
            "_view_module_version": "1.2.0",
            "_view_name": "StyleView",
            "bar_color": null,
            "description_width": ""
          }
        },
        "cd08359b2d634bd381e1b38b77a84a31": {
          "model_module": "@jupyter-widgets/base",
          "model_name": "LayoutModel",
          "model_module_version": "1.2.0",
          "state": {
            "_model_module": "@jupyter-widgets/base",
            "_model_module_version": "1.2.0",
            "_model_name": "LayoutModel",
            "_view_count": null,
            "_view_module": "@jupyter-widgets/base",
            "_view_module_version": "1.2.0",
            "_view_name": "LayoutView",
            "align_content": null,
            "align_items": null,
            "align_self": null,
            "border": null,
            "bottom": null,
            "display": null,
            "flex": null,
            "flex_flow": null,
            "grid_area": null,
            "grid_auto_columns": null,
            "grid_auto_flow": null,
            "grid_auto_rows": null,
            "grid_column": null,
            "grid_gap": null,
            "grid_row": null,
            "grid_template_areas": null,
            "grid_template_columns": null,
            "grid_template_rows": null,
            "height": null,
            "justify_content": null,
            "justify_items": null,
            "left": null,
            "margin": null,
            "max_height": null,
            "max_width": null,
            "min_height": null,
            "min_width": null,
            "object_fit": null,
            "object_position": null,
            "order": null,
            "overflow": null,
            "overflow_x": null,
            "overflow_y": null,
            "padding": null,
            "right": null,
            "top": null,
            "visibility": null,
            "width": null
          }
        },
        "529c7ee1fa1b492aa05f12920e586387": {
          "model_module": "@jupyter-widgets/controls",
          "model_name": "DescriptionStyleModel",
          "model_module_version": "1.5.0",
          "state": {
            "_model_module": "@jupyter-widgets/controls",
            "_model_module_version": "1.5.0",
            "_model_name": "DescriptionStyleModel",
            "_view_count": null,
            "_view_module": "@jupyter-widgets/base",
            "_view_module_version": "1.2.0",
            "_view_name": "StyleView",
            "description_width": ""
          }
        },
        "0fa895c960284857a473d87606ecfe27": {
          "model_module": "@jupyter-widgets/controls",
          "model_name": "HBoxModel",
          "model_module_version": "1.5.0",
          "state": {
            "_dom_classes": [],
            "_model_module": "@jupyter-widgets/controls",
            "_model_module_version": "1.5.0",
            "_model_name": "HBoxModel",
            "_view_count": null,
            "_view_module": "@jupyter-widgets/controls",
            "_view_module_version": "1.5.0",
            "_view_name": "HBoxView",
            "box_style": "",
            "children": [
              "IPY_MODEL_aa89688a3ee441ee9bdcb01fbe513011",
              "IPY_MODEL_2f3f37602fef4fabb5c7a08acc0ea4a9",
              "IPY_MODEL_6c6fd46a95d642ecbcb74059908f32a4"
            ],
            "layout": "IPY_MODEL_e453a11a60584a5bbfbbbe9148a1a65b"
          }
        },
        "aa89688a3ee441ee9bdcb01fbe513011": {
          "model_module": "@jupyter-widgets/controls",
          "model_name": "HTMLModel",
          "model_module_version": "1.5.0",
          "state": {
            "_dom_classes": [],
            "_model_module": "@jupyter-widgets/controls",
            "_model_module_version": "1.5.0",
            "_model_name": "HTMLModel",
            "_view_count": null,
            "_view_module": "@jupyter-widgets/controls",
            "_view_module_version": "1.5.0",
            "_view_name": "HTMLView",
            "description": "",
            "description_tooltip": null,
            "layout": "IPY_MODEL_1259f928f9924d81a6e636b89a6838da",
            "placeholder": "​",
            "style": "IPY_MODEL_17db4d9ab49144fcad2e771f37974ba0",
            "value": "Downloading: 100%"
          }
        },
        "2f3f37602fef4fabb5c7a08acc0ea4a9": {
          "model_module": "@jupyter-widgets/controls",
          "model_name": "FloatProgressModel",
          "model_module_version": "1.5.0",
          "state": {
            "_dom_classes": [],
            "_model_module": "@jupyter-widgets/controls",
            "_model_module_version": "1.5.0",
            "_model_name": "FloatProgressModel",
            "_view_count": null,
            "_view_module": "@jupyter-widgets/controls",
            "_view_module_version": "1.5.0",
            "_view_name": "ProgressView",
            "bar_style": "success",
            "description": "",
            "description_tooltip": null,
            "layout": "IPY_MODEL_fb4d0290997547cc82cf529efe71b698",
            "max": 1415,
            "min": 0,
            "orientation": "horizontal",
            "style": "IPY_MODEL_a5b243cfb1264148bd2071283793b9e8",
            "value": 1415
          }
        },
        "6c6fd46a95d642ecbcb74059908f32a4": {
          "model_module": "@jupyter-widgets/controls",
          "model_name": "HTMLModel",
          "model_module_version": "1.5.0",
          "state": {
            "_dom_classes": [],
            "_model_module": "@jupyter-widgets/controls",
            "_model_module_version": "1.5.0",
            "_model_name": "HTMLModel",
            "_view_count": null,
            "_view_module": "@jupyter-widgets/controls",
            "_view_module_version": "1.5.0",
            "_view_name": "HTMLView",
            "description": "",
            "description_tooltip": null,
            "layout": "IPY_MODEL_4655133241324148be1a70a6de80d81c",
            "placeholder": "​",
            "style": "IPY_MODEL_ba2ce2efd03540a28e92c83985e6fdb8",
            "value": " 1.38k/1.38k [00:00&lt;00:00, 35.6kB/s]"
          }
        },
        "e453a11a60584a5bbfbbbe9148a1a65b": {
          "model_module": "@jupyter-widgets/base",
          "model_name": "LayoutModel",
          "model_module_version": "1.2.0",
          "state": {
            "_model_module": "@jupyter-widgets/base",
            "_model_module_version": "1.2.0",
            "_model_name": "LayoutModel",
            "_view_count": null,
            "_view_module": "@jupyter-widgets/base",
            "_view_module_version": "1.2.0",
            "_view_name": "LayoutView",
            "align_content": null,
            "align_items": null,
            "align_self": null,
            "border": null,
            "bottom": null,
            "display": null,
            "flex": null,
            "flex_flow": null,
            "grid_area": null,
            "grid_auto_columns": null,
            "grid_auto_flow": null,
            "grid_auto_rows": null,
            "grid_column": null,
            "grid_gap": null,
            "grid_row": null,
            "grid_template_areas": null,
            "grid_template_columns": null,
            "grid_template_rows": null,
            "height": null,
            "justify_content": null,
            "justify_items": null,
            "left": null,
            "margin": null,
            "max_height": null,
            "max_width": null,
            "min_height": null,
            "min_width": null,
            "object_fit": null,
            "object_position": null,
            "order": null,
            "overflow": null,
            "overflow_x": null,
            "overflow_y": null,
            "padding": null,
            "right": null,
            "top": null,
            "visibility": null,
            "width": null
          }
        },
        "1259f928f9924d81a6e636b89a6838da": {
          "model_module": "@jupyter-widgets/base",
          "model_name": "LayoutModel",
          "model_module_version": "1.2.0",
          "state": {
            "_model_module": "@jupyter-widgets/base",
            "_model_module_version": "1.2.0",
            "_model_name": "LayoutModel",
            "_view_count": null,
            "_view_module": "@jupyter-widgets/base",
            "_view_module_version": "1.2.0",
            "_view_name": "LayoutView",
            "align_content": null,
            "align_items": null,
            "align_self": null,
            "border": null,
            "bottom": null,
            "display": null,
            "flex": null,
            "flex_flow": null,
            "grid_area": null,
            "grid_auto_columns": null,
            "grid_auto_flow": null,
            "grid_auto_rows": null,
            "grid_column": null,
            "grid_gap": null,
            "grid_row": null,
            "grid_template_areas": null,
            "grid_template_columns": null,
            "grid_template_rows": null,
            "height": null,
            "justify_content": null,
            "justify_items": null,
            "left": null,
            "margin": null,
            "max_height": null,
            "max_width": null,
            "min_height": null,
            "min_width": null,
            "object_fit": null,
            "object_position": null,
            "order": null,
            "overflow": null,
            "overflow_x": null,
            "overflow_y": null,
            "padding": null,
            "right": null,
            "top": null,
            "visibility": null,
            "width": null
          }
        },
        "17db4d9ab49144fcad2e771f37974ba0": {
          "model_module": "@jupyter-widgets/controls",
          "model_name": "DescriptionStyleModel",
          "model_module_version": "1.5.0",
          "state": {
            "_model_module": "@jupyter-widgets/controls",
            "_model_module_version": "1.5.0",
            "_model_name": "DescriptionStyleModel",
            "_view_count": null,
            "_view_module": "@jupyter-widgets/base",
            "_view_module_version": "1.2.0",
            "_view_name": "StyleView",
            "description_width": ""
          }
        },
        "fb4d0290997547cc82cf529efe71b698": {
          "model_module": "@jupyter-widgets/base",
          "model_name": "LayoutModel",
          "model_module_version": "1.2.0",
          "state": {
            "_model_module": "@jupyter-widgets/base",
            "_model_module_version": "1.2.0",
            "_model_name": "LayoutModel",
            "_view_count": null,
            "_view_module": "@jupyter-widgets/base",
            "_view_module_version": "1.2.0",
            "_view_name": "LayoutView",
            "align_content": null,
            "align_items": null,
            "align_self": null,
            "border": null,
            "bottom": null,
            "display": null,
            "flex": null,
            "flex_flow": null,
            "grid_area": null,
            "grid_auto_columns": null,
            "grid_auto_flow": null,
            "grid_auto_rows": null,
            "grid_column": null,
            "grid_gap": null,
            "grid_row": null,
            "grid_template_areas": null,
            "grid_template_columns": null,
            "grid_template_rows": null,
            "height": null,
            "justify_content": null,
            "justify_items": null,
            "left": null,
            "margin": null,
            "max_height": null,
            "max_width": null,
            "min_height": null,
            "min_width": null,
            "object_fit": null,
            "object_position": null,
            "order": null,
            "overflow": null,
            "overflow_x": null,
            "overflow_y": null,
            "padding": null,
            "right": null,
            "top": null,
            "visibility": null,
            "width": null
          }
        },
        "a5b243cfb1264148bd2071283793b9e8": {
          "model_module": "@jupyter-widgets/controls",
          "model_name": "ProgressStyleModel",
          "model_module_version": "1.5.0",
          "state": {
            "_model_module": "@jupyter-widgets/controls",
            "_model_module_version": "1.5.0",
            "_model_name": "ProgressStyleModel",
            "_view_count": null,
            "_view_module": "@jupyter-widgets/base",
            "_view_module_version": "1.2.0",
            "_view_name": "StyleView",
            "bar_color": null,
            "description_width": ""
          }
        },
        "4655133241324148be1a70a6de80d81c": {
          "model_module": "@jupyter-widgets/base",
          "model_name": "LayoutModel",
          "model_module_version": "1.2.0",
          "state": {
            "_model_module": "@jupyter-widgets/base",
            "_model_module_version": "1.2.0",
            "_model_name": "LayoutModel",
            "_view_count": null,
            "_view_module": "@jupyter-widgets/base",
            "_view_module_version": "1.2.0",
            "_view_name": "LayoutView",
            "align_content": null,
            "align_items": null,
            "align_self": null,
            "border": null,
            "bottom": null,
            "display": null,
            "flex": null,
            "flex_flow": null,
            "grid_area": null,
            "grid_auto_columns": null,
            "grid_auto_flow": null,
            "grid_auto_rows": null,
            "grid_column": null,
            "grid_gap": null,
            "grid_row": null,
            "grid_template_areas": null,
            "grid_template_columns": null,
            "grid_template_rows": null,
            "height": null,
            "justify_content": null,
            "justify_items": null,
            "left": null,
            "margin": null,
            "max_height": null,
            "max_width": null,
            "min_height": null,
            "min_width": null,
            "object_fit": null,
            "object_position": null,
            "order": null,
            "overflow": null,
            "overflow_x": null,
            "overflow_y": null,
            "padding": null,
            "right": null,
            "top": null,
            "visibility": null,
            "width": null
          }
        },
        "ba2ce2efd03540a28e92c83985e6fdb8": {
          "model_module": "@jupyter-widgets/controls",
          "model_name": "DescriptionStyleModel",
          "model_module_version": "1.5.0",
          "state": {
            "_model_module": "@jupyter-widgets/controls",
            "_model_module_version": "1.5.0",
            "_model_name": "DescriptionStyleModel",
            "_view_count": null,
            "_view_module": "@jupyter-widgets/base",
            "_view_module_version": "1.2.0",
            "_view_name": "StyleView",
            "description_width": ""
          }
        },
        "46068179d65046019d544aec2df0cfb0": {
          "model_module": "@jupyter-widgets/controls",
          "model_name": "HBoxModel",
          "model_module_version": "1.5.0",
          "state": {
            "_dom_classes": [],
            "_model_module": "@jupyter-widgets/controls",
            "_model_module_version": "1.5.0",
            "_model_name": "HBoxModel",
            "_view_count": null,
            "_view_module": "@jupyter-widgets/controls",
            "_view_module_version": "1.5.0",
            "_view_name": "HBoxView",
            "box_style": "",
            "children": [
              "IPY_MODEL_d8e51d585d664687b491c9234f39e3b2",
              "IPY_MODEL_7c5913796386461b8b4962b8b21f4f82",
              "IPY_MODEL_f4080c475f3f42fdaf7991d533630a9d"
            ],
            "layout": "IPY_MODEL_1204ac8986ad4d189227910b13302dbd"
          }
        },
        "d8e51d585d664687b491c9234f39e3b2": {
          "model_module": "@jupyter-widgets/controls",
          "model_name": "HTMLModel",
          "model_module_version": "1.5.0",
          "state": {
            "_dom_classes": [],
            "_model_module": "@jupyter-widgets/controls",
            "_model_module_version": "1.5.0",
            "_model_name": "HTMLModel",
            "_view_count": null,
            "_view_module": "@jupyter-widgets/controls",
            "_view_module_version": "1.5.0",
            "_view_name": "HTMLView",
            "description": "",
            "description_tooltip": null,
            "layout": "IPY_MODEL_b53260385b574b9587339bb718cc783c",
            "placeholder": "​",
            "style": "IPY_MODEL_68aaf419341b4a6ab23ad269720ce341",
            "value": "Downloading: 100%"
          }
        },
        "7c5913796386461b8b4962b8b21f4f82": {
          "model_module": "@jupyter-widgets/controls",
          "model_name": "FloatProgressModel",
          "model_module_version": "1.5.0",
          "state": {
            "_dom_classes": [],
            "_model_module": "@jupyter-widgets/controls",
            "_model_module_version": "1.5.0",
            "_model_name": "FloatProgressModel",
            "_view_count": null,
            "_view_module": "@jupyter-widgets/controls",
            "_view_module_version": "1.5.0",
            "_view_name": "ProgressView",
            "bar_style": "success",
            "description": "",
            "description_tooltip": null,
            "layout": "IPY_MODEL_a5032a39e19e456ba9869521909f5ef8",
            "max": 891730879,
            "min": 0,
            "orientation": "horizontal",
            "style": "IPY_MODEL_406ff5d31f404e7f948eced9486630a3",
            "value": 891730879
          }
        },
        "f4080c475f3f42fdaf7991d533630a9d": {
          "model_module": "@jupyter-widgets/controls",
          "model_name": "HTMLModel",
          "model_module_version": "1.5.0",
          "state": {
            "_dom_classes": [],
            "_model_module": "@jupyter-widgets/controls",
            "_model_module_version": "1.5.0",
            "_model_name": "HTMLModel",
            "_view_count": null,
            "_view_module": "@jupyter-widgets/controls",
            "_view_module_version": "1.5.0",
            "_view_name": "HTMLView",
            "description": "",
            "description_tooltip": null,
            "layout": "IPY_MODEL_315b7fdbaf7843e3b5564346aab90179",
            "placeholder": "​",
            "style": "IPY_MODEL_51c74235309645e29d8b7636ce68fdec",
            "value": " 850M/850M [00:23&lt;00:00, 35.7MB/s]"
          }
        },
        "1204ac8986ad4d189227910b13302dbd": {
          "model_module": "@jupyter-widgets/base",
          "model_name": "LayoutModel",
          "model_module_version": "1.2.0",
          "state": {
            "_model_module": "@jupyter-widgets/base",
            "_model_module_version": "1.2.0",
            "_model_name": "LayoutModel",
            "_view_count": null,
            "_view_module": "@jupyter-widgets/base",
            "_view_module_version": "1.2.0",
            "_view_name": "LayoutView",
            "align_content": null,
            "align_items": null,
            "align_self": null,
            "border": null,
            "bottom": null,
            "display": null,
            "flex": null,
            "flex_flow": null,
            "grid_area": null,
            "grid_auto_columns": null,
            "grid_auto_flow": null,
            "grid_auto_rows": null,
            "grid_column": null,
            "grid_gap": null,
            "grid_row": null,
            "grid_template_areas": null,
            "grid_template_columns": null,
            "grid_template_rows": null,
            "height": null,
            "justify_content": null,
            "justify_items": null,
            "left": null,
            "margin": null,
            "max_height": null,
            "max_width": null,
            "min_height": null,
            "min_width": null,
            "object_fit": null,
            "object_position": null,
            "order": null,
            "overflow": null,
            "overflow_x": null,
            "overflow_y": null,
            "padding": null,
            "right": null,
            "top": null,
            "visibility": null,
            "width": null
          }
        },
        "b53260385b574b9587339bb718cc783c": {
          "model_module": "@jupyter-widgets/base",
          "model_name": "LayoutModel",
          "model_module_version": "1.2.0",
          "state": {
            "_model_module": "@jupyter-widgets/base",
            "_model_module_version": "1.2.0",
            "_model_name": "LayoutModel",
            "_view_count": null,
            "_view_module": "@jupyter-widgets/base",
            "_view_module_version": "1.2.0",
            "_view_name": "LayoutView",
            "align_content": null,
            "align_items": null,
            "align_self": null,
            "border": null,
            "bottom": null,
            "display": null,
            "flex": null,
            "flex_flow": null,
            "grid_area": null,
            "grid_auto_columns": null,
            "grid_auto_flow": null,
            "grid_auto_rows": null,
            "grid_column": null,
            "grid_gap": null,
            "grid_row": null,
            "grid_template_areas": null,
            "grid_template_columns": null,
            "grid_template_rows": null,
            "height": null,
            "justify_content": null,
            "justify_items": null,
            "left": null,
            "margin": null,
            "max_height": null,
            "max_width": null,
            "min_height": null,
            "min_width": null,
            "object_fit": null,
            "object_position": null,
            "order": null,
            "overflow": null,
            "overflow_x": null,
            "overflow_y": null,
            "padding": null,
            "right": null,
            "top": null,
            "visibility": null,
            "width": null
          }
        },
        "68aaf419341b4a6ab23ad269720ce341": {
          "model_module": "@jupyter-widgets/controls",
          "model_name": "DescriptionStyleModel",
          "model_module_version": "1.5.0",
          "state": {
            "_model_module": "@jupyter-widgets/controls",
            "_model_module_version": "1.5.0",
            "_model_name": "DescriptionStyleModel",
            "_view_count": null,
            "_view_module": "@jupyter-widgets/base",
            "_view_module_version": "1.2.0",
            "_view_name": "StyleView",
            "description_width": ""
          }
        },
        "a5032a39e19e456ba9869521909f5ef8": {
          "model_module": "@jupyter-widgets/base",
          "model_name": "LayoutModel",
          "model_module_version": "1.2.0",
          "state": {
            "_model_module": "@jupyter-widgets/base",
            "_model_module_version": "1.2.0",
            "_model_name": "LayoutModel",
            "_view_count": null,
            "_view_module": "@jupyter-widgets/base",
            "_view_module_version": "1.2.0",
            "_view_name": "LayoutView",
            "align_content": null,
            "align_items": null,
            "align_self": null,
            "border": null,
            "bottom": null,
            "display": null,
            "flex": null,
            "flex_flow": null,
            "grid_area": null,
            "grid_auto_columns": null,
            "grid_auto_flow": null,
            "grid_auto_rows": null,
            "grid_column": null,
            "grid_gap": null,
            "grid_row": null,
            "grid_template_areas": null,
            "grid_template_columns": null,
            "grid_template_rows": null,
            "height": null,
            "justify_content": null,
            "justify_items": null,
            "left": null,
            "margin": null,
            "max_height": null,
            "max_width": null,
            "min_height": null,
            "min_width": null,
            "object_fit": null,
            "object_position": null,
            "order": null,
            "overflow": null,
            "overflow_x": null,
            "overflow_y": null,
            "padding": null,
            "right": null,
            "top": null,
            "visibility": null,
            "width": null
          }
        },
        "406ff5d31f404e7f948eced9486630a3": {
          "model_module": "@jupyter-widgets/controls",
          "model_name": "ProgressStyleModel",
          "model_module_version": "1.5.0",
          "state": {
            "_model_module": "@jupyter-widgets/controls",
            "_model_module_version": "1.5.0",
            "_model_name": "ProgressStyleModel",
            "_view_count": null,
            "_view_module": "@jupyter-widgets/base",
            "_view_module_version": "1.2.0",
            "_view_name": "StyleView",
            "bar_color": null,
            "description_width": ""
          }
        },
        "315b7fdbaf7843e3b5564346aab90179": {
          "model_module": "@jupyter-widgets/base",
          "model_name": "LayoutModel",
          "model_module_version": "1.2.0",
          "state": {
            "_model_module": "@jupyter-widgets/base",
            "_model_module_version": "1.2.0",
            "_model_name": "LayoutModel",
            "_view_count": null,
            "_view_module": "@jupyter-widgets/base",
            "_view_module_version": "1.2.0",
            "_view_name": "LayoutView",
            "align_content": null,
            "align_items": null,
            "align_self": null,
            "border": null,
            "bottom": null,
            "display": null,
            "flex": null,
            "flex_flow": null,
            "grid_area": null,
            "grid_auto_columns": null,
            "grid_auto_flow": null,
            "grid_auto_rows": null,
            "grid_column": null,
            "grid_gap": null,
            "grid_row": null,
            "grid_template_areas": null,
            "grid_template_columns": null,
            "grid_template_rows": null,
            "height": null,
            "justify_content": null,
            "justify_items": null,
            "left": null,
            "margin": null,
            "max_height": null,
            "max_width": null,
            "min_height": null,
            "min_width": null,
            "object_fit": null,
            "object_position": null,
            "order": null,
            "overflow": null,
            "overflow_x": null,
            "overflow_y": null,
            "padding": null,
            "right": null,
            "top": null,
            "visibility": null,
            "width": null
          }
        },
        "51c74235309645e29d8b7636ce68fdec": {
          "model_module": "@jupyter-widgets/controls",
          "model_name": "DescriptionStyleModel",
          "model_module_version": "1.5.0",
          "state": {
            "_model_module": "@jupyter-widgets/controls",
            "_model_module_version": "1.5.0",
            "_model_name": "DescriptionStyleModel",
            "_view_count": null,
            "_view_module": "@jupyter-widgets/base",
            "_view_module_version": "1.2.0",
            "_view_name": "StyleView",
            "description_width": ""
          }
        }
      }
    }
  },
  "cells": [
    {
      "cell_type": "markdown",
      "source": [
        "![channels4_profile.jpeg](data:image/jpeg;base64,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)"
      ],
      "metadata": {
        "id": "tICYDcZhx-HP"
      }
    },
    {
      "cell_type": "markdown",
      "source": [
        "# **MSc in AI Research Dissertation**"
      ],
      "metadata": {
        "id": "rJBLqIG6yWlQ"
      }
    },
    {
      "cell_type": "markdown",
      "source": [
        "## **Topic:** *A Novel Technique to Improve Speech Scores in English Proficiency Based Exams Using Speech Analysis and Natural Language Processing*"
      ],
      "metadata": {
        "id": "gYKOhEJwymsl"
      }
    },
    {
      "cell_type": "markdown",
      "source": [
        "### The code used in this dissertation has been used from 2-3 sources and is not my own work. \n",
        "###The models are trained and tested and are highly used to detect error in English grammar.\n",
        "### We have used T5 model from: https://github.com/priya-dwivedi/Deep-Learning/blob/master/GrammarCorrector/T5_Grammar.ipynb\n",
        "### The voice analyser model has been implemented from: https://github.com/Shahabks/my-voice-analysis\n",
        "### The POS tagger code blocks have been implemeted from the lectures taught during our NLP module."
      ],
      "metadata": {
        "id": "iC9uoIXJy97-"
      }
    },
    {
      "cell_type": "markdown",
      "source": [
        "## **BEGINNING OF CODE BLOCK**"
      ],
      "metadata": {
        "id": "LU-sLzQQx6Pi"
      }
    },
    {
      "cell_type": "markdown",
      "source": [
        "### **Below we have used T5 model for GEC which is one of the most commonly trained and tested model on C4 corpus dataset.**"
      ],
      "metadata": {
        "id": "RPHO3dmpyxyE"
      }
    },
    {
      "cell_type": "code",
      "execution_count": null,
      "metadata": {
        "id": "SwSMac31w2b6"
      },
      "outputs": [],
      "source": [
        "!pip install -q apache_beam\n",
        "!pip install -q tensorflow-datasets tfds-nightly"
      ]
    },
    {
      "cell_type": "code",
      "source": [
        "import tensorflow_datasets as tfds"
      ],
      "metadata": {
        "id": "eBHKQkAfxmtA"
      },
      "execution_count": null,
      "outputs": []
    },
    {
      "cell_type": "code",
      "source": [
        "import os\n",
        "\n",
        "os.environ['KAGGLE_USERNAME'] = 'yashaav'\n",
        "os.environ['KAGGLE_KEY'] = 'b6cf57c0c68963d850861c52359bcb35'\n",
        "\n",
        "!pip install kaggle"
      ],
      "metadata": {
        "colab": {
          "base_uri": "https://localhost:8080/"
        },
        "id": "Qt6GsGO8xsrO",
        "outputId": "b734e3ed-9f70-410c-df09-a67012550b8a"
      },
      "execution_count": null,
      "outputs": [
        {
          "output_type": "stream",
          "name": "stdout",
          "text": [
            "Requirement already satisfied: kaggle in /usr/local/lib/python3.7/dist-packages (1.5.12)\n",
            "Requirement already satisfied: urllib3 in /usr/local/lib/python3.7/dist-packages (from kaggle) (1.24.3)\n",
            "Requirement already satisfied: python-dateutil in /usr/local/lib/python3.7/dist-packages (from kaggle) (2.8.2)\n",
            "Requirement already satisfied: certifi in /usr/local/lib/python3.7/dist-packages (from kaggle) (2021.10.8)\n",
            "Requirement already satisfied: tqdm in /usr/local/lib/python3.7/dist-packages (from kaggle) (4.64.0)\n",
            "Requirement already satisfied: six>=1.10 in /usr/local/lib/python3.7/dist-packages (from kaggle) (1.15.0)\n",
            "Requirement already satisfied: python-slugify in /usr/local/lib/python3.7/dist-packages (from kaggle) (6.1.2)\n",
            "Requirement already satisfied: requests in /usr/local/lib/python3.7/dist-packages (from kaggle) (2.27.1)\n",
            "Requirement already satisfied: text-unidecode>=1.3 in /usr/local/lib/python3.7/dist-packages (from python-slugify->kaggle) (1.3)\n",
            "Requirement already satisfied: charset-normalizer~=2.0.0 in /usr/local/lib/python3.7/dist-packages (from requests->kaggle) (2.0.12)\n",
            "Requirement already satisfied: idna<4,>=2.5 in /usr/local/lib/python3.7/dist-packages (from requests->kaggle) (2.10)\n"
          ]
        }
      ]
    },
    {
      "cell_type": "code",
      "source": [
        "!mkdir ~/.kaggle\n",
        "!pip install -q kaggle"
      ],
      "metadata": {
        "id": "nGfrP5hMx8Mx"
      },
      "execution_count": null,
      "outputs": []
    },
    {
      "cell_type": "code",
      "source": [
        "kaggle_username ='yashaav'\n",
        "kaggle_key = 'b6cf57c0c68963d850861c52359bcb35'\n",
        "!echo '{\"username\":kaggle_username,\"key\":kaggle_key}' > ~/.kaggle/kaggle.json\n",
        "!kaggle datasets download -d a0155991rliwei/c4-200m -p /content"
      ],
      "metadata": {
        "colab": {
          "base_uri": "https://localhost:8080/"
        },
        "id": "wR1u_wURyC-K",
        "outputId": "8757a368-0a3b-44e2-d6da-2113f3642547"
      },
      "execution_count": null,
      "outputs": [
        {
          "output_type": "stream",
          "name": "stdout",
          "text": [
            "Downloading c4-200m.zip to /content\n",
            "100% 19.3G/19.3G [01:51<00:00, 235MB/s]\n",
            "100% 19.3G/19.3G [01:52<00:00, 185MB/s]\n"
          ]
        }
      ]
    },
    {
      "cell_type": "code",
      "source": [
        "!pip install sentencepiece"
      ],
      "metadata": {
        "colab": {
          "base_uri": "https://localhost:8080/"
        },
        "id": "8Z5n02AvyzUw",
        "outputId": "ba943a32-1359-476b-8f75-899b4b49d7ca"
      },
      "execution_count": null,
      "outputs": [
        {
          "output_type": "stream",
          "name": "stdout",
          "text": [
            "Collecting sentencepiece\n",
            "  Downloading sentencepiece-0.1.96-cp37-cp37m-manylinux_2_17_x86_64.manylinux2014_x86_64.whl (1.2 MB)\n",
            "\u001b[K     |████████████████████████████████| 1.2 MB 5.0 MB/s \n",
            "\u001b[?25hInstalling collected packages: sentencepiece\n",
            "Successfully installed sentencepiece-0.1.96\n"
          ]
        }
      ]
    },
    {
      "cell_type": "code",
      "source": [
        "!pip install -q transformers"
      ],
      "metadata": {
        "colab": {
          "base_uri": "https://localhost:8080/"
        },
        "id": "LDDZG1dHy233",
        "outputId": "7ce1b078-a49d-43e8-8d03-1f75ff7dd31d"
      },
      "execution_count": null,
      "outputs": [
        {
          "output_type": "stream",
          "name": "stdout",
          "text": [
            "\u001b[K     |████████████████████████████████| 4.0 MB 5.1 MB/s \n",
            "\u001b[K     |████████████████████████████████| 895 kB 7.9 MB/s \n",
            "\u001b[K     |████████████████████████████████| 77 kB 5.7 MB/s \n",
            "\u001b[K     |████████████████████████████████| 596 kB 70.5 MB/s \n",
            "\u001b[K     |████████████████████████████████| 6.6 MB 49.7 MB/s \n",
            "\u001b[?25h"
          ]
        }
      ]
    },
    {
      "cell_type": "code",
      "source": [
        "from transformers import (\n",
        "   AutoConfig,\n",
        "   AutoTokenizer,\n",
        "   AutoModelForSequenceClassification,\n",
        ")\n",
        "import pandas as pd"
      ],
      "metadata": {
        "id": "g5GFCbb-y9lk"
      },
      "execution_count": null,
      "outputs": []
    },
    {
      "cell_type": "code",
      "source": [
        "model_t5 = 't5-base'\n",
        "# Initialise tokenizer\n",
        "tokenizer = AutoTokenizer.from_pretrained(model_t5)"
      ],
      "metadata": {
        "colab": {
          "base_uri": "https://localhost:8080/",
          "height": 112,
          "referenced_widgets": [
            "d712021e091e4a2a8e4c328985462afe",
            "baaac17843ff4848a6cfa98229c0c52f",
            "4e2e640cc7ec4c68937ec0254de7727c",
            "81a7d34c1d1d451e82b8b84a4c4d0dc8",
            "a4fd70571d3e4ac2bb75a4785af56354",
            "754a854544294745a83a95eec962d8c3",
            "8ba47b8ba8284dc497f47caae5492049",
            "a5dcddf0737a4319aa4ea96b48d4a773",
            "f350e02c0bea4ddeaecfa8c2d5ada67c",
            "a190d44efec14ba7b38e7aebe8dc5615",
            "4260c8e22899417b96db1519325f452d",
            "0f7d7142d303459793cf7f3b7bf948dc",
            "223c4a0e9f3d48c9a66b3737a2c499d9",
            "fbca4f06d9c64026bd56d11e201712fe",
            "2ad41c6b4fa5448cba1061d8bfe2aa3e",
            "34edc2c2e31b48288273f9d7ebd484fa",
            "e8a67f11ae614127becea06c0db9228b",
            "174529a1d5774d1fbe52ab07636fe756",
            "165d962dfd04413898059092dabf84e4",
            "18e13aad3cfd4fa8bbd4dc2f7b373951",
            "4bc94cccb0eb4624ab61c598dbe25d02",
            "25ed0115f5784ce5acdf1df74a18bf90",
            "565c1ea29c654dff8ca5db74c0e00992",
            "6ea623c0b5834b059eb8ed98489ec87b",
            "fd2f39628a7a4fafbecafee23a936873",
            "24800d7cc3444146940a69309b6168ec",
            "268243cd0650450d953fbc26c77f0bb5",
            "35e8aeac5a814ba2946cf3a36b7ef4c9",
            "147645a427b541f3bc0cccf27f73ce84",
            "fdf98bc2b8d84d1286609c718802b240",
            "a275e32fb91e404cba0a2946bd30cfb2",
            "602f0279a4814950831dd0cb68181e5e",
            "fb4643863d554a71a61ad8702479c67d"
          ]
        },
        "id": "QPNZaijnzBS5",
        "outputId": "7f4599cc-012c-4e31-cc1a-d8e9a5b42ead"
      },
      "execution_count": null,
      "outputs": [
        {
          "output_type": "display_data",
          "data": {
            "text/plain": [
              "Downloading:   0%|          | 0.00/1.17k [00:00<?, ?B/s]"
            ],
            "application/vnd.jupyter.widget-view+json": {
              "version_major": 2,
              "version_minor": 0,
              "model_id": "d712021e091e4a2a8e4c328985462afe"
            }
          },
          "metadata": {}
        },
        {
          "output_type": "display_data",
          "data": {
            "text/plain": [
              "Downloading:   0%|          | 0.00/773k [00:00<?, ?B/s]"
            ],
            "application/vnd.jupyter.widget-view+json": {
              "version_major": 2,
              "version_minor": 0,
              "model_id": "0f7d7142d303459793cf7f3b7bf948dc"
            }
          },
          "metadata": {}
        },
        {
          "output_type": "display_data",
          "data": {
            "text/plain": [
              "Downloading:   0%|          | 0.00/1.32M [00:00<?, ?B/s]"
            ],
            "application/vnd.jupyter.widget-view+json": {
              "version_major": 2,
              "version_minor": 0,
              "model_id": "565c1ea29c654dff8ca5db74c0e00992"
            }
          },
          "metadata": {}
        }
      ]
    },
    {
      "cell_type": "code",
      "source": [
        "!unzip -q /content/c4-200m.zip"
      ],
      "metadata": {
        "id": "REWk_KnezKAy"
      },
      "execution_count": null,
      "outputs": []
    },
    {
      "cell_type": "code",
      "source": [
        "import tensorflow_datasets as tfds"
      ],
      "metadata": {
        "id": "nz986b7u_4gl"
      },
      "execution_count": null,
      "outputs": []
    },
    {
      "cell_type": "code",
      "source": [
        "c4_builder = tfds.builder_from_directory('/content/c4200m/1.0.0')"
      ],
      "metadata": {
        "id": "w_xeOyY14plo"
      },
      "execution_count": null,
      "outputs": []
    },
    {
      "cell_type": "code",
      "source": [
        "num_train_examples = c4_builder.info.splits['train'].num_examples\n",
        "print(num_train_examples)"
      ],
      "metadata": {
        "colab": {
          "base_uri": "https://localhost:8080/"
        },
        "id": "dPSCdK7C9lOM",
        "outputId": "11cbc00c-bb0d-4ef3-ca71-40f64e7ee22c"
      },
      "execution_count": null,
      "outputs": [
        {
          "output_type": "stream",
          "name": "stdout",
          "text": [
            "183894319\n"
          ]
        }
      ]
    },
    {
      "cell_type": "code",
      "source": [
        "c4_builder.download_and_prepare()"
      ],
      "metadata": {
        "id": "AE0UDNMW9mcb"
      },
      "execution_count": null,
      "outputs": []
    },
    {
      "cell_type": "code",
      "source": [
        "train_data = c4_builder.as_dataset(split='train', shuffle_files=True)\n",
        "train_df = tfds.as_dataframe(train_data.take(550000))"
      ],
      "metadata": {
        "id": "hhjzTU7V9pYF"
      },
      "execution_count": null,
      "outputs": []
    },
    {
      "cell_type": "code",
      "source": [
        "train_df.shape"
      ],
      "metadata": {
        "colab": {
          "base_uri": "https://localhost:8080/"
        },
        "id": "_UyU3qX792l6",
        "outputId": "27d7c83a-bd60-46ce-bd67-b1d368a99f6f"
      },
      "execution_count": null,
      "outputs": [
        {
          "output_type": "execute_result",
          "data": {
            "text/plain": [
              "(550000, 2)"
            ]
          },
          "metadata": {},
          "execution_count": 21
        }
      ]
    },
    {
      "cell_type": "code",
      "source": [
        "train_df.head(10)"
      ],
      "metadata": {
        "colab": {
          "base_uri": "https://localhost:8080/",
          "height": 363
        },
        "id": "3MaPPgRU9r7o",
        "outputId": "df30f09b-972a-4f58-b7d2-6c436310b580"
      },
      "execution_count": null,
      "outputs": [
        {
          "output_type": "execute_result",
          "data": {
            "text/plain": [
              "                                               input  \\\n",
              "0  b'And we will resalize that we\\xe2\\x80\\x99ve w...   \n",
              "1  b'The marvellous Thongs to Notice about Design...   \n",
              "2  b'fix sink drain clogged sink drain wondering ...   \n",
              "3  b'Here we have a wonderufl lecture from a vert...   \n",
              "4  b'Tuesday is in accedaraors day \\xe2\\x80\\x93 n...   \n",
              "5  b'Self-care: Getting sleep from at least eight...   \n",
              "6  b'In fact, for maintaining a healthy weight th...   \n",
              "7   b'What are our direction to me | FIRE BABYGIRL!'   \n",
              "8  b'As years went by, 2014 wasn\\xe2\\x80\\x99t exa...   \n",
              "9                   b'perfect size for my products.'   \n",
              "\n",
              "                                              output  \n",
              "0  b'And we will realize that we\\xe2\\x80\\x99ve wo...  \n",
              "1  b'The marvellous Things to Notice about Design...  \n",
              "2  b'fix sink drain clogged sink drain wondering ...  \n",
              "3  b'Here we have a wonderful (if long) lecture f...  \n",
              "4  b'Tuesday is Accelerator day \\xe2\\x80\\x93 no s...  \n",
              "5  b'Self-care: Getting at least eight hours slee...  \n",
              "6  b'In fact, maintaining a healthy weight throug...  \n",
              "7  b'What We\\xe2\\x80\\x99re Up To Right Now | FREE...  \n",
              "8  b'As years go, 2014 wasn\\xe2\\x80\\x99t exactly ...  \n",
              "9               b'The perfect size for my products.'  "
            ],
            "text/html": [
              "\n",
              "  <div id=\"df-8ec8e390-de8b-47f3-b5e0-f4ca977d6722\">\n",
              "    <div class=\"colab-df-container\">\n",
              "      <div>\n",
              "<style scoped>\n",
              "    .dataframe tbody tr th:only-of-type {\n",
              "        vertical-align: middle;\n",
              "    }\n",
              "\n",
              "    .dataframe tbody tr th {\n",
              "        vertical-align: top;\n",
              "    }\n",
              "\n",
              "    .dataframe thead th {\n",
              "        text-align: right;\n",
              "    }\n",
              "</style>\n",
              "<table border=\"1\" class=\"dataframe\">\n",
              "  <thead>\n",
              "    <tr style=\"text-align: right;\">\n",
              "      <th></th>\n",
              "      <th>input</th>\n",
              "      <th>output</th>\n",
              "    </tr>\n",
              "  </thead>\n",
              "  <tbody>\n",
              "    <tr>\n",
              "      <th>0</th>\n",
              "      <td>b'And we will resalize that we\\xe2\\x80\\x99ve w...</td>\n",
              "      <td>b'And we will realize that we\\xe2\\x80\\x99ve wo...</td>\n",
              "    </tr>\n",
              "    <tr>\n",
              "      <th>1</th>\n",
              "      <td>b'The marvellous Thongs to Notice about Design...</td>\n",
              "      <td>b'The marvellous Things to Notice about Design...</td>\n",
              "    </tr>\n",
              "    <tr>\n",
              "      <th>2</th>\n",
              "      <td>b'fix sink drain clogged sink drain wondering ...</td>\n",
              "      <td>b'fix sink drain clogged sink drain wondering ...</td>\n",
              "    </tr>\n",
              "    <tr>\n",
              "      <th>3</th>\n",
              "      <td>b'Here we have a wonderufl lecture from a vert...</td>\n",
              "      <td>b'Here we have a wonderful (if long) lecture f...</td>\n",
              "    </tr>\n",
              "    <tr>\n",
              "      <th>4</th>\n",
              "      <td>b'Tuesday is in accedaraors day \\xe2\\x80\\x93 n...</td>\n",
              "      <td>b'Tuesday is Accelerator day \\xe2\\x80\\x93 no s...</td>\n",
              "    </tr>\n",
              "    <tr>\n",
              "      <th>5</th>\n",
              "      <td>b'Self-care: Getting sleep from at least eight...</td>\n",
              "      <td>b'Self-care: Getting at least eight hours slee...</td>\n",
              "    </tr>\n",
              "    <tr>\n",
              "      <th>6</th>\n",
              "      <td>b'In fact, for maintaining a healthy weight th...</td>\n",
              "      <td>b'In fact, maintaining a healthy weight throug...</td>\n",
              "    </tr>\n",
              "    <tr>\n",
              "      <th>7</th>\n",
              "      <td>b'What are our direction to me | FIRE BABYGIRL!'</td>\n",
              "      <td>b'What We\\xe2\\x80\\x99re Up To Right Now | FREE...</td>\n",
              "    </tr>\n",
              "    <tr>\n",
              "      <th>8</th>\n",
              "      <td>b'As years went by, 2014 wasn\\xe2\\x80\\x99t exa...</td>\n",
              "      <td>b'As years go, 2014 wasn\\xe2\\x80\\x99t exactly ...</td>\n",
              "    </tr>\n",
              "    <tr>\n",
              "      <th>9</th>\n",
              "      <td>b'perfect size for my products.'</td>\n",
              "      <td>b'The perfect size for my products.'</td>\n",
              "    </tr>\n",
              "  </tbody>\n",
              "</table>\n",
              "</div>\n",
              "      <button class=\"colab-df-convert\" onclick=\"convertToInteractive('df-8ec8e390-de8b-47f3-b5e0-f4ca977d6722')\"\n",
              "              title=\"Convert this dataframe to an interactive table.\"\n",
              "              style=\"display:none;\">\n",
              "        \n",
              "  <svg xmlns=\"http://www.w3.org/2000/svg\" height=\"24px\"viewBox=\"0 0 24 24\"\n",
              "       width=\"24px\">\n",
              "    <path d=\"M0 0h24v24H0V0z\" fill=\"none\"/>\n",
              "    <path d=\"M18.56 5.44l.94 2.06.94-2.06 2.06-.94-2.06-.94-.94-2.06-.94 2.06-2.06.94zm-11 1L8.5 8.5l.94-2.06 2.06-.94-2.06-.94L8.5 2.5l-.94 2.06-2.06.94zm10 10l.94 2.06.94-2.06 2.06-.94-2.06-.94-.94-2.06-.94 2.06-2.06.94z\"/><path d=\"M17.41 7.96l-1.37-1.37c-.4-.4-.92-.59-1.43-.59-.52 0-1.04.2-1.43.59L10.3 9.45l-7.72 7.72c-.78.78-.78 2.05 0 2.83L4 21.41c.39.39.9.59 1.41.59.51 0 1.02-.2 1.41-.59l7.78-7.78 2.81-2.81c.8-.78.8-2.07 0-2.86zM5.41 20L4 18.59l7.72-7.72 1.47 1.35L5.41 20z\"/>\n",
              "  </svg>\n",
              "      </button>\n",
              "      \n",
              "  <style>\n",
              "    .colab-df-container {\n",
              "      display:flex;\n",
              "      flex-wrap:wrap;\n",
              "      gap: 12px;\n",
              "    }\n",
              "\n",
              "    .colab-df-convert {\n",
              "      background-color: #E8F0FE;\n",
              "      border: none;\n",
              "      border-radius: 50%;\n",
              "      cursor: pointer;\n",
              "      display: none;\n",
              "      fill: #1967D2;\n",
              "      height: 32px;\n",
              "      padding: 0 0 0 0;\n",
              "      width: 32px;\n",
              "    }\n",
              "\n",
              "    .colab-df-convert:hover {\n",
              "      background-color: #E2EBFA;\n",
              "      box-shadow: 0px 1px 2px rgba(60, 64, 67, 0.3), 0px 1px 3px 1px rgba(60, 64, 67, 0.15);\n",
              "      fill: #174EA6;\n",
              "    }\n",
              "\n",
              "    [theme=dark] .colab-df-convert {\n",
              "      background-color: #3B4455;\n",
              "      fill: #D2E3FC;\n",
              "    }\n",
              "\n",
              "    [theme=dark] .colab-df-convert:hover {\n",
              "      background-color: #434B5C;\n",
              "      box-shadow: 0px 1px 3px 1px rgba(0, 0, 0, 0.15);\n",
              "      filter: drop-shadow(0px 1px 2px rgba(0, 0, 0, 0.3));\n",
              "      fill: #FFFFFF;\n",
              "    }\n",
              "  </style>\n",
              "\n",
              "      <script>\n",
              "        const buttonEl =\n",
              "          document.querySelector('#df-8ec8e390-de8b-47f3-b5e0-f4ca977d6722 button.colab-df-convert');\n",
              "        buttonEl.style.display =\n",
              "          google.colab.kernel.accessAllowed ? 'block' : 'none';\n",
              "\n",
              "        async function convertToInteractive(key) {\n",
              "          const element = document.querySelector('#df-8ec8e390-de8b-47f3-b5e0-f4ca977d6722');\n",
              "          const dataTable =\n",
              "            await google.colab.kernel.invokeFunction('convertToInteractive',\n",
              "                                                     [key], {});\n",
              "          if (!dataTable) return;\n",
              "\n",
              "          const docLinkHtml = 'Like what you see? Visit the ' +\n",
              "            '<a target=\"_blank\" href=https://colab.research.google.com/notebooks/data_table.ipynb>data table notebook</a>'\n",
              "            + ' to learn more about interactive tables.';\n",
              "          element.innerHTML = '';\n",
              "          dataTable['output_type'] = 'display_data';\n",
              "          await google.colab.output.renderOutput(dataTable, element);\n",
              "          const docLink = document.createElement('div');\n",
              "          docLink.innerHTML = docLinkHtml;\n",
              "          element.appendChild(docLink);\n",
              "        }\n",
              "      </script>\n",
              "    </div>\n",
              "  </div>\n",
              "  "
            ]
          },
          "metadata": {},
          "execution_count": 23
        }
      ]
    },
    {
      "cell_type": "code",
      "source": [
        "train_df['input'] = train_df['input'].str.decode(encoding = 'UTF-8')\n",
        "train_df['output'] = train_df['output'].str.decode(encoding = 'UTF-8')"
      ],
      "metadata": {
        "id": "DPwyS1wd9uYl"
      },
      "execution_count": null,
      "outputs": []
    },
    {
      "cell_type": "code",
      "source": [
        "train_df.head(10)"
      ],
      "metadata": {
        "colab": {
          "base_uri": "https://localhost:8080/",
          "height": 363
        },
        "id": "LS6PQDul963H",
        "outputId": "ed3cf3aa-47f9-4b99-a7a6-957d67d2b3ef"
      },
      "execution_count": null,
      "outputs": [
        {
          "output_type": "execute_result",
          "data": {
            "text/plain": [
              "                                               input  \\\n",
              "0        And we will resalize that we’ve wound down.   \n",
              "1  The marvellous Thongs to Notice about Designin...   \n",
              "2  fix sink drain clogged sink drain wondering ho...   \n",
              "3  Here we have a wonderufl lecture from a vertan...   \n",
              "4   Tuesday is in accedaraors day – no simple carbs!   \n",
              "5  Self-care: Getting sleep from at least eight h...   \n",
              "6  In fact, for maintaining a healthy weight thro...   \n",
              "7      What are our direction to me | FIRE BABYGIRL!   \n",
              "8  As years went by, 2014 wasn’t exactly a zinger...   \n",
              "9                      perfect size for my products.   \n",
              "\n",
              "                                              output  \n",
              "0         And we will realize that we’ve wound down.  \n",
              "1  The marvellous Things to Notice about Designin...  \n",
              "2  fix sink drain clogged sink drain wondering ho...  \n",
              "3  Here we have a wonderful (if long) lecture fro...  \n",
              "4      Tuesday is Accelerator day – no simple carbs!  \n",
              "5  Self-care: Getting at least eight hours sleep,...  \n",
              "6  In fact, maintaining a healthy weight througho...  \n",
              "7        What We’re Up To Right Now | FREE BABYGIRL!  \n",
              "8  As years go, 2014 wasn’t exactly a zinger, but...  \n",
              "9                  The perfect size for my products.  "
            ],
            "text/html": [
              "\n",
              "  <div id=\"df-3746a261-3f72-47c7-98e8-f9247414da77\">\n",
              "    <div class=\"colab-df-container\">\n",
              "      <div>\n",
              "<style scoped>\n",
              "    .dataframe tbody tr th:only-of-type {\n",
              "        vertical-align: middle;\n",
              "    }\n",
              "\n",
              "    .dataframe tbody tr th {\n",
              "        vertical-align: top;\n",
              "    }\n",
              "\n",
              "    .dataframe thead th {\n",
              "        text-align: right;\n",
              "    }\n",
              "</style>\n",
              "<table border=\"1\" class=\"dataframe\">\n",
              "  <thead>\n",
              "    <tr style=\"text-align: right;\">\n",
              "      <th></th>\n",
              "      <th>input</th>\n",
              "      <th>output</th>\n",
              "    </tr>\n",
              "  </thead>\n",
              "  <tbody>\n",
              "    <tr>\n",
              "      <th>0</th>\n",
              "      <td>And we will resalize that we’ve wound down.</td>\n",
              "      <td>And we will realize that we’ve wound down.</td>\n",
              "    </tr>\n",
              "    <tr>\n",
              "      <th>1</th>\n",
              "      <td>The marvellous Thongs to Notice about Designin...</td>\n",
              "      <td>The marvellous Things to Notice about Designin...</td>\n",
              "    </tr>\n",
              "    <tr>\n",
              "      <th>2</th>\n",
              "      <td>fix sink drain clogged sink drain wondering ho...</td>\n",
              "      <td>fix sink drain clogged sink drain wondering ho...</td>\n",
              "    </tr>\n",
              "    <tr>\n",
              "      <th>3</th>\n",
              "      <td>Here we have a wonderufl lecture from a vertan...</td>\n",
              "      <td>Here we have a wonderful (if long) lecture fro...</td>\n",
              "    </tr>\n",
              "    <tr>\n",
              "      <th>4</th>\n",
              "      <td>Tuesday is in accedaraors day – no simple carbs!</td>\n",
              "      <td>Tuesday is Accelerator day – no simple carbs!</td>\n",
              "    </tr>\n",
              "    <tr>\n",
              "      <th>5</th>\n",
              "      <td>Self-care: Getting sleep from at least eight h...</td>\n",
              "      <td>Self-care: Getting at least eight hours sleep,...</td>\n",
              "    </tr>\n",
              "    <tr>\n",
              "      <th>6</th>\n",
              "      <td>In fact, for maintaining a healthy weight thro...</td>\n",
              "      <td>In fact, maintaining a healthy weight througho...</td>\n",
              "    </tr>\n",
              "    <tr>\n",
              "      <th>7</th>\n",
              "      <td>What are our direction to me | FIRE BABYGIRL!</td>\n",
              "      <td>What We’re Up To Right Now | FREE BABYGIRL!</td>\n",
              "    </tr>\n",
              "    <tr>\n",
              "      <th>8</th>\n",
              "      <td>As years went by, 2014 wasn’t exactly a zinger...</td>\n",
              "      <td>As years go, 2014 wasn’t exactly a zinger, but...</td>\n",
              "    </tr>\n",
              "    <tr>\n",
              "      <th>9</th>\n",
              "      <td>perfect size for my products.</td>\n",
              "      <td>The perfect size for my products.</td>\n",
              "    </tr>\n",
              "  </tbody>\n",
              "</table>\n",
              "</div>\n",
              "      <button class=\"colab-df-convert\" onclick=\"convertToInteractive('df-3746a261-3f72-47c7-98e8-f9247414da77')\"\n",
              "              title=\"Convert this dataframe to an interactive table.\"\n",
              "              style=\"display:none;\">\n",
              "        \n",
              "  <svg xmlns=\"http://www.w3.org/2000/svg\" height=\"24px\"viewBox=\"0 0 24 24\"\n",
              "       width=\"24px\">\n",
              "    <path d=\"M0 0h24v24H0V0z\" fill=\"none\"/>\n",
              "    <path d=\"M18.56 5.44l.94 2.06.94-2.06 2.06-.94-2.06-.94-.94-2.06-.94 2.06-2.06.94zm-11 1L8.5 8.5l.94-2.06 2.06-.94-2.06-.94L8.5 2.5l-.94 2.06-2.06.94zm10 10l.94 2.06.94-2.06 2.06-.94-2.06-.94-.94-2.06-.94 2.06-2.06.94z\"/><path d=\"M17.41 7.96l-1.37-1.37c-.4-.4-.92-.59-1.43-.59-.52 0-1.04.2-1.43.59L10.3 9.45l-7.72 7.72c-.78.78-.78 2.05 0 2.83L4 21.41c.39.39.9.59 1.41.59.51 0 1.02-.2 1.41-.59l7.78-7.78 2.81-2.81c.8-.78.8-2.07 0-2.86zM5.41 20L4 18.59l7.72-7.72 1.47 1.35L5.41 20z\"/>\n",
              "  </svg>\n",
              "      </button>\n",
              "      \n",
              "  <style>\n",
              "    .colab-df-container {\n",
              "      display:flex;\n",
              "      flex-wrap:wrap;\n",
              "      gap: 12px;\n",
              "    }\n",
              "\n",
              "    .colab-df-convert {\n",
              "      background-color: #E8F0FE;\n",
              "      border: none;\n",
              "      border-radius: 50%;\n",
              "      cursor: pointer;\n",
              "      display: none;\n",
              "      fill: #1967D2;\n",
              "      height: 32px;\n",
              "      padding: 0 0 0 0;\n",
              "      width: 32px;\n",
              "    }\n",
              "\n",
              "    .colab-df-convert:hover {\n",
              "      background-color: #E2EBFA;\n",
              "      box-shadow: 0px 1px 2px rgba(60, 64, 67, 0.3), 0px 1px 3px 1px rgba(60, 64, 67, 0.15);\n",
              "      fill: #174EA6;\n",
              "    }\n",
              "\n",
              "    [theme=dark] .colab-df-convert {\n",
              "      background-color: #3B4455;\n",
              "      fill: #D2E3FC;\n",
              "    }\n",
              "\n",
              "    [theme=dark] .colab-df-convert:hover {\n",
              "      background-color: #434B5C;\n",
              "      box-shadow: 0px 1px 3px 1px rgba(0, 0, 0, 0.15);\n",
              "      filter: drop-shadow(0px 1px 2px rgba(0, 0, 0, 0.3));\n",
              "      fill: #FFFFFF;\n",
              "    }\n",
              "  </style>\n",
              "\n",
              "      <script>\n",
              "        const buttonEl =\n",
              "          document.querySelector('#df-3746a261-3f72-47c7-98e8-f9247414da77 button.colab-df-convert');\n",
              "        buttonEl.style.display =\n",
              "          google.colab.kernel.accessAllowed ? 'block' : 'none';\n",
              "\n",
              "        async function convertToInteractive(key) {\n",
              "          const element = document.querySelector('#df-3746a261-3f72-47c7-98e8-f9247414da77');\n",
              "          const dataTable =\n",
              "            await google.colab.kernel.invokeFunction('convertToInteractive',\n",
              "                                                     [key], {});\n",
              "          if (!dataTable) return;\n",
              "\n",
              "          const docLinkHtml = 'Like what you see? Visit the ' +\n",
              "            '<a target=\"_blank\" href=https://colab.research.google.com/notebooks/data_table.ipynb>data table notebook</a>'\n",
              "            + ' to learn more about interactive tables.';\n",
              "          element.innerHTML = '';\n",
              "          dataTable['output_type'] = 'display_data';\n",
              "          await google.colab.output.renderOutput(dataTable, element);\n",
              "          const docLink = document.createElement('div');\n",
              "          docLink.innerHTML = docLinkHtml;\n",
              "          element.appendChild(docLink);\n",
              "        }\n",
              "      </script>\n",
              "    </div>\n",
              "  </div>\n",
              "  "
            ]
          },
          "metadata": {},
          "execution_count": 26
        }
      ]
    },
    {
      "cell_type": "code",
      "source": [
        "train_df.to_csv('/content/C4 data/c4_200m_550k.csv', index=False)"
      ],
      "metadata": {
        "id": "MXYadMhl99K1"
      },
      "execution_count": null,
      "outputs": []
    },
    {
      "cell_type": "code",
      "source": [
        "train_data = c4_builder.as_dataset(split='train', shuffle_files=True)\n",
        "train_df = tfds.as_dataframe(train_data.take(550000))"
      ],
      "metadata": {
        "id": "2UiMC6Kx9_4n"
      },
      "execution_count": null,
      "outputs": []
    },
    {
      "cell_type": "code",
      "source": [
        "train_df.shape"
      ],
      "metadata": {
        "colab": {
          "base_uri": "https://localhost:8080/"
        },
        "id": "iE36jkVZ-CdW",
        "outputId": "7833920d-61a4-4c10-f09b-2c9a674a7530"
      },
      "execution_count": null,
      "outputs": [
        {
          "output_type": "execute_result",
          "data": {
            "text/plain": [
              "(550000, 2)"
            ]
          },
          "metadata": {},
          "execution_count": 29
        }
      ]
    },
    {
      "cell_type": "code",
      "source": [
        "train_df['input'] = train_df['input'].str.decode(encoding = 'UTF-8')\n",
        "train_df['output'] = train_df['output'].str.decode(encoding = 'UTF-8')"
      ],
      "metadata": {
        "id": "UALhhWoH-H0k"
      },
      "execution_count": null,
      "outputs": []
    },
    {
      "cell_type": "code",
      "source": [
        "train_df.head(10)"
      ],
      "metadata": {
        "colab": {
          "base_uri": "https://localhost:8080/",
          "height": 363
        },
        "id": "si3a8nZL-IbX",
        "outputId": "d2bd50bc-998b-4875-99c3-0b8e384e558e"
      },
      "execution_count": null,
      "outputs": [
        {
          "output_type": "execute_result",
          "data": {
            "text/plain": [
              "                                               input  \\\n",
              "0  1: a sense of shared identify between schools ...   \n",
              "1  We equally respect the Bible’s Older and Coven...   \n",
              "2   I think i've fall in love with guy on the net?!?   \n",
              "3  3) The parent together should forward group to...   \n",
              "4  an important how re-evaluation of a variety of...   \n",
              "5  9 Radis is a vivid light, suitable for illumin...   \n",
              "6  Three years after the first event in Banff (Ca...   \n",
              "7  Hope you'll grab a fav bev (and come for visit...   \n",
              "8  Maching Leash: The matching leash can be order...   \n",
              "9  Design: Randomized placebo-controlled-trail (P...   \n",
              "\n",
              "                                              output  \n",
              "0  1. A sense of shared identity between schools ...  \n",
              "1  We equally revere the Bible’s Older and Newer ...  \n",
              "2  I think i've fallen in love with this guy on t...  \n",
              "3  3) The parent should then forward form to Walk...  \n",
              "4  an important re-evaluation of a variety of ass...  \n",
              "5  9 LEDs provides strong light, suitable for lig...  \n",
              "6  Three years after the first event in Banff, Ca...  \n",
              "7  Hope you'll grab a fav bev and come for a visi...  \n",
              "8  Matching Leash: The matching leash can be orde...  \n",
              "9  Design: Randomized placebo-controlled trial (P...  "
            ],
            "text/html": [
              "\n",
              "  <div id=\"df-44d13f3a-de46-4aa9-a8ba-eddfe7a273c4\">\n",
              "    <div class=\"colab-df-container\">\n",
              "      <div>\n",
              "<style scoped>\n",
              "    .dataframe tbody tr th:only-of-type {\n",
              "        vertical-align: middle;\n",
              "    }\n",
              "\n",
              "    .dataframe tbody tr th {\n",
              "        vertical-align: top;\n",
              "    }\n",
              "\n",
              "    .dataframe thead th {\n",
              "        text-align: right;\n",
              "    }\n",
              "</style>\n",
              "<table border=\"1\" class=\"dataframe\">\n",
              "  <thead>\n",
              "    <tr style=\"text-align: right;\">\n",
              "      <th></th>\n",
              "      <th>input</th>\n",
              "      <th>output</th>\n",
              "    </tr>\n",
              "  </thead>\n",
              "  <tbody>\n",
              "    <tr>\n",
              "      <th>0</th>\n",
              "      <td>1: a sense of shared identify between schools ...</td>\n",
              "      <td>1. A sense of shared identity between schools ...</td>\n",
              "    </tr>\n",
              "    <tr>\n",
              "      <th>1</th>\n",
              "      <td>We equally respect the Bible’s Older and Coven...</td>\n",
              "      <td>We equally revere the Bible’s Older and Newer ...</td>\n",
              "    </tr>\n",
              "    <tr>\n",
              "      <th>2</th>\n",
              "      <td>I think i've fall in love with guy on the net?!?</td>\n",
              "      <td>I think i've fallen in love with this guy on t...</td>\n",
              "    </tr>\n",
              "    <tr>\n",
              "      <th>3</th>\n",
              "      <td>3) The parent together should forward group to...</td>\n",
              "      <td>3) The parent should then forward form to Walk...</td>\n",
              "    </tr>\n",
              "    <tr>\n",
              "      <th>4</th>\n",
              "      <td>an important how re-evaluation of a variety of...</td>\n",
              "      <td>an important re-evaluation of a variety of ass...</td>\n",
              "    </tr>\n",
              "    <tr>\n",
              "      <th>5</th>\n",
              "      <td>9 Radis is a vivid light, suitable for illumin...</td>\n",
              "      <td>9 LEDs provides strong light, suitable for lig...</td>\n",
              "    </tr>\n",
              "    <tr>\n",
              "      <th>6</th>\n",
              "      <td>Three years after the first event in Banff (Ca...</td>\n",
              "      <td>Three years after the first event in Banff, Ca...</td>\n",
              "    </tr>\n",
              "    <tr>\n",
              "      <th>7</th>\n",
              "      <td>Hope you'll grab a fav bev (and come for visit...</td>\n",
              "      <td>Hope you'll grab a fav bev and come for a visi...</td>\n",
              "    </tr>\n",
              "    <tr>\n",
              "      <th>8</th>\n",
              "      <td>Maching Leash: The matching leash can be order...</td>\n",
              "      <td>Matching Leash: The matching leash can be orde...</td>\n",
              "    </tr>\n",
              "    <tr>\n",
              "      <th>9</th>\n",
              "      <td>Design: Randomized placebo-controlled-trail (P...</td>\n",
              "      <td>Design: Randomized placebo-controlled trial (P...</td>\n",
              "    </tr>\n",
              "  </tbody>\n",
              "</table>\n",
              "</div>\n",
              "      <button class=\"colab-df-convert\" onclick=\"convertToInteractive('df-44d13f3a-de46-4aa9-a8ba-eddfe7a273c4')\"\n",
              "              title=\"Convert this dataframe to an interactive table.\"\n",
              "              style=\"display:none;\">\n",
              "        \n",
              "  <svg xmlns=\"http://www.w3.org/2000/svg\" height=\"24px\"viewBox=\"0 0 24 24\"\n",
              "       width=\"24px\">\n",
              "    <path d=\"M0 0h24v24H0V0z\" fill=\"none\"/>\n",
              "    <path d=\"M18.56 5.44l.94 2.06.94-2.06 2.06-.94-2.06-.94-.94-2.06-.94 2.06-2.06.94zm-11 1L8.5 8.5l.94-2.06 2.06-.94-2.06-.94L8.5 2.5l-.94 2.06-2.06.94zm10 10l.94 2.06.94-2.06 2.06-.94-2.06-.94-.94-2.06-.94 2.06-2.06.94z\"/><path d=\"M17.41 7.96l-1.37-1.37c-.4-.4-.92-.59-1.43-.59-.52 0-1.04.2-1.43.59L10.3 9.45l-7.72 7.72c-.78.78-.78 2.05 0 2.83L4 21.41c.39.39.9.59 1.41.59.51 0 1.02-.2 1.41-.59l7.78-7.78 2.81-2.81c.8-.78.8-2.07 0-2.86zM5.41 20L4 18.59l7.72-7.72 1.47 1.35L5.41 20z\"/>\n",
              "  </svg>\n",
              "      </button>\n",
              "      \n",
              "  <style>\n",
              "    .colab-df-container {\n",
              "      display:flex;\n",
              "      flex-wrap:wrap;\n",
              "      gap: 12px;\n",
              "    }\n",
              "\n",
              "    .colab-df-convert {\n",
              "      background-color: #E8F0FE;\n",
              "      border: none;\n",
              "      border-radius: 50%;\n",
              "      cursor: pointer;\n",
              "      display: none;\n",
              "      fill: #1967D2;\n",
              "      height: 32px;\n",
              "      padding: 0 0 0 0;\n",
              "      width: 32px;\n",
              "    }\n",
              "\n",
              "    .colab-df-convert:hover {\n",
              "      background-color: #E2EBFA;\n",
              "      box-shadow: 0px 1px 2px rgba(60, 64, 67, 0.3), 0px 1px 3px 1px rgba(60, 64, 67, 0.15);\n",
              "      fill: #174EA6;\n",
              "    }\n",
              "\n",
              "    [theme=dark] .colab-df-convert {\n",
              "      background-color: #3B4455;\n",
              "      fill: #D2E3FC;\n",
              "    }\n",
              "\n",
              "    [theme=dark] .colab-df-convert:hover {\n",
              "      background-color: #434B5C;\n",
              "      box-shadow: 0px 1px 3px 1px rgba(0, 0, 0, 0.15);\n",
              "      filter: drop-shadow(0px 1px 2px rgba(0, 0, 0, 0.3));\n",
              "      fill: #FFFFFF;\n",
              "    }\n",
              "  </style>\n",
              "\n",
              "      <script>\n",
              "        const buttonEl =\n",
              "          document.querySelector('#df-44d13f3a-de46-4aa9-a8ba-eddfe7a273c4 button.colab-df-convert');\n",
              "        buttonEl.style.display =\n",
              "          google.colab.kernel.accessAllowed ? 'block' : 'none';\n",
              "\n",
              "        async function convertToInteractive(key) {\n",
              "          const element = document.querySelector('#df-44d13f3a-de46-4aa9-a8ba-eddfe7a273c4');\n",
              "          const dataTable =\n",
              "            await google.colab.kernel.invokeFunction('convertToInteractive',\n",
              "                                                     [key], {});\n",
              "          if (!dataTable) return;\n",
              "\n",
              "          const docLinkHtml = 'Like what you see? Visit the ' +\n",
              "            '<a target=\"_blank\" href=https://colab.research.google.com/notebooks/data_table.ipynb>data table notebook</a>'\n",
              "            + ' to learn more about interactive tables.';\n",
              "          element.innerHTML = '';\n",
              "          dataTable['output_type'] = 'display_data';\n",
              "          await google.colab.output.renderOutput(dataTable, element);\n",
              "          const docLink = document.createElement('div');\n",
              "          docLink.innerHTML = docLinkHtml;\n",
              "          element.appendChild(docLink);\n",
              "        }\n",
              "      </script>\n",
              "    </div>\n",
              "  </div>\n",
              "  "
            ]
          },
          "metadata": {},
          "execution_count": 32
        }
      ]
    },
    {
      "cell_type": "code",
      "source": [
        "train_df.to_csv('/content/C4 data/c4_200m_1M.csv', index=False)\n"
      ],
      "metadata": {
        "id": "cm4Rmsec-KTS"
      },
      "execution_count": null,
      "outputs": []
    },
    {
      "cell_type": "markdown",
      "source": [
        "# installing libraries"
      ],
      "metadata": {
        "id": "aOxBFkX9-QlQ"
      }
    },
    {
      "cell_type": "code",
      "source": [
        "from google.colab import drive\n",
        "drive.mount('/content/drive')"
      ],
      "metadata": {
        "colab": {
          "base_uri": "https://localhost:8080/"
        },
        "id": "HEuW-38f-bXq",
        "outputId": "9df4cb0b-e2ff-494e-94f6-dfcd383db613"
      },
      "execution_count": null,
      "outputs": [
        {
          "output_type": "stream",
          "name": "stdout",
          "text": [
            "Mounted at /content/drive\n"
          ]
        }
      ]
    },
    {
      "cell_type": "code",
      "source": [
        "!pip install datasets tqdm pandas\n"
      ],
      "metadata": {
        "colab": {
          "base_uri": "https://localhost:8080/",
          "height": 1000
        },
        "id": "SdfpSaDo-gY_",
        "outputId": "0578c460-6a93-4dd8-f988-f9a99c4ad49a"
      },
      "execution_count": null,
      "outputs": [
        {
          "output_type": "stream",
          "name": "stdout",
          "text": [
            "Collecting datasets\n",
            "  Downloading datasets-2.1.0-py3-none-any.whl (325 kB)\n",
            "\u001b[?25l\r\u001b[K     |█                               | 10 kB 18.1 MB/s eta 0:00:01\r\u001b[K     |██                              | 20 kB 11.3 MB/s eta 0:00:01\r\u001b[K     |███                             | 30 kB 9.2 MB/s eta 0:00:01\r\u001b[K     |████                            | 40 kB 8.5 MB/s eta 0:00:01\r\u001b[K     |█████                           | 51 kB 4.3 MB/s eta 0:00:01\r\u001b[K     |██████                          | 61 kB 5.1 MB/s eta 0:00:01\r\u001b[K     |███████                         | 71 kB 5.6 MB/s eta 0:00:01\r\u001b[K     |████████                        | 81 kB 4.1 MB/s eta 0:00:01\r\u001b[K     |█████████                       | 92 kB 4.5 MB/s eta 0:00:01\r\u001b[K     |██████████                      | 102 kB 4.9 MB/s eta 0:00:01\r\u001b[K     |███████████                     | 112 kB 4.9 MB/s eta 0:00:01\r\u001b[K     |████████████                    | 122 kB 4.9 MB/s eta 0:00:01\r\u001b[K     |█████████████                   | 133 kB 4.9 MB/s eta 0:00:01\r\u001b[K     |██████████████                  | 143 kB 4.9 MB/s eta 0:00:01\r\u001b[K     |███████████████                 | 153 kB 4.9 MB/s eta 0:00:01\r\u001b[K     |████████████████▏               | 163 kB 4.9 MB/s eta 0:00:01\r\u001b[K     |█████████████████▏              | 174 kB 4.9 MB/s eta 0:00:01\r\u001b[K     |██████████████████▏             | 184 kB 4.9 MB/s eta 0:00:01\r\u001b[K     |███████████████████▏            | 194 kB 4.9 MB/s eta 0:00:01\r\u001b[K     |████████████████████▏           | 204 kB 4.9 MB/s eta 0:00:01\r\u001b[K     |█████████████████████▏          | 215 kB 4.9 MB/s eta 0:00:01\r\u001b[K     |██████████████████████▏         | 225 kB 4.9 MB/s eta 0:00:01\r\u001b[K     |███████████████████████▏        | 235 kB 4.9 MB/s eta 0:00:01\r\u001b[K     |████████████████████████▏       | 245 kB 4.9 MB/s eta 0:00:01\r\u001b[K     |█████████████████████████▏      | 256 kB 4.9 MB/s eta 0:00:01\r\u001b[K     |██████████████████████████▏     | 266 kB 4.9 MB/s eta 0:00:01\r\u001b[K     |███████████████████████████▏    | 276 kB 4.9 MB/s eta 0:00:01\r\u001b[K     |████████████████████████████▏   | 286 kB 4.9 MB/s eta 0:00:01\r\u001b[K     |█████████████████████████████▏  | 296 kB 4.9 MB/s eta 0:00:01\r\u001b[K     |██████████████████████████████▏ | 307 kB 4.9 MB/s eta 0:00:01\r\u001b[K     |███████████████████████████████▏| 317 kB 4.9 MB/s eta 0:00:01\r\u001b[K     |████████████████████████████████| 325 kB 4.9 MB/s \n",
            "\u001b[?25hRequirement already satisfied: tqdm in /usr/local/lib/python3.7/dist-packages (4.64.0)\n",
            "Requirement already satisfied: pandas in /usr/local/lib/python3.7/dist-packages (1.3.5)\n",
            "Requirement already satisfied: numpy>=1.17 in /usr/local/lib/python3.7/dist-packages (from datasets) (1.21.6)\n",
            "Requirement already satisfied: importlib-metadata in /usr/local/lib/python3.7/dist-packages (from datasets) (4.11.3)\n",
            "Collecting xxhash\n",
            "  Downloading xxhash-3.0.0-cp37-cp37m-manylinux_2_17_x86_64.manylinux2014_x86_64.whl (212 kB)\n",
            "\u001b[K     |████████████████████████████████| 212 kB 49.0 MB/s \n",
            "\u001b[?25hCollecting fsspec[http]>=2021.05.0\n",
            "  Downloading fsspec-2022.3.0-py3-none-any.whl (136 kB)\n",
            "\u001b[K     |████████████████████████████████| 136 kB 39.0 MB/s \n",
            "\u001b[?25hRequirement already satisfied: packaging in /usr/local/lib/python3.7/dist-packages (from datasets) (21.3)\n",
            "Requirement already satisfied: requests>=2.19.0 in /usr/local/lib/python3.7/dist-packages (from datasets) (2.27.1)\n",
            "Collecting aiohttp\n",
            "  Downloading aiohttp-3.8.1-cp37-cp37m-manylinux_2_5_x86_64.manylinux1_x86_64.manylinux_2_12_x86_64.manylinux2010_x86_64.whl (1.1 MB)\n",
            "\u001b[K     |████████████████████████████████| 1.1 MB 38.8 MB/s \n",
            "\u001b[?25hRequirement already satisfied: huggingface-hub<1.0.0,>=0.1.0 in /usr/local/lib/python3.7/dist-packages (from datasets) (0.5.1)\n",
            "Requirement already satisfied: multiprocess in /usr/local/lib/python3.7/dist-packages (from datasets) (0.70.12.2)\n",
            "Requirement already satisfied: pyarrow>=5.0.0 in /usr/local/lib/python3.7/dist-packages (from datasets) (6.0.1)\n",
            "Collecting responses<0.19\n",
            "  Downloading responses-0.18.0-py3-none-any.whl (38 kB)\n",
            "Requirement already satisfied: dill in /usr/local/lib/python3.7/dist-packages (from datasets) (0.3.1.1)\n",
            "Requirement already satisfied: pyyaml in /usr/local/lib/python3.7/dist-packages (from huggingface-hub<1.0.0,>=0.1.0->datasets) (6.0)\n",
            "Requirement already satisfied: typing-extensions>=3.7.4.3 in /usr/local/lib/python3.7/dist-packages (from huggingface-hub<1.0.0,>=0.1.0->datasets) (4.2.0)\n",
            "Requirement already satisfied: filelock in /usr/local/lib/python3.7/dist-packages (from huggingface-hub<1.0.0,>=0.1.0->datasets) (3.6.0)\n",
            "Requirement already satisfied: pyparsing!=3.0.5,>=2.0.2 in /usr/local/lib/python3.7/dist-packages (from packaging->datasets) (3.0.8)\n",
            "Requirement already satisfied: charset-normalizer~=2.0.0 in /usr/local/lib/python3.7/dist-packages (from requests>=2.19.0->datasets) (2.0.12)\n",
            "Requirement already satisfied: idna<4,>=2.5 in /usr/local/lib/python3.7/dist-packages (from requests>=2.19.0->datasets) (2.10)\n",
            "Requirement already satisfied: urllib3<1.27,>=1.21.1 in /usr/local/lib/python3.7/dist-packages (from requests>=2.19.0->datasets) (1.24.3)\n",
            "Requirement already satisfied: certifi>=2017.4.17 in /usr/local/lib/python3.7/dist-packages (from requests>=2.19.0->datasets) (2021.10.8)\n",
            "Collecting urllib3<1.27,>=1.21.1\n",
            "  Downloading urllib3-1.26.9-py2.py3-none-any.whl (138 kB)\n",
            "\u001b[K     |████████████████████████████████| 138 kB 60.0 MB/s \n",
            "\u001b[?25hRequirement already satisfied: python-dateutil>=2.7.3 in /usr/local/lib/python3.7/dist-packages (from pandas) (2.8.2)\n",
            "Requirement already satisfied: pytz>=2017.3 in /usr/local/lib/python3.7/dist-packages (from pandas) (2022.1)\n",
            "Requirement already satisfied: six>=1.5 in /usr/local/lib/python3.7/dist-packages (from python-dateutil>=2.7.3->pandas) (1.15.0)\n",
            "Collecting asynctest==0.13.0\n",
            "  Downloading asynctest-0.13.0-py3-none-any.whl (26 kB)\n",
            "Collecting multidict<7.0,>=4.5\n",
            "  Downloading multidict-6.0.2-cp37-cp37m-manylinux_2_17_x86_64.manylinux2014_x86_64.whl (94 kB)\n",
            "\u001b[K     |████████████████████████████████| 94 kB 2.3 MB/s \n",
            "\u001b[?25hCollecting aiosignal>=1.1.2\n",
            "  Downloading aiosignal-1.2.0-py3-none-any.whl (8.2 kB)\n",
            "Collecting yarl<2.0,>=1.0\n",
            "  Downloading yarl-1.7.2-cp37-cp37m-manylinux_2_5_x86_64.manylinux1_x86_64.manylinux_2_12_x86_64.manylinux2010_x86_64.whl (271 kB)\n",
            "\u001b[K     |████████████████████████████████| 271 kB 40.1 MB/s \n",
            "\u001b[?25hRequirement already satisfied: attrs>=17.3.0 in /usr/local/lib/python3.7/dist-packages (from aiohttp->datasets) (21.4.0)\n",
            "Collecting frozenlist>=1.1.1\n",
            "  Downloading frozenlist-1.3.0-cp37-cp37m-manylinux_2_5_x86_64.manylinux1_x86_64.manylinux_2_17_x86_64.manylinux2014_x86_64.whl (144 kB)\n",
            "\u001b[K     |████████████████████████████████| 144 kB 51.3 MB/s \n",
            "\u001b[?25hCollecting async-timeout<5.0,>=4.0.0a3\n",
            "  Downloading async_timeout-4.0.2-py3-none-any.whl (5.8 kB)\n",
            "Requirement already satisfied: zipp>=0.5 in /usr/local/lib/python3.7/dist-packages (from importlib-metadata->datasets) (3.8.0)\n",
            "Collecting dill\n",
            "  Downloading dill-0.3.4-py2.py3-none-any.whl (86 kB)\n",
            "\u001b[K     |████████████████████████████████| 86 kB 4.1 MB/s \n",
            "\u001b[?25hInstalling collected packages: multidict, frozenlist, yarl, urllib3, asynctest, async-timeout, aiosignal, fsspec, dill, aiohttp, xxhash, responses, datasets\n",
            "  Attempting uninstall: urllib3\n",
            "    Found existing installation: urllib3 1.24.3\n",
            "    Uninstalling urllib3-1.24.3:\n",
            "      Successfully uninstalled urllib3-1.24.3\n",
            "  Attempting uninstall: dill\n",
            "    Found existing installation: dill 0.3.1.1\n",
            "    Uninstalling dill-0.3.1.1:\n",
            "      Successfully uninstalled dill-0.3.1.1\n",
            "\u001b[31mERROR: pip's dependency resolver does not currently take into account all the packages that are installed. This behaviour is the source of the following dependency conflicts.\n",
            "google-colab 1.0.0 requires requests~=2.23.0, but you have requests 2.27.1 which is incompatible.\n",
            "datascience 0.10.6 requires folium==0.2.1, but you have folium 0.8.3 which is incompatible.\n",
            "apache-beam 2.38.0 requires dill<0.3.2,>=0.3.1.1, but you have dill 0.3.4 which is incompatible.\u001b[0m\n",
            "Successfully installed aiohttp-3.8.1 aiosignal-1.2.0 async-timeout-4.0.2 asynctest-0.13.0 datasets-2.1.0 dill-0.3.4 frozenlist-1.3.0 fsspec-2022.3.0 multidict-6.0.2 responses-0.18.0 urllib3-1.26.9 xxhash-3.0.0 yarl-1.7.2\n"
          ]
        },
        {
          "output_type": "display_data",
          "data": {
            "application/vnd.colab-display-data+json": {
              "pip_warning": {
                "packages": [
                  "dill",
                  "urllib3"
                ]
              }
            }
          },
          "metadata": {}
        }
      ]
    },
    {
      "cell_type": "code",
      "source": [
        "!pip install wandb\n"
      ],
      "metadata": {
        "colab": {
          "base_uri": "https://localhost:8080/"
        },
        "id": "MdMl0U60-iia",
        "outputId": "a4e23b83-68c2-464f-a0f5-2accd17cea99"
      },
      "execution_count": null,
      "outputs": [
        {
          "output_type": "stream",
          "name": "stdout",
          "text": [
            "Collecting wandb\n",
            "  Downloading wandb-0.12.15-py2.py3-none-any.whl (1.8 MB)\n",
            "\u001b[K     |████████████████████████████████| 1.8 MB 5.2 MB/s \n",
            "\u001b[?25hCollecting GitPython>=1.0.0\n",
            "  Downloading GitPython-3.1.27-py3-none-any.whl (181 kB)\n",
            "\u001b[K     |████████████████████████████████| 181 kB 45.2 MB/s \n",
            "\u001b[?25hRequirement already satisfied: PyYAML in /usr/local/lib/python3.7/dist-packages (from wandb) (6.0)\n",
            "Collecting sentry-sdk>=1.0.0\n",
            "  Downloading sentry_sdk-1.5.10-py2.py3-none-any.whl (144 kB)\n",
            "\u001b[K     |████████████████████████████████| 144 kB 46.3 MB/s \n",
            "\u001b[?25hCollecting setproctitle\n",
            "  Downloading setproctitle-1.2.3-cp37-cp37m-manylinux_2_5_x86_64.manylinux1_x86_64.manylinux_2_17_x86_64.manylinux2014_x86_64.whl (29 kB)\n",
            "Requirement already satisfied: python-dateutil>=2.6.1 in /usr/local/lib/python3.7/dist-packages (from wandb) (2.8.2)\n",
            "Collecting shortuuid>=0.5.0\n",
            "  Downloading shortuuid-1.0.8-py3-none-any.whl (9.5 kB)\n",
            "Collecting pathtools\n",
            "  Downloading pathtools-0.1.2.tar.gz (11 kB)\n",
            "Requirement already satisfied: protobuf>=3.12.0 in /usr/local/lib/python3.7/dist-packages (from wandb) (3.20.1)\n",
            "Requirement already satisfied: psutil>=5.0.0 in /usr/local/lib/python3.7/dist-packages (from wandb) (5.4.8)\n",
            "Requirement already satisfied: six>=1.13.0 in /usr/local/lib/python3.7/dist-packages (from wandb) (1.15.0)\n",
            "Collecting docker-pycreds>=0.4.0\n",
            "  Downloading docker_pycreds-0.4.0-py2.py3-none-any.whl (9.0 kB)\n",
            "Requirement already satisfied: Click!=8.0.0,>=7.0 in /usr/local/lib/python3.7/dist-packages (from wandb) (7.1.2)\n",
            "Requirement already satisfied: requests<3,>=2.0.0 in /usr/local/lib/python3.7/dist-packages (from wandb) (2.27.1)\n",
            "Requirement already satisfied: promise<3,>=2.0 in /usr/local/lib/python3.7/dist-packages (from wandb) (2.3)\n",
            "Requirement already satisfied: typing-extensions>=3.7.4.3 in /usr/local/lib/python3.7/dist-packages (from GitPython>=1.0.0->wandb) (4.2.0)\n",
            "Collecting gitdb<5,>=4.0.1\n",
            "  Downloading gitdb-4.0.9-py3-none-any.whl (63 kB)\n",
            "\u001b[K     |████████████████████████████████| 63 kB 1.5 MB/s \n",
            "\u001b[?25hCollecting smmap<6,>=3.0.1\n",
            "  Downloading smmap-5.0.0-py3-none-any.whl (24 kB)\n",
            "Requirement already satisfied: urllib3<1.27,>=1.21.1 in /usr/local/lib/python3.7/dist-packages (from requests<3,>=2.0.0->wandb) (1.26.9)\n",
            "Requirement already satisfied: charset-normalizer~=2.0.0 in /usr/local/lib/python3.7/dist-packages (from requests<3,>=2.0.0->wandb) (2.0.12)\n",
            "Requirement already satisfied: certifi>=2017.4.17 in /usr/local/lib/python3.7/dist-packages (from requests<3,>=2.0.0->wandb) (2021.10.8)\n",
            "Requirement already satisfied: idna<4,>=2.5 in /usr/local/lib/python3.7/dist-packages (from requests<3,>=2.0.0->wandb) (2.10)\n",
            "Building wheels for collected packages: pathtools\n",
            "  Building wheel for pathtools (setup.py) ... \u001b[?25l\u001b[?25hdone\n",
            "  Created wheel for pathtools: filename=pathtools-0.1.2-py3-none-any.whl size=8806 sha256=22307c1152e59eb6cb88122717ada3493dd1dfb46424e991567ae558560e8a65\n",
            "  Stored in directory: /root/.cache/pip/wheels/3e/31/09/fa59cef12cdcfecc627b3d24273699f390e71828921b2cbba2\n",
            "Successfully built pathtools\n",
            "Installing collected packages: smmap, gitdb, shortuuid, setproctitle, sentry-sdk, pathtools, GitPython, docker-pycreds, wandb\n",
            "Successfully installed GitPython-3.1.27 docker-pycreds-0.4.0 gitdb-4.0.9 pathtools-0.1.2 sentry-sdk-1.5.10 setproctitle-1.2.3 shortuuid-1.0.8 smmap-5.0.0 wandb-0.12.15\n"
          ]
        }
      ]
    },
    {
      "cell_type": "code",
      "source": [
        "import pandas as pd\n",
        "from datasets import load_dataset\n",
        "from tqdm import tqdm"
      ],
      "metadata": {
        "id": "3OZ2yLFP-0BF",
        "colab": {
          "base_uri": "https://localhost:8080/",
          "height": 339
        },
        "outputId": "bd0e56ef-a8ad-458b-b4fb-a6458c773efd"
      },
      "execution_count": null,
      "outputs": [
        {
          "output_type": "error",
          "ename": "ModuleNotFoundError",
          "evalue": "ignored",
          "traceback": [
            "\u001b[0;31m---------------------------------------------------------------------------\u001b[0m",
            "\u001b[0;31mModuleNotFoundError\u001b[0m                       Traceback (most recent call last)",
            "\u001b[0;32m<ipython-input-3-05334eb04f5e>\u001b[0m in \u001b[0;36m<module>\u001b[0;34m()\u001b[0m\n\u001b[1;32m      1\u001b[0m \u001b[0;32mimport\u001b[0m \u001b[0mpandas\u001b[0m \u001b[0;32mas\u001b[0m \u001b[0mpd\u001b[0m\u001b[0;34m\u001b[0m\u001b[0;34m\u001b[0m\u001b[0m\n\u001b[0;32m----> 2\u001b[0;31m \u001b[0;32mfrom\u001b[0m \u001b[0mdatasets\u001b[0m \u001b[0;32mimport\u001b[0m \u001b[0mload_dataset\u001b[0m\u001b[0;34m\u001b[0m\u001b[0;34m\u001b[0m\u001b[0m\n\u001b[0m\u001b[1;32m      3\u001b[0m \u001b[0;32mfrom\u001b[0m \u001b[0mtqdm\u001b[0m \u001b[0;32mimport\u001b[0m \u001b[0mtqdm\u001b[0m\u001b[0;34m\u001b[0m\u001b[0;34m\u001b[0m\u001b[0m\n",
            "\u001b[0;31mModuleNotFoundError\u001b[0m: No module named 'datasets'",
            "",
            "\u001b[0;31m---------------------------------------------------------------------------\u001b[0;32m\nNOTE: If your import is failing due to a missing package, you can\nmanually install dependencies using either !pip or !apt.\n\nTo view examples of installing some common dependencies, click the\n\"Open Examples\" button below.\n\u001b[0;31m---------------------------------------------------------------------------\u001b[0m\n"
          ],
          "errorDetails": {
            "actions": [
              {
                "action": "open_url",
                "actionText": "Open Examples",
                "url": "/notebooks/snippets/importing_libraries.ipynb"
              }
            ]
          }
        }
      ]
    },
    {
      "cell_type": "code",
      "source": [
        "!nvidia-smi\n"
      ],
      "metadata": {
        "colab": {
          "base_uri": "https://localhost:8080/"
        },
        "id": "wwaFwuBz-07A",
        "outputId": "94818d88-c19f-4e29-d5a9-58560a229404"
      },
      "execution_count": null,
      "outputs": [
        {
          "output_type": "stream",
          "name": "stdout",
          "text": [
            "NVIDIA-SMI has failed because it couldn't communicate with the NVIDIA driver. Make sure that the latest NVIDIA driver is installed and running.\n",
            "\n"
          ]
        }
      ]
    },
    {
      "cell_type": "code",
      "source": [
        "import argparse\n",
        "import datasets\n",
        "import glob\n",
        "import os\n",
        "import json\n",
        "import time\n",
        "import logging\n",
        "import random\n",
        "import re\n",
        "from itertools import chain\n",
        "from string import punctuation\n",
        "\n",
        "import nltk\n",
        "nltk.download('punkt')\n",
        "from nltk.tokenize import sent_tokenize\n",
        "\n",
        "import pandas as pd\n",
        "import numpy as np\n",
        "import torch\n",
        "from torch.utils.data import Dataset, DataLoader\n",
        "\n",
        "from transformers import (\n",
        "    AdamW,\n",
        "    T5ForConditionalGeneration,\n",
        "    T5Tokenizer,\n",
        "    get_linear_schedule_with_warmup\n",
        ")"
      ],
      "metadata": {
        "colab": {
          "base_uri": "https://localhost:8080/",
          "height": 374
        },
        "id": "NJr2nOPs-30d",
        "outputId": "1c6f0ae9-3fe6-40be-e327-efd9fb5a7897"
      },
      "execution_count": null,
      "outputs": [
        {
          "output_type": "error",
          "ename": "ModuleNotFoundError",
          "evalue": "ignored",
          "traceback": [
            "\u001b[0;31m---------------------------------------------------------------------------\u001b[0m",
            "\u001b[0;31mModuleNotFoundError\u001b[0m                       Traceback (most recent call last)",
            "\u001b[0;32m<ipython-input-2-63c18e7782e5>\u001b[0m in \u001b[0;36m<module>\u001b[0;34m()\u001b[0m\n\u001b[1;32m      1\u001b[0m \u001b[0;32mimport\u001b[0m \u001b[0margparse\u001b[0m\u001b[0;34m\u001b[0m\u001b[0;34m\u001b[0m\u001b[0m\n\u001b[0;32m----> 2\u001b[0;31m \u001b[0;32mimport\u001b[0m \u001b[0mdatasets\u001b[0m\u001b[0;34m\u001b[0m\u001b[0;34m\u001b[0m\u001b[0m\n\u001b[0m\u001b[1;32m      3\u001b[0m \u001b[0;32mimport\u001b[0m \u001b[0mglob\u001b[0m\u001b[0;34m\u001b[0m\u001b[0;34m\u001b[0m\u001b[0m\n\u001b[1;32m      4\u001b[0m \u001b[0;32mimport\u001b[0m \u001b[0mos\u001b[0m\u001b[0;34m\u001b[0m\u001b[0;34m\u001b[0m\u001b[0m\n\u001b[1;32m      5\u001b[0m \u001b[0;32mimport\u001b[0m \u001b[0mjson\u001b[0m\u001b[0;34m\u001b[0m\u001b[0;34m\u001b[0m\u001b[0m\n",
            "\u001b[0;31mModuleNotFoundError\u001b[0m: No module named 'datasets'",
            "",
            "\u001b[0;31m---------------------------------------------------------------------------\u001b[0;32m\nNOTE: If your import is failing due to a missing package, you can\nmanually install dependencies using either !pip or !apt.\n\nTo view examples of installing some common dependencies, click the\n\"Open Examples\" button below.\n\u001b[0;31m---------------------------------------------------------------------------\u001b[0m\n"
          ],
          "errorDetails": {
            "actions": [
              {
                "action": "open_url",
                "actionText": "Open Examples",
                "url": "/notebooks/snippets/importing_libraries.ipynb"
              }
            ]
          }
        }
      ]
    },
    {
      "cell_type": "code",
      "source": [
        "def set_seed(seed):\n",
        "  random.seed(seed)\n",
        "  np.random.seed(seed)\n",
        "  torch.manual_seed(seed)\n",
        "\n",
        "set_seed(42)"
      ],
      "metadata": {
        "id": "a2tVJRz8_F-9"
      },
      "execution_count": null,
      "outputs": []
    },
    {
      "cell_type": "code",
      "source": [
        "pd.set_option('display.max_colwidth', None)\n",
        "df = pd.read_csv('/content/C4 data/c4_200m_550k.csv')"
      ],
      "metadata": {
        "id": "NV0wpgfN_azR"
      },
      "execution_count": null,
      "outputs": []
    },
    {
      "cell_type": "code",
      "source": [
        "df.shape\n"
      ],
      "metadata": {
        "colab": {
          "base_uri": "https://localhost:8080/"
        },
        "id": "VtcV_kOA_d2V",
        "outputId": "b0cc3b08-b663-4421-aa3b-65925264a5b7"
      },
      "execution_count": null,
      "outputs": [
        {
          "output_type": "execute_result",
          "data": {
            "text/plain": [
              "(550000, 2)"
            ]
          },
          "metadata": {},
          "execution_count": 44
        }
      ]
    },
    {
      "cell_type": "code",
      "source": [
        "df.head(10)\n"
      ],
      "metadata": {
        "colab": {
          "base_uri": "https://localhost:8080/",
          "height": 470
        },
        "id": "WQOjWtT5_qbD",
        "outputId": "0e681ebf-b5a0-48be-a556-5c5d6f04f015"
      },
      "execution_count": null,
      "outputs": [
        {
          "output_type": "execute_result",
          "data": {
            "text/plain": [
              "                                                                                                                                                                 input  \\\n",
              "0             1: a sense of shared identify between schools – for example, through proximity geographicus, or a sense of being inclusive communities or representative   \n",
              "1  We equally respect the Bible’s Older and Covenants and observe the Biblical Feasts and Festivals; we honor Jewish traditions as it points to the Messiah in Israel.   \n",
              "2                                                                                                                     I think i've fall in love with guy on the net?!?   \n",
              "3                                                         3) The parent together should forward group to Walkwood Church of England Middle School marked “Admissions”.   \n",
              "4                                                                                                an important how re-evaluation of a variety of associated paradighms.   \n",
              "5                                                 9 Radis is a vivid light, suitable for illuminating music score for user playing piano or other musical instruments.   \n",
              "6                                Three years after the first event in Banff (Canada), TEDSummit 2019 will gather that community beyond borders in Edinburgh, Scotland.   \n",
              "7                                                                                                       Hope you'll grab a fav bev (and come for visits)over at Bella.   \n",
              "8                                                                    Maching Leash: The matching leash can be ordered together or separating from the Leashes section.   \n",
              "9                                     Design: Randomized placebo-controlled-trail (Prevention of Evnents with Angiotensin Converting-Enzyme Inhibition [PEACE] trail).   \n",
              "\n",
              "                                                                                                                                                                      output  \n",
              "0                          1. A sense of shared identity between schools – for example, through geographical proximity, or a sense of being an inclusive community or ethos.  \n",
              "1  We equally revere the Bible’s Older and Newer Covenants and observe the Biblical Feasts and Festivals. We honor Jewish traditions as they point to the Messiah of Israel.  \n",
              "2                                                                                                                    I think i've fallen in love with this guy on the net?!?  \n",
              "3                                                                   3) The parent should then forward form to Walkwood Church of England Middle School, marked “Admissions”.  \n",
              "4                                                                                                           an important re-evaluation of a variety of associated paradigms.  \n",
              "5                                                       9 LEDs provides strong light, suitable for lighting music score when user playing piano or other musical instrument.  \n",
              "6                                       Three years after the first event in Banff, Canada, TEDSummit 2019 will gather that community beyond borders in Edinburgh, Scotland.  \n",
              "7                                                                                                             Hope you'll grab a fav bev and come for a visit over at Bella.  \n",
              "8                                                                         Matching Leash: The matching leash can be ordered together or separately from the Leashes section.  \n",
              "9                                            Design: Randomized placebo-controlled trial (Prevention of Events with Angiotensin Converting Enzyme Inhibition [PEACE] trial).  "
            ],
            "text/html": [
              "\n",
              "  <div id=\"df-63532b42-5669-4d13-9e36-092e0c3fe848\">\n",
              "    <div class=\"colab-df-container\">\n",
              "      <div>\n",
              "<style scoped>\n",
              "    .dataframe tbody tr th:only-of-type {\n",
              "        vertical-align: middle;\n",
              "    }\n",
              "\n",
              "    .dataframe tbody tr th {\n",
              "        vertical-align: top;\n",
              "    }\n",
              "\n",
              "    .dataframe thead th {\n",
              "        text-align: right;\n",
              "    }\n",
              "</style>\n",
              "<table border=\"1\" class=\"dataframe\">\n",
              "  <thead>\n",
              "    <tr style=\"text-align: right;\">\n",
              "      <th></th>\n",
              "      <th>input</th>\n",
              "      <th>output</th>\n",
              "    </tr>\n",
              "  </thead>\n",
              "  <tbody>\n",
              "    <tr>\n",
              "      <th>0</th>\n",
              "      <td>1: a sense of shared identify between schools – for example, through proximity geographicus, or a sense of being inclusive communities or representative</td>\n",
              "      <td>1. A sense of shared identity between schools – for example, through geographical proximity, or a sense of being an inclusive community or ethos.</td>\n",
              "    </tr>\n",
              "    <tr>\n",
              "      <th>1</th>\n",
              "      <td>We equally respect the Bible’s Older and Covenants and observe the Biblical Feasts and Festivals; we honor Jewish traditions as it points to the Messiah in Israel.</td>\n",
              "      <td>We equally revere the Bible’s Older and Newer Covenants and observe the Biblical Feasts and Festivals. We honor Jewish traditions as they point to the Messiah of Israel.</td>\n",
              "    </tr>\n",
              "    <tr>\n",
              "      <th>2</th>\n",
              "      <td>I think i've fall in love with guy on the net?!?</td>\n",
              "      <td>I think i've fallen in love with this guy on the net?!?</td>\n",
              "    </tr>\n",
              "    <tr>\n",
              "      <th>3</th>\n",
              "      <td>3) The parent together should forward group to Walkwood Church of England Middle School marked “Admissions”.</td>\n",
              "      <td>3) The parent should then forward form to Walkwood Church of England Middle School, marked “Admissions”.</td>\n",
              "    </tr>\n",
              "    <tr>\n",
              "      <th>4</th>\n",
              "      <td>an important how re-evaluation of a variety of associated paradighms.</td>\n",
              "      <td>an important re-evaluation of a variety of associated paradigms.</td>\n",
              "    </tr>\n",
              "    <tr>\n",
              "      <th>5</th>\n",
              "      <td>9 Radis is a vivid light, suitable for illuminating music score for user playing piano or other musical instruments.</td>\n",
              "      <td>9 LEDs provides strong light, suitable for lighting music score when user playing piano or other musical instrument.</td>\n",
              "    </tr>\n",
              "    <tr>\n",
              "      <th>6</th>\n",
              "      <td>Three years after the first event in Banff (Canada), TEDSummit 2019 will gather that community beyond borders in Edinburgh, Scotland.</td>\n",
              "      <td>Three years after the first event in Banff, Canada, TEDSummit 2019 will gather that community beyond borders in Edinburgh, Scotland.</td>\n",
              "    </tr>\n",
              "    <tr>\n",
              "      <th>7</th>\n",
              "      <td>Hope you'll grab a fav bev (and come for visits)over at Bella.</td>\n",
              "      <td>Hope you'll grab a fav bev and come for a visit over at Bella.</td>\n",
              "    </tr>\n",
              "    <tr>\n",
              "      <th>8</th>\n",
              "      <td>Maching Leash: The matching leash can be ordered together or separating from the Leashes section.</td>\n",
              "      <td>Matching Leash: The matching leash can be ordered together or separately from the Leashes section.</td>\n",
              "    </tr>\n",
              "    <tr>\n",
              "      <th>9</th>\n",
              "      <td>Design: Randomized placebo-controlled-trail (Prevention of Evnents with Angiotensin Converting-Enzyme Inhibition [PEACE] trail).</td>\n",
              "      <td>Design: Randomized placebo-controlled trial (Prevention of Events with Angiotensin Converting Enzyme Inhibition [PEACE] trial).</td>\n",
              "    </tr>\n",
              "  </tbody>\n",
              "</table>\n",
              "</div>\n",
              "      <button class=\"colab-df-convert\" onclick=\"convertToInteractive('df-63532b42-5669-4d13-9e36-092e0c3fe848')\"\n",
              "              title=\"Convert this dataframe to an interactive table.\"\n",
              "              style=\"display:none;\">\n",
              "        \n",
              "  <svg xmlns=\"http://www.w3.org/2000/svg\" height=\"24px\"viewBox=\"0 0 24 24\"\n",
              "       width=\"24px\">\n",
              "    <path d=\"M0 0h24v24H0V0z\" fill=\"none\"/>\n",
              "    <path d=\"M18.56 5.44l.94 2.06.94-2.06 2.06-.94-2.06-.94-.94-2.06-.94 2.06-2.06.94zm-11 1L8.5 8.5l.94-2.06 2.06-.94-2.06-.94L8.5 2.5l-.94 2.06-2.06.94zm10 10l.94 2.06.94-2.06 2.06-.94-2.06-.94-.94-2.06-.94 2.06-2.06.94z\"/><path d=\"M17.41 7.96l-1.37-1.37c-.4-.4-.92-.59-1.43-.59-.52 0-1.04.2-1.43.59L10.3 9.45l-7.72 7.72c-.78.78-.78 2.05 0 2.83L4 21.41c.39.39.9.59 1.41.59.51 0 1.02-.2 1.41-.59l7.78-7.78 2.81-2.81c.8-.78.8-2.07 0-2.86zM5.41 20L4 18.59l7.72-7.72 1.47 1.35L5.41 20z\"/>\n",
              "  </svg>\n",
              "      </button>\n",
              "      \n",
              "  <style>\n",
              "    .colab-df-container {\n",
              "      display:flex;\n",
              "      flex-wrap:wrap;\n",
              "      gap: 12px;\n",
              "    }\n",
              "\n",
              "    .colab-df-convert {\n",
              "      background-color: #E8F0FE;\n",
              "      border: none;\n",
              "      border-radius: 50%;\n",
              "      cursor: pointer;\n",
              "      display: none;\n",
              "      fill: #1967D2;\n",
              "      height: 32px;\n",
              "      padding: 0 0 0 0;\n",
              "      width: 32px;\n",
              "    }\n",
              "\n",
              "    .colab-df-convert:hover {\n",
              "      background-color: #E2EBFA;\n",
              "      box-shadow: 0px 1px 2px rgba(60, 64, 67, 0.3), 0px 1px 3px 1px rgba(60, 64, 67, 0.15);\n",
              "      fill: #174EA6;\n",
              "    }\n",
              "\n",
              "    [theme=dark] .colab-df-convert {\n",
              "      background-color: #3B4455;\n",
              "      fill: #D2E3FC;\n",
              "    }\n",
              "\n",
              "    [theme=dark] .colab-df-convert:hover {\n",
              "      background-color: #434B5C;\n",
              "      box-shadow: 0px 1px 3px 1px rgba(0, 0, 0, 0.15);\n",
              "      filter: drop-shadow(0px 1px 2px rgba(0, 0, 0, 0.3));\n",
              "      fill: #FFFFFF;\n",
              "    }\n",
              "  </style>\n",
              "\n",
              "      <script>\n",
              "        const buttonEl =\n",
              "          document.querySelector('#df-63532b42-5669-4d13-9e36-092e0c3fe848 button.colab-df-convert');\n",
              "        buttonEl.style.display =\n",
              "          google.colab.kernel.accessAllowed ? 'block' : 'none';\n",
              "\n",
              "        async function convertToInteractive(key) {\n",
              "          const element = document.querySelector('#df-63532b42-5669-4d13-9e36-092e0c3fe848');\n",
              "          const dataTable =\n",
              "            await google.colab.kernel.invokeFunction('convertToInteractive',\n",
              "                                                     [key], {});\n",
              "          if (!dataTable) return;\n",
              "\n",
              "          const docLinkHtml = 'Like what you see? Visit the ' +\n",
              "            '<a target=\"_blank\" href=https://colab.research.google.com/notebooks/data_table.ipynb>data table notebook</a>'\n",
              "            + ' to learn more about interactive tables.';\n",
              "          element.innerHTML = '';\n",
              "          dataTable['output_type'] = 'display_data';\n",
              "          await google.colab.output.renderOutput(dataTable, element);\n",
              "          const docLink = document.createElement('div');\n",
              "          docLink.innerHTML = docLinkHtml;\n",
              "          element.appendChild(docLink);\n",
              "        }\n",
              "      </script>\n",
              "    </div>\n",
              "  </div>\n",
              "  "
            ]
          },
          "metadata": {},
          "execution_count": 46
        }
      ]
    },
    {
      "cell_type": "code",
      "source": [
        "from transformers import (\n",
        "    T5ForConditionalGeneration, T5Tokenizer, \n",
        "    Seq2SeqTrainingArguments, Seq2SeqTrainer, DataCollatorForSeq2Seq\n",
        "  )\n",
        "\n",
        "from torch.utils.data import Dataset, DataLoader"
      ],
      "metadata": {
        "id": "rFR2PlY9_s8M"
      },
      "execution_count": null,
      "outputs": []
    },
    {
      "cell_type": "code",
      "source": [
        "model_name = 't5-base'\n",
        "tokenizer = T5Tokenizer.from_pretrained(model_name)\n",
        "model = T5ForConditionalGeneration.from_pretrained(model_name)"
      ],
      "metadata": {
        "colab": {
          "base_uri": "https://localhost:8080/",
          "height": 49,
          "referenced_widgets": [
            "eea0fea158e24570b950148fe8e77dc7",
            "a90f21ee1a514675a99876c4dcbc9944",
            "e477a91e7e094a8bb815833b39242dcc",
            "e87bc398a24341ae9fcf214f03f4472a",
            "087b3acd9ca84c769d9b62466298ed1e",
            "dc320bb2ef394e8d9f5deb04dcabc007",
            "ce04f15f0df348a5bb5c8a00ac8976bb",
            "620c483fdb78470986a47a2bed7039bb",
            "7afa2064952e4ab489fb3d78a0fdbced",
            "03059f42d0c342e1ba44780324a1fc20",
            "9292f13f99f94d5a813ee764aecd4a4c"
          ]
        },
        "id": "Um8kau_m_vlk",
        "outputId": "ed488ec2-9b98-48b8-86f9-0d0de72ca3cd"
      },
      "execution_count": null,
      "outputs": [
        {
          "output_type": "display_data",
          "data": {
            "text/plain": [
              "Downloading:   0%|          | 0.00/850M [00:00<?, ?B/s]"
            ],
            "application/vnd.jupyter.widget-view+json": {
              "version_major": 2,
              "version_minor": 0,
              "model_id": "eea0fea158e24570b950148fe8e77dc7"
            }
          },
          "metadata": {}
        }
      ]
    },
    {
      "cell_type": "code",
      "source": [
        "def calc_token_len(example):\n",
        "    return len(tokenizer(example).input_ids)"
      ],
      "metadata": {
        "id": "C29Neqb4_8yH"
      },
      "execution_count": null,
      "outputs": []
    },
    {
      "cell_type": "code",
      "source": [
        "from sklearn.model_selection import train_test_split\n",
        "train_df, test_df = train_test_split(df, test_size=0.10, shuffle=True)\n",
        "train_df.shape, test_df.shape"
      ],
      "metadata": {
        "colab": {
          "base_uri": "https://localhost:8080/"
        },
        "id": "12W4OKWT__JJ",
        "outputId": "0aae9174-48ee-417f-a046-8f8b2d9abe72"
      },
      "execution_count": null,
      "outputs": [
        {
          "output_type": "execute_result",
          "data": {
            "text/plain": [
              "((495000, 2), (55000, 2))"
            ]
          },
          "metadata": {},
          "execution_count": 50
        }
      ]
    },
    {
      "cell_type": "code",
      "source": [
        "test_df['input_token_len'] = test_df['input'].apply(calc_token_len)\n"
      ],
      "metadata": {
        "colab": {
          "base_uri": "https://localhost:8080/"
        },
        "id": "Dev5C35wACcN",
        "outputId": "f9993822-45da-49af-9430-3986e025e473"
      },
      "execution_count": null,
      "outputs": [
        {
          "output_type": "stream",
          "name": "stderr",
          "text": [
            "Token indices sequence length is longer than the specified maximum sequence length for this model (660 > 512). Running this sequence through the model will result in indexing errors\n"
          ]
        }
      ]
    },
    {
      "cell_type": "code",
      "source": [
        "test_df.head(10)\n"
      ],
      "metadata": {
        "colab": {
          "base_uri": "https://localhost:8080/",
          "height": 503
        },
        "id": "oqeegEejAEyA",
        "outputId": "58b6fe0f-e451-4c97-ac38-af1679c7543e"
      },
      "execution_count": null,
      "outputs": [
        {
          "output_type": "execute_result",
          "data": {
            "text/plain": [
              "                                                                                                                                                                                                                                        input  \\\n",
              "486496                                                    Please note: Penguin Young Readers Group (USA) Inc. will be releasing a limited number of NetGalleys and all titles will be discontinued on NetGalley at the sale date of the book.   \n",
              "58208                                                                                                                       Improve customer service: obtain instant-access to guest Information so your staff can greet your guests by name.   \n",
              "265247                                                                                                                                                                                            it prevents a correction for going too far.   \n",
              "499297                                                                                                                                                                                           What,exactly,d oes 'pkg-config --exists' do?   \n",
              "124684                                                                                                                                                                  Understand integration requirements use with other can combat skills.   \n",
              "471285                                                                                                     The one hour whole body deep tissue oil massage and a 30 minute face beauty, a 20 minute deep foot spa and 10 minute re flexology.   \n",
              "95219                                                                                                                                                   Clarakosi committed rMSKS7b91adaaf6e8: HTTP Prometheus metrics (auther of Clarakosi).   \n",
              "495760                                                                            Given that each client is different, as is each counsellor and therapist – a rigid view is often unhelpful when it come to the practice of self-disclosure.   \n",
              "227403  Alhaji Salisu Haro, the information officer of Daura Local Government Area also told our correspondent ─ that the local council was conscious the rumour ,stressing it is a mere political gimmick Fabricated by enemies of progress.   \n",
              "39076                                                                                                                                                                        (Emotion has become a legitimizes subject to serious researches)   \n",
              "\n",
              "                                                                                                                                                                                                                                         output  \\\n",
              "486496                                                   Please note: Penguin Young Readers Group (USA) Inc. will be releasing a limited number of NetGalleys and all titles will be discontinued on NetGalley at the on sale date of the book.   \n",
              "58208                                                                                                                         Improve customer service: obtain instant access to guest information so your staff can greet your guests by name.   \n",
              "265247                                                                                                                                                                                             it prevents a correction from going too far.   \n",
              "499297                                                                                                                                                                                            What, exactly, does 'pkg-config --exists' do?   \n",
              "124684                                                                                                                                                                           Understand integration requirements with other combat systems.   \n",
              "471285                                                                                                                 One hour whole body deep tissue oil massage, 30 minute facial beauty, 20 minute deep foot spa and 10 minute reflexology.   \n",
              "95219                                                                                                                                                   Clarakosi committed rMSKS7b91adaaf6e8: HTTP Prometheus metrics (authored by Clarakosi).   \n",
              "495760                                                                             Given that each client is different, as is each counsellor and therapist – a rigid view is often unhelpful when it comes to the practice of self-disclosure.   \n",
              "227403  Alhaji Salisu Haro, the information officer of Daura Local Government Area,also told our correspondent that the local council was conscious of the rumour ,stressing it was a mere political gimmick fabricated by enemies of progress.   \n",
              "39076                                                                                                                                                                             Emotion has become a legitimate subject for serious research.   \n",
              "\n",
              "        input_token_len  \n",
              "486496               47  \n",
              "58208                22  \n",
              "265247               12  \n",
              "499297               24  \n",
              "124684               11  \n",
              "471285               34  \n",
              "95219                38  \n",
              "495760               40  \n",
              "227403               58  \n",
              "39076                19  "
            ],
            "text/html": [
              "\n",
              "  <div id=\"df-2fcdfe21-45d3-4680-8eb3-a1136442d70e\">\n",
              "    <div class=\"colab-df-container\">\n",
              "      <div>\n",
              "<style scoped>\n",
              "    .dataframe tbody tr th:only-of-type {\n",
              "        vertical-align: middle;\n",
              "    }\n",
              "\n",
              "    .dataframe tbody tr th {\n",
              "        vertical-align: top;\n",
              "    }\n",
              "\n",
              "    .dataframe thead th {\n",
              "        text-align: right;\n",
              "    }\n",
              "</style>\n",
              "<table border=\"1\" class=\"dataframe\">\n",
              "  <thead>\n",
              "    <tr style=\"text-align: right;\">\n",
              "      <th></th>\n",
              "      <th>input</th>\n",
              "      <th>output</th>\n",
              "      <th>input_token_len</th>\n",
              "    </tr>\n",
              "  </thead>\n",
              "  <tbody>\n",
              "    <tr>\n",
              "      <th>486496</th>\n",
              "      <td>Please note: Penguin Young Readers Group (USA) Inc. will be releasing a limited number of NetGalleys and all titles will be discontinued on NetGalley at the sale date of the book.</td>\n",
              "      <td>Please note: Penguin Young Readers Group (USA) Inc. will be releasing a limited number of NetGalleys and all titles will be discontinued on NetGalley at the on sale date of the book.</td>\n",
              "      <td>47</td>\n",
              "    </tr>\n",
              "    <tr>\n",
              "      <th>58208</th>\n",
              "      <td>Improve customer service: obtain instant-access to guest Information so your staff can greet your guests by name.</td>\n",
              "      <td>Improve customer service: obtain instant access to guest information so your staff can greet your guests by name.</td>\n",
              "      <td>22</td>\n",
              "    </tr>\n",
              "    <tr>\n",
              "      <th>265247</th>\n",
              "      <td>it prevents a correction for going too far.</td>\n",
              "      <td>it prevents a correction from going too far.</td>\n",
              "      <td>12</td>\n",
              "    </tr>\n",
              "    <tr>\n",
              "      <th>499297</th>\n",
              "      <td>What,exactly,d oes 'pkg-config --exists' do?</td>\n",
              "      <td>What, exactly, does 'pkg-config --exists' do?</td>\n",
              "      <td>24</td>\n",
              "    </tr>\n",
              "    <tr>\n",
              "      <th>124684</th>\n",
              "      <td>Understand integration requirements use with other can combat skills.</td>\n",
              "      <td>Understand integration requirements with other combat systems.</td>\n",
              "      <td>11</td>\n",
              "    </tr>\n",
              "    <tr>\n",
              "      <th>471285</th>\n",
              "      <td>The one hour whole body deep tissue oil massage and a 30 minute face beauty, a 20 minute deep foot spa and 10 minute re flexology.</td>\n",
              "      <td>One hour whole body deep tissue oil massage, 30 minute facial beauty, 20 minute deep foot spa and 10 minute reflexology.</td>\n",
              "      <td>34</td>\n",
              "    </tr>\n",
              "    <tr>\n",
              "      <th>95219</th>\n",
              "      <td>Clarakosi committed rMSKS7b91adaaf6e8: HTTP Prometheus metrics (auther of Clarakosi).</td>\n",
              "      <td>Clarakosi committed rMSKS7b91adaaf6e8: HTTP Prometheus metrics (authored by Clarakosi).</td>\n",
              "      <td>38</td>\n",
              "    </tr>\n",
              "    <tr>\n",
              "      <th>495760</th>\n",
              "      <td>Given that each client is different, as is each counsellor and therapist – a rigid view is often unhelpful when it come to the practice of self-disclosure.</td>\n",
              "      <td>Given that each client is different, as is each counsellor and therapist – a rigid view is often unhelpful when it comes to the practice of self-disclosure.</td>\n",
              "      <td>40</td>\n",
              "    </tr>\n",
              "    <tr>\n",
              "      <th>227403</th>\n",
              "      <td>Alhaji Salisu Haro, the information officer of Daura Local Government Area also told our correspondent ─ that the local council was conscious the rumour ,stressing it is a mere political gimmick Fabricated by enemies of progress.</td>\n",
              "      <td>Alhaji Salisu Haro, the information officer of Daura Local Government Area,also told our correspondent that the local council was conscious of the rumour ,stressing it was a mere political gimmick fabricated by enemies of progress.</td>\n",
              "      <td>58</td>\n",
              "    </tr>\n",
              "    <tr>\n",
              "      <th>39076</th>\n",
              "      <td>(Emotion has become a legitimizes subject to serious researches)</td>\n",
              "      <td>Emotion has become a legitimate subject for serious research.</td>\n",
              "      <td>19</td>\n",
              "    </tr>\n",
              "  </tbody>\n",
              "</table>\n",
              "</div>\n",
              "      <button class=\"colab-df-convert\" onclick=\"convertToInteractive('df-2fcdfe21-45d3-4680-8eb3-a1136442d70e')\"\n",
              "              title=\"Convert this dataframe to an interactive table.\"\n",
              "              style=\"display:none;\">\n",
              "        \n",
              "  <svg xmlns=\"http://www.w3.org/2000/svg\" height=\"24px\"viewBox=\"0 0 24 24\"\n",
              "       width=\"24px\">\n",
              "    <path d=\"M0 0h24v24H0V0z\" fill=\"none\"/>\n",
              "    <path d=\"M18.56 5.44l.94 2.06.94-2.06 2.06-.94-2.06-.94-.94-2.06-.94 2.06-2.06.94zm-11 1L8.5 8.5l.94-2.06 2.06-.94-2.06-.94L8.5 2.5l-.94 2.06-2.06.94zm10 10l.94 2.06.94-2.06 2.06-.94-2.06-.94-.94-2.06-.94 2.06-2.06.94z\"/><path d=\"M17.41 7.96l-1.37-1.37c-.4-.4-.92-.59-1.43-.59-.52 0-1.04.2-1.43.59L10.3 9.45l-7.72 7.72c-.78.78-.78 2.05 0 2.83L4 21.41c.39.39.9.59 1.41.59.51 0 1.02-.2 1.41-.59l7.78-7.78 2.81-2.81c.8-.78.8-2.07 0-2.86zM5.41 20L4 18.59l7.72-7.72 1.47 1.35L5.41 20z\"/>\n",
              "  </svg>\n",
              "      </button>\n",
              "      \n",
              "  <style>\n",
              "    .colab-df-container {\n",
              "      display:flex;\n",
              "      flex-wrap:wrap;\n",
              "      gap: 12px;\n",
              "    }\n",
              "\n",
              "    .colab-df-convert {\n",
              "      background-color: #E8F0FE;\n",
              "      border: none;\n",
              "      border-radius: 50%;\n",
              "      cursor: pointer;\n",
              "      display: none;\n",
              "      fill: #1967D2;\n",
              "      height: 32px;\n",
              "      padding: 0 0 0 0;\n",
              "      width: 32px;\n",
              "    }\n",
              "\n",
              "    .colab-df-convert:hover {\n",
              "      background-color: #E2EBFA;\n",
              "      box-shadow: 0px 1px 2px rgba(60, 64, 67, 0.3), 0px 1px 3px 1px rgba(60, 64, 67, 0.15);\n",
              "      fill: #174EA6;\n",
              "    }\n",
              "\n",
              "    [theme=dark] .colab-df-convert {\n",
              "      background-color: #3B4455;\n",
              "      fill: #D2E3FC;\n",
              "    }\n",
              "\n",
              "    [theme=dark] .colab-df-convert:hover {\n",
              "      background-color: #434B5C;\n",
              "      box-shadow: 0px 1px 3px 1px rgba(0, 0, 0, 0.15);\n",
              "      filter: drop-shadow(0px 1px 2px rgba(0, 0, 0, 0.3));\n",
              "      fill: #FFFFFF;\n",
              "    }\n",
              "  </style>\n",
              "\n",
              "      <script>\n",
              "        const buttonEl =\n",
              "          document.querySelector('#df-2fcdfe21-45d3-4680-8eb3-a1136442d70e button.colab-df-convert');\n",
              "        buttonEl.style.display =\n",
              "          google.colab.kernel.accessAllowed ? 'block' : 'none';\n",
              "\n",
              "        async function convertToInteractive(key) {\n",
              "          const element = document.querySelector('#df-2fcdfe21-45d3-4680-8eb3-a1136442d70e');\n",
              "          const dataTable =\n",
              "            await google.colab.kernel.invokeFunction('convertToInteractive',\n",
              "                                                     [key], {});\n",
              "          if (!dataTable) return;\n",
              "\n",
              "          const docLinkHtml = 'Like what you see? Visit the ' +\n",
              "            '<a target=\"_blank\" href=https://colab.research.google.com/notebooks/data_table.ipynb>data table notebook</a>'\n",
              "            + ' to learn more about interactive tables.';\n",
              "          element.innerHTML = '';\n",
              "          dataTable['output_type'] = 'display_data';\n",
              "          await google.colab.output.renderOutput(dataTable, element);\n",
              "          const docLink = document.createElement('div');\n",
              "          docLink.innerHTML = docLinkHtml;\n",
              "          element.appendChild(docLink);\n",
              "        }\n",
              "      </script>\n",
              "    </div>\n",
              "  </div>\n",
              "  "
            ]
          },
          "metadata": {},
          "execution_count": 53
        }
      ]
    },
    {
      "cell_type": "code",
      "source": [
        "test_df['input_token_len'].describe()"
      ],
      "metadata": {
        "colab": {
          "base_uri": "https://localhost:8080/"
        },
        "id": "G0OjxHuSAHCg",
        "outputId": "9ce9cc62-3efb-4816-97ce-93abb0237b7e"
      },
      "execution_count": null,
      "outputs": [
        {
          "output_type": "execute_result",
          "data": {
            "text/plain": [
              "count    55000.000000\n",
              "mean        33.681164\n",
              "std         27.369336\n",
              "min          2.000000\n",
              "25%         17.000000\n",
              "50%         27.000000\n",
              "75%         42.000000\n",
              "max       1398.000000\n",
              "Name: input_token_len, dtype: float64"
            ]
          },
          "metadata": {},
          "execution_count": 54
        }
      ]
    },
    {
      "cell_type": "code",
      "source": [
        "from datasets import Dataset\n",
        "train_dataset = Dataset.from_pandas(train_df)\n",
        "test_dataset = Dataset.from_pandas(test_df)"
      ],
      "metadata": {
        "id": "ZEEzVUmWAJwa"
      },
      "execution_count": null,
      "outputs": []
    },
    {
      "cell_type": "code",
      "source": [
        "test_dataset\n"
      ],
      "metadata": {
        "colab": {
          "base_uri": "https://localhost:8080/"
        },
        "id": "h1HmjGo_ASUB",
        "outputId": "057ba685-f5fa-43ee-e43a-4133f39390fb"
      },
      "execution_count": null,
      "outputs": [
        {
          "output_type": "execute_result",
          "data": {
            "text/plain": [
              "Dataset({\n",
              "    features: ['input', 'output', 'input_token_len', '__index_level_0__'],\n",
              "    num_rows: 55000\n",
              "})"
            ]
          },
          "metadata": {},
          "execution_count": 57
        }
      ]
    },
    {
      "cell_type": "code",
      "source": [
        "from torch.utils.data import Dataset, DataLoader\n",
        "class GrammarDataset(Dataset):\n",
        "    def init(self, dataset, tokenizer,print_text=False):\n",
        "        self.dataset = dataset\n",
        "        self.pad_to_max_length = False\n",
        "        self.tokenizer = tokenizer\n",
        "        self.print_text = print_text\n",
        "        self.max_len = 64\n",
        "\n",
        "    def len(self):\n",
        "        return len(self.dataset)\n",
        "\n",
        "\n",
        "    def tokenizedata(self, example):\n",
        "        input, target_ = example['input'], example['output']\n",
        "\n",
        "        # tokenize inputs\n",
        "        tokenizedinputs = tokenizer(input, pad_to_max_length=self.pad_to_max_length, \n",
        "                                            max_length=self.max_len,\n",
        "                                            return_attention_mask=True)\n",
        "\n",
        "        tokenizedtargets = tokenizer(target, pad_to_max_length=self.pad_to_max_length, \n",
        "                                            max_length=self.max_len,\n",
        "                                            return_attention_mask=True)\n",
        "\n",
        "        inputs={\"input_ids\": tokenized_inputs['input_ids'],\n",
        "            \"attention_mask\": tokenized_inputs['attention_mask'],\n",
        "            \"labels\": tokenized_targets['input_ids']\n",
        "        }\n",
        "\n",
        "        return inputs\n",
        "\n",
        "\n",
        "    def getitem(self, index):\n",
        "        inputs = self.tokenize_data(self.dataset[index])\n",
        "\n",
        "        if self.print_text:\n",
        "            for k in inputs.keys():\n",
        "                print(k, len(inputs[k]))\n",
        "\n",
        "        return inputs"
      ],
      "metadata": {
        "id": "LqV8EFYdAbbC"
      },
      "execution_count": null,
      "outputs": []
    },
    {
      "cell_type": "code",
      "source": [
        "dataset = GrammarDataset(test_dataset, tokenizer, True)\n",
        "print(dataset[121])"
      ],
      "metadata": {
        "colab": {
          "base_uri": "https://localhost:8080/",
          "height": 314
        },
        "id": "iZId-iTbAjFL",
        "outputId": "cb28b8a3-f641-431f-b3a8-d6fbdc2c97db"
      },
      "execution_count": null,
      "outputs": [
        {
          "output_type": "error",
          "ename": "TypeError",
          "evalue": "ignored",
          "traceback": [
            "\u001b[0;31m---------------------------------------------------------------------------\u001b[0m",
            "\u001b[0;31mTypeError\u001b[0m                                 Traceback (most recent call last)",
            "\u001b[0;32m<ipython-input-61-a91669aa9e37>\u001b[0m in \u001b[0;36m<module>\u001b[0;34m()\u001b[0m\n\u001b[0;32m----> 1\u001b[0;31m \u001b[0mdataset\u001b[0m \u001b[0;34m=\u001b[0m \u001b[0mGrammarDataset\u001b[0m\u001b[0;34m(\u001b[0m\u001b[0mtest_dataset\u001b[0m\u001b[0;34m,\u001b[0m \u001b[0mtokenizer\u001b[0m\u001b[0;34m,\u001b[0m \u001b[0;32mTrue\u001b[0m\u001b[0;34m)\u001b[0m\u001b[0;34m\u001b[0m\u001b[0;34m\u001b[0m\u001b[0m\n\u001b[0m\u001b[1;32m      2\u001b[0m \u001b[0mprint\u001b[0m\u001b[0;34m(\u001b[0m\u001b[0mdataset\u001b[0m\u001b[0;34m[\u001b[0m\u001b[0;36m121\u001b[0m\u001b[0;34m]\u001b[0m\u001b[0;34m)\u001b[0m\u001b[0;34m\u001b[0m\u001b[0;34m\u001b[0m\u001b[0m\n",
            "\u001b[0;32m/usr/lib/python3.7/typing.py\u001b[0m in \u001b[0;36m__new__\u001b[0;34m(cls, *args, **kwds)\u001b[0m\n\u001b[1;32m    819\u001b[0m             \u001b[0mobj\u001b[0m \u001b[0;34m=\u001b[0m \u001b[0msuper\u001b[0m\u001b[0;34m(\u001b[0m\u001b[0;34m)\u001b[0m\u001b[0;34m.\u001b[0m\u001b[0m__new__\u001b[0m\u001b[0;34m(\u001b[0m\u001b[0mcls\u001b[0m\u001b[0;34m)\u001b[0m\u001b[0;34m\u001b[0m\u001b[0;34m\u001b[0m\u001b[0m\n\u001b[1;32m    820\u001b[0m         \u001b[0;32melse\u001b[0m\u001b[0;34m:\u001b[0m\u001b[0;34m\u001b[0m\u001b[0;34m\u001b[0m\u001b[0m\n\u001b[0;32m--> 821\u001b[0;31m             \u001b[0mobj\u001b[0m \u001b[0;34m=\u001b[0m \u001b[0msuper\u001b[0m\u001b[0;34m(\u001b[0m\u001b[0;34m)\u001b[0m\u001b[0;34m.\u001b[0m\u001b[0m__new__\u001b[0m\u001b[0;34m(\u001b[0m\u001b[0mcls\u001b[0m\u001b[0;34m,\u001b[0m \u001b[0;34m*\u001b[0m\u001b[0margs\u001b[0m\u001b[0;34m,\u001b[0m \u001b[0;34m**\u001b[0m\u001b[0mkwds\u001b[0m\u001b[0;34m)\u001b[0m\u001b[0;34m\u001b[0m\u001b[0;34m\u001b[0m\u001b[0m\n\u001b[0m\u001b[1;32m    822\u001b[0m         \u001b[0;32mreturn\u001b[0m \u001b[0mobj\u001b[0m\u001b[0;34m\u001b[0m\u001b[0;34m\u001b[0m\u001b[0m\n\u001b[1;32m    823\u001b[0m \u001b[0;34m\u001b[0m\u001b[0m\n",
            "\u001b[0;31mTypeError\u001b[0m: object.__new__() takes exactly one argument (the type to instantiate)"
          ]
        }
      ]
    },
    {
      "cell_type": "code",
      "source": [
        "!pip install rouge_score\n"
      ],
      "metadata": {
        "colab": {
          "base_uri": "https://localhost:8080/"
        },
        "id": "GUPTXW3lAnA2",
        "outputId": "a5df9822-3adf-4757-951e-f22e4d0183c3"
      },
      "execution_count": null,
      "outputs": [
        {
          "output_type": "stream",
          "name": "stdout",
          "text": [
            "Collecting rouge_score\n",
            "  Downloading rouge_score-0.0.4-py2.py3-none-any.whl (22 kB)\n",
            "Requirement already satisfied: nltk in /usr/local/lib/python3.7/dist-packages (from rouge_score) (3.2.5)\n",
            "Requirement already satisfied: six>=1.14.0 in /usr/local/lib/python3.7/dist-packages (from rouge_score) (1.15.0)\n",
            "Requirement already satisfied: numpy in /usr/local/lib/python3.7/dist-packages (from rouge_score) (1.21.6)\n",
            "Requirement already satisfied: absl-py in /usr/local/lib/python3.7/dist-packages (from rouge_score) (1.0.0)\n",
            "Installing collected packages: rouge-score\n",
            "Successfully installed rouge-score-0.0.4\n"
          ]
        }
      ]
    },
    {
      "cell_type": "code",
      "source": [
        "from datasets import load_metric\n",
        "rouge_metric = load_metric(\"rouge\")"
      ],
      "metadata": {
        "colab": {
          "base_uri": "https://localhost:8080/",
          "height": 49,
          "referenced_widgets": [
            "054334dc3bf244e9944bdf4bf74e5643",
            "e21ba232733c41b5b84b9c85ab87cfa7",
            "a694feaacd2a4dfeaf63f8eb8812992f",
            "7b84e422c4414ad2a07e7c132751c7e5",
            "fbb113598cbb4655b4294fca8188759d",
            "aa949967c2504791bd816d954ad9d1d9",
            "9f95c817071144f5b2c130469610e031",
            "17e96ce50f4a445e967840f4dc8e7782",
            "d29ebe0c502547a3af888c6c7f01b10d",
            "3232997128b444da8fd9ae5737c56d15",
            "793ac9a88b7b449aa7aaead655642cf5"
          ]
        },
        "id": "mmaD2Y2ZAql4",
        "outputId": "f64281df-fab7-4b5a-867a-f4ac150bb08a"
      },
      "execution_count": null,
      "outputs": [
        {
          "output_type": "display_data",
          "data": {
            "text/plain": [
              "Downloading builder script:   0%|          | 0.00/2.16k [00:00<?, ?B/s]"
            ],
            "application/vnd.jupyter.widget-view+json": {
              "version_major": 2,
              "version_minor": 0,
              "model_id": "054334dc3bf244e9944bdf4bf74e5643"
            }
          },
          "metadata": {}
        }
      ]
    },
    {
      "cell_type": "code",
      "source": [
        "data_collator = DataCollatorForSeq2Seq(tokenizer, model=model, padding='longest', return_tensors='pt')\n"
      ],
      "metadata": {
        "id": "2Zfn1kn-AvIR"
      },
      "execution_count": null,
      "outputs": []
    },
    {
      "cell_type": "code",
      "source": [
        "# Define training related arguments\n",
        "batch_size = 16\n",
        "args = Seq2SeqTrainingArguments(output_dir=\"/content/drive/MyDrive/c4_200m/weights\",\n",
        "                        evaluation_strategy=\"steps\",\n",
        "                        per_device_train_batch_size=batch_size,\n",
        "                        per_device_eval_batch_size=batch_size,\n",
        "                        learning_rate=2e-5,\n",
        "                        num_train_epochs=1,\n",
        "                        weight_decay=0.01,\n",
        "                        save_total_limit=2,\n",
        "                        predict_with_generate=True,\n",
        "                        fp16 = True,\n",
        "                        gradient_accumulation_steps = 6,\n",
        "                        eval_steps = 500,\n",
        "                        save_steps = 500,\n",
        "                        load_best_model_at_end=True,\n",
        "                        logging_dir=\"/logs\",\n",
        "                        report_to=\"wandb\")"
      ],
      "metadata": {
        "id": "su4jUj6iAxof"
      },
      "execution_count": null,
      "outputs": []
    },
    {
      "cell_type": "code",
      "source": [
        "import nltk\n",
        "nltk.download('punkt')\n",
        "import numpy as np\n",
        "\n",
        "def compute_metrics(eval_pred):\n",
        "    predictions, labels = eval_pred\n",
        "    decoded_preds = tokenizer.batch_decode(predictions, skip_special_tokens=True)\n",
        "    # Replace -100 in the labels as we can't decode them.\n",
        "    labels = np.where(labels != -100, labels, tokenizer.pad_token_id)\n",
        "    decoded_labels = tokenizer.batch_decode(labels, skip_special_tokens=True)\n",
        "\n",
        "    # Rouge expects a newline after each sentence\n",
        "    decoded_preds = [\"\\n\".join(nltk.sent_tokenize(pred.strip())) for pred in decoded_preds]\n",
        "    decoded_labels = [\"\\n\".join(nltk.sent_tokenize(label.strip())) for label in decoded_labels]\n",
        "\n",
        "    result = rouge_metric.compute(predictions=decoded_preds, references=decoded_labels, use_stemmer=True)\n",
        "    # Extract a few results\n",
        "    result = {key: value.mid.fmeasure * 100 for key, value in result.items()}\n",
        "\n",
        "    # Add mean generated length\n",
        "    prediction_lens = [np.count_nonzero(pred != tokenizer.pad_token_id) for pred in predictions]\n",
        "    result[\"gen_len\"] = np.mean(prediction_lens)\n",
        "    return {k: round(v, 4) for k, v in result.items()}"
      ],
      "metadata": {
        "colab": {
          "base_uri": "https://localhost:8080/"
        },
        "id": "8b4c3kFdA5pP",
        "outputId": "e5965356-cc3c-4415-d03e-61ce2e4842c7"
      },
      "execution_count": null,
      "outputs": [
        {
          "output_type": "stream",
          "name": "stdout",
          "text": [
            "[nltk_data] Downloading package punkt to /root/nltk_data...\n",
            "[nltk_data]   Package punkt is already up-to-date!\n"
          ]
        }
      ]
    },
    {
      "cell_type": "code",
      "source": [
        "import argparse"
      ],
      "metadata": {
        "id": "kBpnbrawI4Yr"
      },
      "execution_count": null,
      "outputs": []
    },
    {
      "cell_type": "code",
      "source": [
        "args = argparse.ArgumentParser()"
      ],
      "metadata": {
        "id": "x2gehoRRJGJh"
      },
      "execution_count": null,
      "outputs": []
    },
    {
      "cell_type": "code",
      "source": [
        "args = ap.parse_args()"
      ],
      "metadata": {
        "colab": {
          "base_uri": "https://localhost:8080/",
          "height": 207
        },
        "id": "JSVLMsaoJLLT",
        "outputId": "af8c0578-33c9-4311-e3b6-40a01a83c17c"
      },
      "execution_count": null,
      "outputs": [
        {
          "output_type": "stream",
          "name": "stderr",
          "text": [
            "usage: ipykernel_launcher.py [-h]\n",
            "ipykernel_launcher.py: error: unrecognized arguments: -f /root/.local/share/jupyter/runtime/kernel-cf55fee3-d103-4abb-9290-47ef78e68a24.json\n"
          ]
        },
        {
          "output_type": "error",
          "ename": "SystemExit",
          "evalue": "ignored",
          "traceback": [
            "An exception has occurred, use %tb to see the full traceback.\n",
            "\u001b[0;31mSystemExit\u001b[0m\u001b[0;31m:\u001b[0m 2\n"
          ]
        },
        {
          "output_type": "stream",
          "name": "stderr",
          "text": [
            "/usr/local/lib/python3.7/dist-packages/IPython/core/interactiveshell.py:2890: UserWarning: To exit: use 'exit', 'quit', or Ctrl-D.\n",
            "  warn(\"To exit: use 'exit', 'quit', or Ctrl-D.\", stacklevel=1)\n"
          ]
        }
      ]
    },
    {
      "cell_type": "code",
      "source": [
        "# Define trainer\n",
        "trainer = Seq2SeqTrainer(model=model, \n",
        "                args=args, \n",
        "                train_dataset= GrammarDataset(train_dataset, tokenizer),\n",
        "                eval_dataset=GrammarDataset(test_dataset, tokenizer),\n",
        "                tokenizer=tokenizer,\n",
        "                data_collator=data_collator,\n",
        "                compute_metrics=compute_metrics)"
      ],
      "metadata": {
        "colab": {
          "base_uri": "https://localhost:8080/",
          "height": 369
        },
        "id": "b5_EQUSKA-Na",
        "outputId": "cc24eae6-3921-4e0f-e425-eca6d1b9f175"
      },
      "execution_count": null,
      "outputs": [
        {
          "output_type": "error",
          "ename": "TypeError",
          "evalue": "ignored",
          "traceback": [
            "\u001b[0;31m---------------------------------------------------------------------------\u001b[0m",
            "\u001b[0;31mTypeError\u001b[0m                                 Traceback (most recent call last)",
            "\u001b[0;32m<ipython-input-72-4d699f7b2564>\u001b[0m in \u001b[0;36m<module>\u001b[0;34m()\u001b[0m\n\u001b[1;32m      2\u001b[0m trainer = Seq2SeqTrainer(model=model, \n\u001b[1;32m      3\u001b[0m                 \u001b[0margs\u001b[0m\u001b[0;34m=\u001b[0m\u001b[0margs\u001b[0m\u001b[0;34m,\u001b[0m\u001b[0;34m\u001b[0m\u001b[0;34m\u001b[0m\u001b[0m\n\u001b[0;32m----> 4\u001b[0;31m                 \u001b[0mtrain_dataset\u001b[0m\u001b[0;34m=\u001b[0m \u001b[0mGrammarDataset\u001b[0m\u001b[0;34m(\u001b[0m\u001b[0mtrain_dataset\u001b[0m\u001b[0;34m)\u001b[0m\u001b[0;34m,\u001b[0m\u001b[0;34m\u001b[0m\u001b[0;34m\u001b[0m\u001b[0m\n\u001b[0m\u001b[1;32m      5\u001b[0m                 \u001b[0meval_dataset\u001b[0m\u001b[0;34m=\u001b[0m\u001b[0mGrammarDataset\u001b[0m\u001b[0;34m(\u001b[0m\u001b[0mtest_dataset\u001b[0m\u001b[0;34m,\u001b[0m \u001b[0mtokenizer\u001b[0m\u001b[0;34m)\u001b[0m\u001b[0;34m,\u001b[0m\u001b[0;34m\u001b[0m\u001b[0;34m\u001b[0m\u001b[0m\n\u001b[1;32m      6\u001b[0m                 \u001b[0mtokenizer\u001b[0m\u001b[0;34m=\u001b[0m\u001b[0mtokenizer\u001b[0m\u001b[0;34m,\u001b[0m\u001b[0;34m\u001b[0m\u001b[0;34m\u001b[0m\u001b[0m\n",
            "\u001b[0;32m/usr/lib/python3.7/typing.py\u001b[0m in \u001b[0;36m__new__\u001b[0;34m(cls, *args, **kwds)\u001b[0m\n\u001b[1;32m    819\u001b[0m             \u001b[0mobj\u001b[0m \u001b[0;34m=\u001b[0m \u001b[0msuper\u001b[0m\u001b[0;34m(\u001b[0m\u001b[0;34m)\u001b[0m\u001b[0;34m.\u001b[0m\u001b[0m__new__\u001b[0m\u001b[0;34m(\u001b[0m\u001b[0mcls\u001b[0m\u001b[0;34m)\u001b[0m\u001b[0;34m\u001b[0m\u001b[0;34m\u001b[0m\u001b[0m\n\u001b[1;32m    820\u001b[0m         \u001b[0;32melse\u001b[0m\u001b[0;34m:\u001b[0m\u001b[0;34m\u001b[0m\u001b[0;34m\u001b[0m\u001b[0m\n\u001b[0;32m--> 821\u001b[0;31m             \u001b[0mobj\u001b[0m \u001b[0;34m=\u001b[0m \u001b[0msuper\u001b[0m\u001b[0;34m(\u001b[0m\u001b[0;34m)\u001b[0m\u001b[0;34m.\u001b[0m\u001b[0m__new__\u001b[0m\u001b[0;34m(\u001b[0m\u001b[0mcls\u001b[0m\u001b[0;34m,\u001b[0m \u001b[0;34m*\u001b[0m\u001b[0margs\u001b[0m\u001b[0;34m,\u001b[0m \u001b[0;34m**\u001b[0m\u001b[0mkwds\u001b[0m\u001b[0;34m)\u001b[0m\u001b[0;34m\u001b[0m\u001b[0;34m\u001b[0m\u001b[0m\n\u001b[0m\u001b[1;32m    822\u001b[0m         \u001b[0;32mreturn\u001b[0m \u001b[0mobj\u001b[0m\u001b[0;34m\u001b[0m\u001b[0;34m\u001b[0m\u001b[0m\n\u001b[1;32m    823\u001b[0m \u001b[0;34m\u001b[0m\u001b[0m\n",
            "\u001b[0;31mTypeError\u001b[0m: object.__new__() takes exactly one argument (the type to instantiate)"
          ]
        }
      ]
    },
    {
      "cell_type": "code",
      "source": [
        "trainer.train()\n"
      ],
      "metadata": {
        "colab": {
          "base_uri": "https://localhost:8080/",
          "height": 170
        },
        "id": "n1lLFCnOBCBP",
        "outputId": "8bb3c0b8-ebc7-47ae-c8a8-ce451490dde7"
      },
      "execution_count": null,
      "outputs": [
        {
          "output_type": "error",
          "ename": "NameError",
          "evalue": "ignored",
          "traceback": [
            "\u001b[0;31m---------------------------------------------------------------------------\u001b[0m",
            "\u001b[0;31mNameError\u001b[0m                                 Traceback (most recent call last)",
            "\u001b[0;32m<ipython-input-67-3435b262f1ae>\u001b[0m in \u001b[0;36m<module>\u001b[0;34m()\u001b[0m\n\u001b[0;32m----> 1\u001b[0;31m \u001b[0mtrainer\u001b[0m\u001b[0;34m.\u001b[0m\u001b[0mtrain\u001b[0m\u001b[0;34m(\u001b[0m\u001b[0;34m)\u001b[0m\u001b[0;34m\u001b[0m\u001b[0;34m\u001b[0m\u001b[0m\n\u001b[0m",
            "\u001b[0;31mNameError\u001b[0m: name 'trainer' is not defined"
          ]
        }
      ]
    },
    {
      "cell_type": "code",
      "source": [
        "trainer.save_model('t5_gec_model')\n"
      ],
      "metadata": {
        "colab": {
          "base_uri": "https://localhost:8080/",
          "height": 170
        },
        "id": "6Kfz6-2iBQIO",
        "outputId": "1389501a-c9df-4c6b-e6cb-41ebd6b78175"
      },
      "execution_count": null,
      "outputs": [
        {
          "output_type": "error",
          "ename": "NameError",
          "evalue": "ignored",
          "traceback": [
            "\u001b[0;31m---------------------------------------------------------------------------\u001b[0m",
            "\u001b[0;31mNameError\u001b[0m                                 Traceback (most recent call last)",
            "\u001b[0;32m<ipython-input-73-036e1150b06d>\u001b[0m in \u001b[0;36m<module>\u001b[0;34m()\u001b[0m\n\u001b[0;32m----> 1\u001b[0;31m \u001b[0mtrainer\u001b[0m\u001b[0;34m.\u001b[0m\u001b[0msave_model\u001b[0m\u001b[0;34m(\u001b[0m\u001b[0;34m't5_gec_model'\u001b[0m\u001b[0;34m)\u001b[0m\u001b[0;34m\u001b[0m\u001b[0;34m\u001b[0m\u001b[0m\n\u001b[0m",
            "\u001b[0;31mNameError\u001b[0m: name 'trainer' is not defined"
          ]
        }
      ]
    },
    {
      "cell_type": "code",
      "source": [
        "!zip -r 't5_gec_model.zip' 't5_gec_model'\n"
      ],
      "metadata": {
        "colab": {
          "base_uri": "https://localhost:8080/"
        },
        "id": "bflaRqWhBUzT",
        "outputId": "8cb23930-7a03-462b-a989-bf334fb80e85"
      },
      "execution_count": null,
      "outputs": [
        {
          "output_type": "stream",
          "name": "stdout",
          "text": [
            "\tzip warning: name not matched: t5_gec_model\n",
            "\n",
            "zip error: Nothing to do! (try: zip -r t5_gec_model.zip . -i t5_gec_model)\n"
          ]
        }
      ]
    },
    {
      "cell_type": "code",
      "source": [
        "!mv t5_gec_model.zip /content/c4200m\n"
      ],
      "metadata": {
        "colab": {
          "base_uri": "https://localhost:8080/"
        },
        "id": "P90a38rDBVv8",
        "outputId": "e264d1b9-c24f-45c4-8cb9-2e15ab6b59d2"
      },
      "execution_count": null,
      "outputs": [
        {
          "output_type": "stream",
          "name": "stdout",
          "text": [
            "mv: cannot stat 't5_gec_model.zip': No such file or directory\n"
          ]
        }
      ]
    },
    {
      "cell_type": "code",
      "source": [
        "from transformers import T5Tokenizer, T5ForConditionalGeneration\n",
        "model_name = 'deep-learning-analytics/GrammarCorrector'\n",
        "torch_device = 'cuda' if torch.cuda.is_available() else 'cpu'\n",
        "tokenizer = T5Tokenizer.from_pretrained(model_name)\n",
        "model = T5ForConditionalGeneration.from_pretrained(model_name).to(torch_device)\n",
        "\n",
        "def correct_grammar(input_text,num_return_sequences):\n",
        "  batch = tokenizer([input_text],truncation=True,padding='max_length',max_length=64, return_tensors=\"pt\").to(torch_device)\n",
        "  translated = model.generate(**batch,max_length=64,num_beams=4, num_return_sequences=num_return_sequences, temperature=1.5)\n",
        "  tgt_text = tokenizer.batch_decode(translated, skip_special_tokens=True)\n",
        "  return tgt_text"
      ],
      "metadata": {
        "colab": {
          "base_uri": "https://localhost:8080/",
          "height": 177,
          "referenced_widgets": [
            "016cbce53bee4a7491ec7b42bd78dd9c",
            "19052213b282471ca3461727c29571eb",
            "ba047ed0a8834f08aaf56285a21f5120",
            "a3d2d939a4b54a5bb0157bc5ca91fd5c",
            "a81fddb3f15340c3ad56d2b8c6cc1618",
            "069ab7d224214c9ba1588dc61f9cb18c",
            "e3b0f95954184b3795f255c0bfc1e88a",
            "9aa6cda342d94e39be121e27f8cbb606",
            "bcf88568281344cebc43ffc65f52af69",
            "7f503d30158a40c69932a199843819d0",
            "8e3c709f72b748f5a1947bae2d4b279e",
            "36941291ab1b4a249f126d46d6300e9f",
            "6ca787f0e2734332bcd25ff5b320d5ca",
            "7a5875df3a3a43e7bb888e23c4d24e8c",
            "001e94a3ea07460385ac29bb9b9e8403",
            "b13c62560a434c6cb18ca998068f4b92",
            "bd4a97b69f9f4778b79cab063eeaf382",
            "70a5a90beb614f37b50635b85ab66092",
            "5e111c0377fe4925a503493f510f4b00",
            "07a610f8bdc34fc8a10eeb335968307b",
            "4b02ee0850804dd9b9d63cf41c672c35",
            "cc07332968d34796b2dc3d5742b4f1a5",
            "b517738145344ccfadadcd19d755d097",
            "0d0ce67bf8a0465b95a919af02e4d1b6",
            "13cc3f910d8c4ee3a500594554fc8fb5",
            "927f1634cf444a7b9115b08145ff1880",
            "ea5371bdb8ce4164ba05be7b07fed597",
            "9ab692da9ec148a894697a9e12e19288",
            "2d7323345a8445f6b799e34501ddb282",
            "5ab6ae21a16b437a9be923dd620f12d0",
            "5d6fe7117617460484a09bb4f00f80f9",
            "cd08359b2d634bd381e1b38b77a84a31",
            "529c7ee1fa1b492aa05f12920e586387",
            "0fa895c960284857a473d87606ecfe27",
            "aa89688a3ee441ee9bdcb01fbe513011",
            "2f3f37602fef4fabb5c7a08acc0ea4a9",
            "6c6fd46a95d642ecbcb74059908f32a4",
            "e453a11a60584a5bbfbbbe9148a1a65b",
            "1259f928f9924d81a6e636b89a6838da",
            "17db4d9ab49144fcad2e771f37974ba0",
            "fb4d0290997547cc82cf529efe71b698",
            "a5b243cfb1264148bd2071283793b9e8",
            "4655133241324148be1a70a6de80d81c",
            "ba2ce2efd03540a28e92c83985e6fdb8",
            "46068179d65046019d544aec2df0cfb0",
            "d8e51d585d664687b491c9234f39e3b2",
            "7c5913796386461b8b4962b8b21f4f82",
            "f4080c475f3f42fdaf7991d533630a9d",
            "1204ac8986ad4d189227910b13302dbd",
            "b53260385b574b9587339bb718cc783c",
            "68aaf419341b4a6ab23ad269720ce341",
            "a5032a39e19e456ba9869521909f5ef8",
            "406ff5d31f404e7f948eced9486630a3",
            "315b7fdbaf7843e3b5564346aab90179",
            "51c74235309645e29d8b7636ce68fdec"
          ]
        },
        "id": "WFKIWEkfBZoC",
        "outputId": "fde7439a-5d88-402f-e554-6ef1050e12a0"
      },
      "execution_count": null,
      "outputs": [
        {
          "output_type": "display_data",
          "data": {
            "text/plain": [
              "Downloading:   0%|          | 0.00/773k [00:00<?, ?B/s]"
            ],
            "application/vnd.jupyter.widget-view+json": {
              "version_major": 2,
              "version_minor": 0,
              "model_id": "016cbce53bee4a7491ec7b42bd78dd9c"
            }
          },
          "metadata": {}
        },
        {
          "output_type": "display_data",
          "data": {
            "text/plain": [
              "Downloading:   0%|          | 0.00/1.74k [00:00<?, ?B/s]"
            ],
            "application/vnd.jupyter.widget-view+json": {
              "version_major": 2,
              "version_minor": 0,
              "model_id": "36941291ab1b4a249f126d46d6300e9f"
            }
          },
          "metadata": {}
        },
        {
          "output_type": "display_data",
          "data": {
            "text/plain": [
              "Downloading:   0%|          | 0.00/2.12k [00:00<?, ?B/s]"
            ],
            "application/vnd.jupyter.widget-view+json": {
              "version_major": 2,
              "version_minor": 0,
              "model_id": "b517738145344ccfadadcd19d755d097"
            }
          },
          "metadata": {}
        },
        {
          "output_type": "display_data",
          "data": {
            "text/plain": [
              "Downloading:   0%|          | 0.00/1.38k [00:00<?, ?B/s]"
            ],
            "application/vnd.jupyter.widget-view+json": {
              "version_major": 2,
              "version_minor": 0,
              "model_id": "0fa895c960284857a473d87606ecfe27"
            }
          },
          "metadata": {}
        },
        {
          "output_type": "display_data",
          "data": {
            "text/plain": [
              "Downloading:   0%|          | 0.00/850M [00:00<?, ?B/s]"
            ],
            "application/vnd.jupyter.widget-view+json": {
              "version_major": 2,
              "version_minor": 0,
              "model_id": "46068179d65046019d544aec2df0cfb0"
            }
          },
          "metadata": {}
        }
      ]
    },
    {
      "cell_type": "code",
      "source": [
        "text = 'the green grasses was eating by 4 cow.'\n"
      ],
      "metadata": {
        "id": "SmoGq7_aBgOw"
      },
      "execution_count": null,
      "outputs": []
    },
    {
      "cell_type": "code",
      "source": [
        "print(correct_grammar(text, num_return_sequences=2))\n"
      ],
      "metadata": {
        "colab": {
          "base_uri": "https://localhost:8080/"
        },
        "id": "Kk0cAPDHBknV",
        "outputId": "da3170ba-2633-4950-bcd6-05c8dc4ddf1b"
      },
      "execution_count": null,
      "outputs": [
        {
          "output_type": "stream",
          "name": "stdout",
          "text": [
            "['the green grasses were eating by 4 cows.', 'the green grass was eating by 4 cows.']\n"
          ]
        }
      ]
    },
    {
      "cell_type": "code",
      "source": [
        "text = 'i finishing my disseration on timely.'\n"
      ],
      "metadata": {
        "id": "woSFo6WrBnMw"
      },
      "execution_count": null,
      "outputs": []
    },
    {
      "cell_type": "code",
      "source": [
        "print(correct_grammar(text, num_return_sequences=1))\n"
      ],
      "metadata": {
        "colab": {
          "base_uri": "https://localhost:8080/"
        },
        "id": "vgNOrZoaBpyv",
        "outputId": "9dd405fb-434f-4277-d25b-5841d5c34f68"
      },
      "execution_count": null,
      "outputs": [
        {
          "output_type": "stream",
          "name": "stdout",
          "text": [
            "['i finished my dissertation timely.']\n"
          ]
        }
      ]
    },
    {
      "cell_type": "markdown",
      "source": [
        "## Speech Analyser starts from here"
      ],
      "metadata": {
        "id": "eGH3GnsyvKdy"
      }
    },
    {
      "cell_type": "code",
      "source": [
        "!sudo apt-get install -q -y timidity libsndfile1"
      ],
      "metadata": {
        "id": "bJVVXrugvKq8"
      },
      "execution_count": null,
      "outputs": []
    },
    {
      "cell_type": "code",
      "source": [
        "# All the imports to deal with sound data\n",
        "!pip install pydub numba==0.48 librosa music21"
      ],
      "metadata": {
        "id": "QJ4F1wLNvTD2"
      },
      "execution_count": null,
      "outputs": []
    },
    {
      "cell_type": "code",
      "source": [
        "# Importing required libraries\n",
        "import numpy as np\n",
        "import matplotlib.pyplot as plt\n",
        "import librosa\n",
        "from librosa import display as librosadisplay\n",
        "import math\n",
        "import statistics\n",
        "import sys\n",
        "import pandas as pd  \n",
        "from scipy.io.wavfile import read,write\n",
        "from numpy.fft import fft, ifft\n",
        "# %matplotlib inline!sudo apt-get install -q -y timidity libsndfile1\n",
        "\n",
        "from IPython.display import Audio, Javascript\n",
        "from scipy.io import wavfile\n",
        "\n",
        "from base64 import b64decode\n",
        "\n",
        "import music21\n",
        "from pydub import AudioSegment\n"
      ],
      "metadata": {
        "id": "YtK8BQ7avTsu"
      },
      "execution_count": null,
      "outputs": []
    },
    {
      "cell_type": "code",
      "source": [
        "#@title [Run this] Definition of the JS code to record audio straight from the browser\n",
        "\n",
        "RECORD = \"\"\"\n",
        "const sleep  = time => new Promise(resolve => setTimeout(resolve, time))\n",
        "const b2text = blob => new Promise(resolve => {\n",
        "  const reader = new FileReader()\n",
        "  reader.onloadend = e => resolve(e.srcElement.result)\n",
        "  reader.readAsDataURL(blob)\n",
        "})\n",
        "var record = time => new Promise(async resolve => {\n",
        "  stream = await navigator.mediaDevices.getUserMedia({ audio: true })\n",
        "  recorder = new MediaRecorder(stream)\n",
        "  chunks = []\n",
        "  recorder.ondataavailable = e => chunks.push(e.data)\n",
        "  recorder.start()\n",
        "  await sleep(time)\n",
        "  recorder.onstop = async ()=>{\n",
        "    blob = new Blob(chunks)\n",
        "    text = await b2text(blob)\n",
        "    resolve(text)\n",
        "  }\n",
        "  recorder.stop()\n",
        "})\n",
        "\"\"\"\n",
        "\n",
        "def record(sec=5):\n",
        "  try:\n",
        "    from google.colab import output\n",
        "  except ImportError:\n",
        "    print('No possible to import output from google.colab')\n",
        "    return ''\n",
        "  else:\n",
        "    print('Recording')\n",
        "    display(Javascript(RECORD))\n",
        "    s = output.eval_js('record(%d)' % (sec*1000))\n",
        "    fname = 'recorded_audio.wav'\n",
        "    print('Saving to', fname)\n",
        "    b = b64decode(s.split(',')[1])\n",
        "    with open(fname, 'wb') as f:\n",
        "      f.write(b)\n",
        "    return fname"
      ],
      "metadata": {
        "id": "jLXtsxOsvTuy"
      },
      "execution_count": null,
      "outputs": []
    },
    {
      "cell_type": "markdown",
      "source": [
        "## Below we have to input the audio file"
      ],
      "metadata": {
        "id": "03sve6pTvfc4"
      }
    },
    {
      "cell_type": "code",
      "source": [
        "#@title Select how to input your audio  { run: \"auto\" }\n",
        "INPUT_SOURCE = 'UPLOAD' #@param [\"https://storage.googleapis.com/download.tensorflow.org/data/c-scale-metronome.wav\", \"RECORD\", \"UPLOAD\", \"./drive/My Drive/YOUR_MUSIC_FILE.wav\"] {allow-input: true}\n",
        "\n",
        "print('You selected', INPUT_SOURCE)\n",
        "\n",
        "if INPUT_SOURCE == 'RECORD':\n",
        "  uploaded_file_name = record(300)\n",
        "elif INPUT_SOURCE == 'UPLOAD':\n",
        "  try:\n",
        "    from google.colab import files\n",
        "  except ImportError:\n",
        "    print(\"ImportError: files from google.colab seems to not be available\")\n",
        "  else:\n",
        "    uploaded = files.upload()\n",
        "    for fn in uploaded.keys():\n",
        "      print('User uploaded file \"{name}\" with length {length} bytes'.format(\n",
        "          name=fn, length=len(uploaded[fn])))\n",
        "    uploaded_file_name = next(iter(uploaded))\n",
        "    print('Uploaded file: ' + uploaded_file_name)\n",
        "elif INPUT_SOURCE.startswith('./drive/'):\n",
        "  try:\n",
        "    from google.colab import drive\n",
        "  except ImportError:\n",
        "    print(\"ImportError: files from google.colab seems to not be available\")\n",
        "  else:\n",
        "    drive.mount('/content/drive')\n",
        "    # don't forget to change the name of the file you\n",
        "    # will you here!\n",
        "    gdrive_audio_file = 'YOUR_MUSIC_FILE.wav'\n",
        "    uploaded_file_name = INPUT_SOURCE\n",
        "elif INPUT_SOURCE.startswith('http'):\n",
        "  !wget --no-check-certificate 'https://storage.googleapis.com/download.tensorflow.org/data/c-scale-metronome.wav' -O c-scale.wav\n",
        "  uploaded_file_name = 'c-scale.wav'\n",
        "else:\n",
        "  print('Unrecognized input format!')\n",
        "  print('Please select \"RECORD\", \"UPLOAD\", or specify a file hosted on Google Drive or a file from the web to download file to download')"
      ],
      "metadata": {
        "id": "J11n1PA_vTxW"
      },
      "execution_count": null,
      "outputs": []
    },
    {
      "cell_type": "markdown",
      "source": [
        "## Preparing the audio file for data"
      ],
      "metadata": {
        "id": "qslbuBaNvoX6"
      }
    },
    {
      "cell_type": "code",
      "source": [
        "# Function that converts the user-created audio to the format that the model \n",
        "# expects: bitrate 16kHz and only one channel (mono).\n",
        "\n",
        "EXPECTED_SAMPLE_RATE = 8000\n",
        "\n",
        "def convert_audio_for_model(user_file, output_file='converted_audio_file.wav'):\n",
        "  audio = AudioSegment.from_file(user_file)\n",
        "  audio = audio.set_frame_rate(EXPECTED_SAMPLE_RATE).set_channels(1)\n",
        "  audio.export(output_file, format=\"wav\")\n",
        "  return output_file"
      ],
      "metadata": {
        "id": "MJuMaXkuvTzu"
      },
      "execution_count": null,
      "outputs": []
    },
    {
      "cell_type": "code",
      "source": [
        "converted_audio_file = convert_audio_for_model(uploaded_file_name)"
      ],
      "metadata": {
        "id": "cOEXaDJWv2wM"
      },
      "execution_count": null,
      "outputs": []
    },
    {
      "cell_type": "code",
      "source": [
        "# Loading audio samples from the wav file:\n",
        "sample_rate, audio_samples = wavfile.read(converted_audio_file, 'rb')\n",
        "\n",
        "# Show some basic information about the audio.\n",
        "duration = len(audio_samples)/sample_rate\n",
        "print(f'Sample rate: {sample_rate} Hz')\n",
        "print(f'Total duration: {duration:.2f}s')\n",
        "print(f'Size of the input: {len(audio_samples)}')\n",
        "\n",
        "# Let's listen to the wav file.\n",
        "Audio(audio_samples, rate=sample_rate)"
      ],
      "metadata": {
        "id": "WX9O36_hwBrM"
      },
      "execution_count": null,
      "outputs": []
    },
    {
      "cell_type": "code",
      "source": [
        "# We can visualize the audio as a waveform.\n",
        "_ = plt.plot(audio_samples)"
      ],
      "metadata": {
        "id": "LFQgXMZwwGJZ"
      },
      "execution_count": null,
      "outputs": []
    },
    {
      "cell_type": "markdown",
      "source": [
        "## Voice Analysis"
      ],
      "metadata": {
        "id": "hM7hoqaZwJ2Z"
      }
    },
    {
      "cell_type": "code",
      "source": [
        "# Installing ipython package\n",
        "pip install Ipython"
      ],
      "metadata": {
        "id": "vRUnAznAwKBP"
      },
      "execution_count": null,
      "outputs": []
    },
    {
      "cell_type": "code",
      "source": [
        "from IPython.display import Audio"
      ],
      "metadata": {
        "id": "VaOwbeXwwSLc"
      },
      "execution_count": null,
      "outputs": []
    },
    {
      "cell_type": "code",
      "source": [
        "pip install my-voice-analysis"
      ],
      "metadata": {
        "id": "gHp41rziwUeD"
      },
      "execution_count": null,
      "outputs": []
    },
    {
      "cell_type": "code",
      "source": [
        "\n",
        "mysp=__import__(\"my-voice-analysis\")\n",
        "p=\"converted_audio_file\" # Audio File title\n",
        "c=r\"/content/converted_audio_file.wav\" # Path to the Audio_File directory (Python 3.7)"
      ],
      "metadata": {
        "id": "X0sw60H3wY2h"
      },
      "execution_count": null,
      "outputs": []
    },
    {
      "cell_type": "code",
      "source": [
        "# to capture the funtion outputs\n",
        "%%capture captured \n",
        "mysp.mysptotal(p,c)\n",
        "mysp.mysppron(p,c) \n",
        "# mysp.myspgend(p,c)"
      ],
      "metadata": {
        "id": "gCWo7FIswl9P"
      },
      "execution_count": null,
      "outputs": []
    },
    {
      "cell_type": "code",
      "source": [
        "# to print and save the captured output into a txt file\n",
        "x=captured.stdout\n",
        "%store x > file.txt"
      ],
      "metadata": {
        "id": "xRPTgahEwpRS"
      },
      "execution_count": null,
      "outputs": []
    },
    {
      "cell_type": "code",
      "source": [
        "# to access the file contents and convert into a string\n",
        "my_file = open(\"/content/file.txt\", \"r\")\n",
        "content = my_file.read()\n",
        "content_list = content\n",
        "my_file.close()\n",
        "# print(content_list)"
      ],
      "metadata": {
        "id": "F1kDPMXXwrSY"
      },
      "execution_count": null,
      "outputs": []
    },
    {
      "cell_type": "code",
      "source": [
        "# to remove the unwanted character and create a clean string\n",
        "s = content_list.replace('[]','')\n",
        "s1 = s.replace('=','')\n",
        "s2 = s1.replace(':','')\n",
        "s3 = s2.replace('\\n',',')\n",
        "s4 = \" \".join(s3.split())\n",
        "s5 = s4.replace(',,',',')\n",
        "s6=s5.replace(' ',':')\n",
        "s7 = s6.replace('_:','_')\n",
        "s8 = s7.replace(',',' ')\n",
        "s9 = s8[4:]\n",
        "print(s9)"
      ],
      "metadata": {
        "id": "UzwQgUq_wtaU"
      },
      "execution_count": null,
      "outputs": []
    },
    {
      "cell_type": "code",
      "source": [
        "# to create a dataframe\n",
        "l =[]\n",
        "l = s9.split(\" \")\n",
        "df_voice = pd.DataFrame(l)\n",
        "df_voice.columns =['cat']\n",
        "df_voice[['Category', 'rating']] = df_voice['cat'].str.split(':', expand=True)\n",
        "del df_voice['cat']\n",
        "description =['Detect and count number of syllables','Detect and count number of fillers and pauses','(syllables/sec) original duration','(syllables/sec) speaking duration','(sec) only speaking duration without pauses','total speaking duration with pauses','ratio (speaking duration)/(original duration)','(Hz) global mean of fundamental frequency distribution','(Hz) global standard deviation of fundamental frequency distribution','(Hz) global median of fundamental frequency distribution','(Hz) global minimum of fundamental frequency distribution','(Hz) global maximum of fundamental frequency distribution','(Hz) global 25th quantile of fundamental frequency distribution','(Hz) global 75th quantile of fundamental frequency distribution','(percentage) The probability that that person will later pronounce as they do on the recording','end']\n",
        "df_voice['Description'] = description\n",
        "df_voice"
      ],
      "metadata": {
        "id": "Yy5LskHiwtku"
      },
      "execution_count": null,
      "outputs": []
    },
    {
      "cell_type": "markdown",
      "source": [
        "## Using Language tool model to predict grammatical errors in sentences"
      ],
      "metadata": {
        "id": "6bUYSe7dw5nE"
      }
    },
    {
      "cell_type": "code",
      "source": [
        "pip install language-tool-python"
      ],
      "metadata": {
        "id": "JgWE4YUTxBnR"
      },
      "execution_count": null,
      "outputs": []
    },
    {
      "cell_type": "code",
      "source": [
        "import pandas as pd\n",
        "import language_tool_python\n",
        "tool = language_tool_python.LanguageTool('en-US')"
      ],
      "metadata": {
        "id": "Khpe-GZ2xDjC"
      },
      "execution_count": null,
      "outputs": []
    },
    {
      "cell_type": "code",
      "source": [
        "# text = \"Your the best but their are allso  good !\"\n",
        "# Here the \" text\" is the converted text from the audio file\n",
        "matches = tool.check(text)\n",
        "print('No. of error matches')\n",
        "len(matches)"
      ],
      "metadata": {
        "id": "igOiFEkDxFWW"
      },
      "execution_count": null,
      "outputs": []
    },
    {
      "cell_type": "markdown",
      "source": [
        "## Correcting the error sentence\n",
        "\n"
      ],
      "metadata": {
        "id": "aQ8G6cLzxJ7Y"
      }
    },
    {
      "cell_type": "code",
      "source": [
        "#corrected text\n",
        "tool.correct(text)"
      ],
      "metadata": {
        "id": "xQ87MxEgxMfN"
      },
      "execution_count": null,
      "outputs": []
    },
    {
      "cell_type": "code",
      "source": [
        "#converting the list of error matches into a dataframe\n",
        "df_speech = pd.DataFrame(matches,columns =['ruleId','message','replacements','offsetInContext','context','offset2','errorLength','category','ruleIssueType','sentence'])\n",
        "df_speech"
      ],
      "metadata": {
        "id": "D550VPHnxXaI"
      },
      "execution_count": null,
      "outputs": []
    },
    {
      "cell_type": "code",
      "source": [
        "sr = df_speech.category.value_counts()\n",
        "df1_speech = sr.to_frame()"
      ],
      "metadata": {
        "id": "v5kGJw03xZWA"
      },
      "execution_count": null,
      "outputs": []
    },
    {
      "cell_type": "code",
      "source": [
        "df1_speech.reset_index(level=0, inplace=True)\n",
        "df1_speech = df1_speech.rename(columns={'index': 'category', 'category': 'frequency'})\n",
        "df1_speech.shape"
      ],
      "metadata": {
        "id": "ucMdF5Y_xbC8"
      },
      "execution_count": null,
      "outputs": []
    },
    {
      "cell_type": "markdown",
      "source": [
        "## Below code block gives the feedback to user on where to focus in his English speaking skills"
      ],
      "metadata": {
        "id": "1hEyJGlUxhM9"
      }
    },
    {
      "cell_type": "code",
      "source": [
        "print ('User has to focus on following Error Categories :')\n",
        "category_list = df1_speech['category'].tolist() # to print only the list of error categories\n",
        "category_list = sorted(set(category_list)) # to remove the duplicate values from the colunm\n",
        "print(category_list)"
      ],
      "metadata": {
        "id": "GuqomOkjxejF"
      },
      "execution_count": null,
      "outputs": []
    },
    {
      "cell_type": "markdown",
      "source": [
        "# POS Is introduced from here."
      ],
      "metadata": {
        "id": "LyiZUZKR5c_Y"
      }
    },
    {
      "cell_type": "markdown",
      "source": [
        ""
      ],
      "metadata": {
        "id": "JeEq2H9X5vuG"
      }
    },
    {
      "cell_type": "code",
      "source": [
        "import spacy\n",
        "nlp = spacy.load('en_core_web_sm')"
      ],
      "metadata": {
        "id": "bi2qnf4pp2wY"
      },
      "execution_count": null,
      "outputs": []
    },
    {
      "cell_type": "code",
      "source": [
        "doc_object = nlp(u\"I was delighted to read you are letter last week. Its always a pleasure to recieve the latest news and to here that you and your family had a great summer. We spent last week at the beach and had so much fun on the sand and in the water exploring the coast we were not prepared for the rains that came at the end of the vacation. The best parts of the trip was the opportunities to sightsee and relax. My kids are back in school to. I find their are less things to worry about now that the kids are at school all day. There is plenty of fun things to do in the summer, but by August, I have running out of ideas. I have excepted the fact that we will have to think up brand-new activities next summer; hoping to round up some creative ideas soon.\")\n",
        "for word in doc_object:\n",
        "    print(f\" {word.text:{10}} {word.pos_:{10}} {word.tag_:{10}} {spacy.explain(word.tag_):{20}}\")"
      ],
      "metadata": {
        "id": "pxt7C6qX7xeC",
        "colab": {
          "base_uri": "https://localhost:8080/"
        },
        "outputId": "39e9643a-d4a8-4294-bf19-a7863b126541"
      },
      "execution_count": null,
      "outputs": [
        {
          "output_type": "stream",
          "name": "stdout",
          "text": [
            " I          PRON       PRP        pronoun, personal   \n",
            " was        AUX        VBD        verb, past tense    \n",
            " delighted  ADJ        JJ         adjective           \n",
            " to         PART       TO         infinitival \"to\"    \n",
            " read       VERB       VB         verb, base form     \n",
            " you        PRON       PRP        pronoun, personal   \n",
            " are        AUX        VBP        verb, non-3rd person singular present\n",
            " letter     NOUN       NN         noun, singular or mass\n",
            " last       ADJ        JJ         adjective           \n",
            " week       NOUN       NN         noun, singular or mass\n",
            " .          PUNCT      .          punctuation mark, sentence closer\n",
            " Its        DET        PRP$       pronoun, possessive \n",
            " always     ADV        RB         adverb              \n",
            " a          DET        DT         determiner          \n",
            " pleasure   NOUN       NN         noun, singular or mass\n",
            " to         PART       TO         infinitival \"to\"    \n",
            " recieve    VERB       VB         verb, base form     \n",
            " the        DET        DT         determiner          \n",
            " latest     ADJ        JJS        adjective, superlative\n",
            " news       NOUN       NN         noun, singular or mass\n",
            " and        CCONJ      CC         conjunction, coordinating\n",
            " to         PART       TO         infinitival \"to\"    \n",
            " here       ADV        RB         adverb              \n",
            " that       SCONJ      IN         conjunction, subordinating or preposition\n",
            " you        PRON       PRP        pronoun, personal   \n",
            " and        CCONJ      CC         conjunction, coordinating\n",
            " your       DET        PRP$       pronoun, possessive \n",
            " family     NOUN       NN         noun, singular or mass\n",
            " had        AUX        VBD        verb, past tense    \n",
            " a          DET        DT         determiner          \n",
            " great      ADJ        JJ         adjective           \n",
            " summer     NOUN       NN         noun, singular or mass\n",
            " .          PUNCT      .          punctuation mark, sentence closer\n",
            " We         PRON       PRP        pronoun, personal   \n",
            " spent      VERB       VBD        verb, past tense    \n",
            " last       ADJ        JJ         adjective           \n",
            " week       NOUN       NN         noun, singular or mass\n",
            " at         ADP        IN         conjunction, subordinating or preposition\n",
            " the        DET        DT         determiner          \n",
            " beach      NOUN       NN         noun, singular or mass\n",
            " and        CCONJ      CC         conjunction, coordinating\n",
            " had        AUX        VBD        verb, past tense    \n",
            " so         ADV        RB         adverb              \n",
            " much       ADJ        JJ         adjective           \n",
            " fun        NOUN       NN         noun, singular or mass\n",
            " on         ADP        IN         conjunction, subordinating or preposition\n",
            " the        DET        DT         determiner          \n",
            " sand       NOUN       NN         noun, singular or mass\n",
            " and        CCONJ      CC         conjunction, coordinating\n",
            " in         ADP        IN         conjunction, subordinating or preposition\n",
            " the        DET        DT         determiner          \n",
            " water      NOUN       NN         noun, singular or mass\n",
            " exploring  VERB       VBG        verb, gerund or present participle\n",
            " the        DET        DT         determiner          \n",
            " coast      NOUN       NN         noun, singular or mass\n",
            " we         PRON       PRP        pronoun, personal   \n",
            " were       AUX        VBD        verb, past tense    \n",
            " not        PART       RB         adverb              \n",
            " prepared   ADJ        JJ         adjective           \n",
            " for        ADP        IN         conjunction, subordinating or preposition\n",
            " the        DET        DT         determiner          \n",
            " rains      NOUN       NNS        noun, plural        \n",
            " that       DET        WDT        wh-determiner       \n",
            " came       VERB       VBD        verb, past tense    \n",
            " at         ADP        IN         conjunction, subordinating or preposition\n",
            " the        DET        DT         determiner          \n",
            " end        NOUN       NN         noun, singular or mass\n",
            " of         ADP        IN         conjunction, subordinating or preposition\n",
            " the        DET        DT         determiner          \n",
            " vacation   NOUN       NN         noun, singular or mass\n",
            " .          PUNCT      .          punctuation mark, sentence closer\n",
            " The        DET        DT         determiner          \n",
            " best       ADJ        JJS        adjective, superlative\n",
            " parts      NOUN       NNS        noun, plural        \n",
            " of         ADP        IN         conjunction, subordinating or preposition\n",
            " the        DET        DT         determiner          \n",
            " trip       NOUN       NN         noun, singular or mass\n",
            " was        AUX        VBD        verb, past tense    \n",
            " the        DET        DT         determiner          \n",
            " opportunities NOUN       NNS        noun, plural        \n",
            " to         PART       TO         infinitival \"to\"    \n",
            " sightsee   VERB       VB         verb, base form     \n",
            " and        CCONJ      CC         conjunction, coordinating\n",
            " relax      VERB       VB         verb, base form     \n",
            " .          PUNCT      .          punctuation mark, sentence closer\n",
            " My         DET        PRP$       pronoun, possessive \n",
            " kids       NOUN       NNS        noun, plural        \n",
            " are        AUX        VBP        verb, non-3rd person singular present\n",
            " back       ADV        RB         adverb              \n",
            " in         ADP        IN         conjunction, subordinating or preposition\n",
            " school     NOUN       NN         noun, singular or mass\n",
            " to         ADP        IN         conjunction, subordinating or preposition\n",
            " .          PUNCT      .          punctuation mark, sentence closer\n",
            " I          PRON       PRP        pronoun, personal   \n",
            " find       VERB       VBP        verb, non-3rd person singular present\n",
            " their      DET        PRP$       pronoun, possessive \n",
            " are        AUX        VBP        verb, non-3rd person singular present\n",
            " less       ADJ        JJR        adjective, comparative\n",
            " things     NOUN       NNS        noun, plural        \n",
            " to         PART       TO         infinitival \"to\"    \n",
            " worry      VERB       VB         verb, base form     \n",
            " about      ADP        IN         conjunction, subordinating or preposition\n",
            " now        ADV        RB         adverb              \n",
            " that       SCONJ      IN         conjunction, subordinating or preposition\n",
            " the        DET        DT         determiner          \n",
            " kids       NOUN       NNS        noun, plural        \n",
            " are        AUX        VBP        verb, non-3rd person singular present\n",
            " at         ADP        IN         conjunction, subordinating or preposition\n",
            " school     NOUN       NN         noun, singular or mass\n",
            " all        DET        DT         determiner          \n",
            " day        NOUN       NN         noun, singular or mass\n",
            " .          PUNCT      .          punctuation mark, sentence closer\n",
            " There      PRON       EX         existential there   \n",
            " is         AUX        VBZ        verb, 3rd person singular present\n",
            " plenty     NOUN       NN         noun, singular or mass\n",
            " of         ADP        IN         conjunction, subordinating or preposition\n",
            " fun        ADJ        JJ         adjective           \n",
            " things     NOUN       NNS        noun, plural        \n",
            " to         PART       TO         infinitival \"to\"    \n",
            " do         AUX        VB         verb, base form     \n",
            " in         ADP        IN         conjunction, subordinating or preposition\n",
            " the        DET        DT         determiner          \n",
            " summer     NOUN       NN         noun, singular or mass\n",
            " ,          PUNCT      ,          punctuation mark, comma\n",
            " but        CCONJ      CC         conjunction, coordinating\n",
            " by         ADP        IN         conjunction, subordinating or preposition\n",
            " August     PROPN      NNP        noun, proper singular\n",
            " ,          PUNCT      ,          punctuation mark, comma\n",
            " I          PRON       PRP        pronoun, personal   \n",
            " have       AUX        VBP        verb, non-3rd person singular present\n",
            " running    VERB       VBG        verb, gerund or present participle\n",
            " out        SCONJ      IN         conjunction, subordinating or preposition\n",
            " of         ADP        IN         conjunction, subordinating or preposition\n",
            " ideas      NOUN       NNS        noun, plural        \n",
            " .          PUNCT      .          punctuation mark, sentence closer\n",
            " I          PRON       PRP        pronoun, personal   \n",
            " have       AUX        VBP        verb, non-3rd person singular present\n",
            " excepted   VERB       VBN        verb, past participle\n",
            " the        DET        DT         determiner          \n",
            " fact       NOUN       NN         noun, singular or mass\n",
            " that       SCONJ      IN         conjunction, subordinating or preposition\n",
            " we         PRON       PRP        pronoun, personal   \n",
            " will       VERB       MD         verb, modal auxiliary\n",
            " have       AUX        VB         verb, base form     \n",
            " to         PART       TO         infinitival \"to\"    \n",
            " think      VERB       VB         verb, base form     \n",
            " up         ADP        RP         adverb, particle    \n",
            " brand      NOUN       NN         noun, singular or mass\n",
            " -          PUNCT      HYPH       punctuation mark, hyphen\n",
            " new        ADJ        JJ         adjective           \n",
            " activities NOUN       NNS        noun, plural        \n",
            " next       ADP        IN         conjunction, subordinating or preposition\n",
            " summer     NOUN       NN         noun, singular or mass\n",
            " ;          PUNCT      :          punctuation mark, colon or ellipsis\n",
            " hoping     VERB       VBG        verb, gerund or present participle\n",
            " to         PART       TO         infinitival \"to\"    \n",
            " round      VERB       VB         verb, base form     \n",
            " up         ADP        RP         adverb, particle    \n",
            " some       DET        DT         determiner          \n",
            " creative   ADJ        JJ         adjective           \n",
            " ideas      NOUN       NNS        noun, plural        \n",
            " soon       ADV        RB         adverb              \n",
            " .          PUNCT      .          punctuation mark, sentence closer\n"
          ]
        }
      ]
    },
    {
      "cell_type": "code",
      "source": [
        "doc_object = nlp(u\"I am a good human being. I love animals as well. I want to marry her and take care of her. She is also happy with me.\")\n"
      ],
      "metadata": {
        "id": "x24xLXOt72fH"
      },
      "execution_count": null,
      "outputs": []
    },
    {
      "cell_type": "code",
      "source": [
        "# Count the frequencies of different coarse-grained POS tags in the sentence\n",
        "POS_frequency = doc_object.count_by(spacy.attrs.POS)\n",
        "POS_frequency"
      ],
      "metadata": {
        "id": "SlyLN6mv73Uv",
        "colab": {
          "base_uri": "https://localhost:8080/"
        },
        "outputId": "b2539c9d-b744-45a3-ac9b-afd0d5b6844a"
      },
      "execution_count": null,
      "outputs": [
        {
          "output_type": "execute_result",
          "data": {
            "text/plain": [
              "{84: 3, 85: 2, 86: 3, 87: 2, 89: 1, 90: 1, 92: 3, 94: 1, 95: 7, 97: 4, 100: 4}"
            ]
          },
          "metadata": {},
          "execution_count": 8
        }
      ]
    },
    {
      "cell_type": "code",
      "source": [
        "doc_object.vocab[91].text"
      ],
      "metadata": {
        "id": "7IOvjzab78uS",
        "colab": {
          "base_uri": "https://localhost:8080/",
          "height": 36
        },
        "outputId": "f3247cbd-83f7-44f1-9190-026944e9e7c2"
      },
      "execution_count": null,
      "outputs": [
        {
          "output_type": "execute_result",
          "data": {
            "text/plain": [
              "'INTJ'"
            ],
            "application/vnd.google.colaboratory.intrinsic+json": {
              "type": "string"
            }
          },
          "metadata": {},
          "execution_count": 9
        }
      ]
    },
    {
      "cell_type": "code",
      "source": [
        "# Using the \".items()\" command accesses each item in the dictionary\n",
        "for tag_id, occurrences in POS_frequency.items():\n",
        "        print(f\" {tag_id:{10}} {doc_object.vocab[tag_id].text:{10}} {occurrences}\")"
      ],
      "metadata": {
        "id": "lmueX4HP8Bre",
        "colab": {
          "base_uri": "https://localhost:8080/"
        },
        "outputId": "443bef50-f266-41f7-c8ff-fc0170925f54"
      },
      "execution_count": null,
      "outputs": [
        {
          "output_type": "stream",
          "name": "stdout",
          "text": [
            "         95 PRON       7\n",
            "         87 AUX        2\n",
            "         90 DET        1\n",
            "         84 ADJ        3\n",
            "         92 NOUN       3\n",
            "         97 PUNCT      4\n",
            "        100 VERB       4\n",
            "         86 ADV        3\n",
            "         94 PART       1\n",
            "         89 CCONJ      1\n",
            "         85 ADP        2\n"
          ]
        }
      ]
    },
    {
      "cell_type": "code",
      "source": [
        "type(POS_frequency)"
      ],
      "metadata": {
        "id": "n9FeCjCc8G18"
      },
      "execution_count": null,
      "outputs": []
    },
    {
      "cell_type": "code",
      "source": [
        "for tag_id, occurrences in sorted (POS_frequency.items()):\n",
        "        print(f\" {tag_id:{10}} {doc_object.vocab[tag_id].text:{10}} {occurrences}\")"
      ],
      "metadata": {
        "id": "RSjK7Jaj8Jof"
      },
      "execution_count": null,
      "outputs": []
    },
    {
      "cell_type": "code",
      "source": [
        "# Get counts on each fine-grained POS tag for the document object\n",
        "fine_grained_POS = doc_object.count_by(spacy.attrs.TAG)\n",
        "\n",
        "for tag_id, occurrences in sorted (fine_grained_POS.items()):\n",
        "    print(f\" {tag_id:{20}} {doc_object.vocab[tag_id].text:{10}} {occurrences}\")"
      ],
      "metadata": {
        "id": "SOOqAQgM8OOc"
      },
      "execution_count": null,
      "outputs": []
    },
    {
      "cell_type": "code",
      "source": [
        "# Count the different dependencies:\n",
        "syn_dep_count = doc_object.count_by(spacy.attrs.DEP)\n",
        "\n",
        "for tag_id, occurrences in sorted(syn_dep_count.items()):\n",
        "    print(f'{tag_id:{10}} {doc_object.vocab[tag_id].text:{10}}: {occurrences}')"
      ],
      "metadata": {
        "id": "1XPPPJo28OdA"
      },
      "execution_count": null,
      "outputs": []
    },
    {
      "cell_type": "code",
      "source": [
        "from spacy import displacy\n",
        "\n",
        "doc_object = nlp(u\"I am a good human being. I love animals as well. I want to marry her and take care of her. She is also happy with me.\")\n",
        "displacy.render(doc_object, style='dep', jupyter=True, options={'distance': 90})"
      ],
      "metadata": {
        "id": "5P7Xzlve8OoA",
        "colab": {
          "base_uri": "https://localhost:8080/",
          "height": 359
        },
        "outputId": "f7f1dbcb-d63b-49a9-f9f4-6461ba75ccda"
      },
      "execution_count": null,
      "outputs": [
        {
          "output_type": "display_data",
          "data": {
            "text/plain": [
              "<IPython.core.display.HTML object>"
            ],
            "text/html": [
              "<span class=\"tex2jax_ignore\"><svg xmlns=\"http://www.w3.org/2000/svg\" xmlns:xlink=\"http://www.w3.org/1999/xlink\" xml:lang=\"en\" id=\"8b286ef619df4b688b066f70f7f79317-0\" class=\"displacy\" width=\"2480\" height=\"317.0\" direction=\"ltr\" style=\"max-width: none; height: 317.0px; color: #000000; background: #ffffff; font-family: Arial; direction: ltr\">\n",
              "<text class=\"displacy-token\" fill=\"currentColor\" text-anchor=\"middle\" y=\"227.0\">\n",
              "    <tspan class=\"displacy-word\" fill=\"currentColor\" x=\"50\">I</tspan>\n",
              "    <tspan class=\"displacy-tag\" dy=\"2em\" fill=\"currentColor\" x=\"50\">PRON</tspan>\n",
              "</text>\n",
              "\n",
              "<text class=\"displacy-token\" fill=\"currentColor\" text-anchor=\"middle\" y=\"227.0\">\n",
              "    <tspan class=\"displacy-word\" fill=\"currentColor\" x=\"140\">am</tspan>\n",
              "    <tspan class=\"displacy-tag\" dy=\"2em\" fill=\"currentColor\" x=\"140\">AUX</tspan>\n",
              "</text>\n",
              "\n",
              "<text class=\"displacy-token\" fill=\"currentColor\" text-anchor=\"middle\" y=\"227.0\">\n",
              "    <tspan class=\"displacy-word\" fill=\"currentColor\" x=\"230\">a</tspan>\n",
              "    <tspan class=\"displacy-tag\" dy=\"2em\" fill=\"currentColor\" x=\"230\">DET</tspan>\n",
              "</text>\n",
              "\n",
              "<text class=\"displacy-token\" fill=\"currentColor\" text-anchor=\"middle\" y=\"227.0\">\n",
              "    <tspan class=\"displacy-word\" fill=\"currentColor\" x=\"320\">good</tspan>\n",
              "    <tspan class=\"displacy-tag\" dy=\"2em\" fill=\"currentColor\" x=\"320\">ADJ</tspan>\n",
              "</text>\n",
              "\n",
              "<text class=\"displacy-token\" fill=\"currentColor\" text-anchor=\"middle\" y=\"227.0\">\n",
              "    <tspan class=\"displacy-word\" fill=\"currentColor\" x=\"410\">human</tspan>\n",
              "    <tspan class=\"displacy-tag\" dy=\"2em\" fill=\"currentColor\" x=\"410\">ADJ</tspan>\n",
              "</text>\n",
              "\n",
              "<text class=\"displacy-token\" fill=\"currentColor\" text-anchor=\"middle\" y=\"227.0\">\n",
              "    <tspan class=\"displacy-word\" fill=\"currentColor\" x=\"500\">being.</tspan>\n",
              "    <tspan class=\"displacy-tag\" dy=\"2em\" fill=\"currentColor\" x=\"500\">NOUN</tspan>\n",
              "</text>\n",
              "\n",
              "<text class=\"displacy-token\" fill=\"currentColor\" text-anchor=\"middle\" y=\"227.0\">\n",
              "    <tspan class=\"displacy-word\" fill=\"currentColor\" x=\"590\">I</tspan>\n",
              "    <tspan class=\"displacy-tag\" dy=\"2em\" fill=\"currentColor\" x=\"590\">PRON</tspan>\n",
              "</text>\n",
              "\n",
              "<text class=\"displacy-token\" fill=\"currentColor\" text-anchor=\"middle\" y=\"227.0\">\n",
              "    <tspan class=\"displacy-word\" fill=\"currentColor\" x=\"680\">love</tspan>\n",
              "    <tspan class=\"displacy-tag\" dy=\"2em\" fill=\"currentColor\" x=\"680\">VERB</tspan>\n",
              "</text>\n",
              "\n",
              "<text class=\"displacy-token\" fill=\"currentColor\" text-anchor=\"middle\" y=\"227.0\">\n",
              "    <tspan class=\"displacy-word\" fill=\"currentColor\" x=\"770\">animals</tspan>\n",
              "    <tspan class=\"displacy-tag\" dy=\"2em\" fill=\"currentColor\" x=\"770\">NOUN</tspan>\n",
              "</text>\n",
              "\n",
              "<text class=\"displacy-token\" fill=\"currentColor\" text-anchor=\"middle\" y=\"227.0\">\n",
              "    <tspan class=\"displacy-word\" fill=\"currentColor\" x=\"860\">as</tspan>\n",
              "    <tspan class=\"displacy-tag\" dy=\"2em\" fill=\"currentColor\" x=\"860\">ADV</tspan>\n",
              "</text>\n",
              "\n",
              "<text class=\"displacy-token\" fill=\"currentColor\" text-anchor=\"middle\" y=\"227.0\">\n",
              "    <tspan class=\"displacy-word\" fill=\"currentColor\" x=\"950\">well.</tspan>\n",
              "    <tspan class=\"displacy-tag\" dy=\"2em\" fill=\"currentColor\" x=\"950\">ADV</tspan>\n",
              "</text>\n",
              "\n",
              "<text class=\"displacy-token\" fill=\"currentColor\" text-anchor=\"middle\" y=\"227.0\">\n",
              "    <tspan class=\"displacy-word\" fill=\"currentColor\" x=\"1040\">I</tspan>\n",
              "    <tspan class=\"displacy-tag\" dy=\"2em\" fill=\"currentColor\" x=\"1040\">PRON</tspan>\n",
              "</text>\n",
              "\n",
              "<text class=\"displacy-token\" fill=\"currentColor\" text-anchor=\"middle\" y=\"227.0\">\n",
              "    <tspan class=\"displacy-word\" fill=\"currentColor\" x=\"1130\">want</tspan>\n",
              "    <tspan class=\"displacy-tag\" dy=\"2em\" fill=\"currentColor\" x=\"1130\">VERB</tspan>\n",
              "</text>\n",
              "\n",
              "<text class=\"displacy-token\" fill=\"currentColor\" text-anchor=\"middle\" y=\"227.0\">\n",
              "    <tspan class=\"displacy-word\" fill=\"currentColor\" x=\"1220\">to</tspan>\n",
              "    <tspan class=\"displacy-tag\" dy=\"2em\" fill=\"currentColor\" x=\"1220\">PART</tspan>\n",
              "</text>\n",
              "\n",
              "<text class=\"displacy-token\" fill=\"currentColor\" text-anchor=\"middle\" y=\"227.0\">\n",
              "    <tspan class=\"displacy-word\" fill=\"currentColor\" x=\"1310\">marry</tspan>\n",
              "    <tspan class=\"displacy-tag\" dy=\"2em\" fill=\"currentColor\" x=\"1310\">VERB</tspan>\n",
              "</text>\n",
              "\n",
              "<text class=\"displacy-token\" fill=\"currentColor\" text-anchor=\"middle\" y=\"227.0\">\n",
              "    <tspan class=\"displacy-word\" fill=\"currentColor\" x=\"1400\">her</tspan>\n",
              "    <tspan class=\"displacy-tag\" dy=\"2em\" fill=\"currentColor\" x=\"1400\">PRON</tspan>\n",
              "</text>\n",
              "\n",
              "<text class=\"displacy-token\" fill=\"currentColor\" text-anchor=\"middle\" y=\"227.0\">\n",
              "    <tspan class=\"displacy-word\" fill=\"currentColor\" x=\"1490\">and</tspan>\n",
              "    <tspan class=\"displacy-tag\" dy=\"2em\" fill=\"currentColor\" x=\"1490\">CCONJ</tspan>\n",
              "</text>\n",
              "\n",
              "<text class=\"displacy-token\" fill=\"currentColor\" text-anchor=\"middle\" y=\"227.0\">\n",
              "    <tspan class=\"displacy-word\" fill=\"currentColor\" x=\"1580\">take</tspan>\n",
              "    <tspan class=\"displacy-tag\" dy=\"2em\" fill=\"currentColor\" x=\"1580\">VERB</tspan>\n",
              "</text>\n",
              "\n",
              "<text class=\"displacy-token\" fill=\"currentColor\" text-anchor=\"middle\" y=\"227.0\">\n",
              "    <tspan class=\"displacy-word\" fill=\"currentColor\" x=\"1670\">care</tspan>\n",
              "    <tspan class=\"displacy-tag\" dy=\"2em\" fill=\"currentColor\" x=\"1670\">NOUN</tspan>\n",
              "</text>\n",
              "\n",
              "<text class=\"displacy-token\" fill=\"currentColor\" text-anchor=\"middle\" y=\"227.0\">\n",
              "    <tspan class=\"displacy-word\" fill=\"currentColor\" x=\"1760\">of</tspan>\n",
              "    <tspan class=\"displacy-tag\" dy=\"2em\" fill=\"currentColor\" x=\"1760\">ADP</tspan>\n",
              "</text>\n",
              "\n",
              "<text class=\"displacy-token\" fill=\"currentColor\" text-anchor=\"middle\" y=\"227.0\">\n",
              "    <tspan class=\"displacy-word\" fill=\"currentColor\" x=\"1850\">her.</tspan>\n",
              "    <tspan class=\"displacy-tag\" dy=\"2em\" fill=\"currentColor\" x=\"1850\">PRON</tspan>\n",
              "</text>\n",
              "\n",
              "<text class=\"displacy-token\" fill=\"currentColor\" text-anchor=\"middle\" y=\"227.0\">\n",
              "    <tspan class=\"displacy-word\" fill=\"currentColor\" x=\"1940\">She</tspan>\n",
              "    <tspan class=\"displacy-tag\" dy=\"2em\" fill=\"currentColor\" x=\"1940\">PRON</tspan>\n",
              "</text>\n",
              "\n",
              "<text class=\"displacy-token\" fill=\"currentColor\" text-anchor=\"middle\" y=\"227.0\">\n",
              "    <tspan class=\"displacy-word\" fill=\"currentColor\" x=\"2030\">is</tspan>\n",
              "    <tspan class=\"displacy-tag\" dy=\"2em\" fill=\"currentColor\" x=\"2030\">AUX</tspan>\n",
              "</text>\n",
              "\n",
              "<text class=\"displacy-token\" fill=\"currentColor\" text-anchor=\"middle\" y=\"227.0\">\n",
              "    <tspan class=\"displacy-word\" fill=\"currentColor\" x=\"2120\">also</tspan>\n",
              "    <tspan class=\"displacy-tag\" dy=\"2em\" fill=\"currentColor\" x=\"2120\">ADV</tspan>\n",
              "</text>\n",
              "\n",
              "<text class=\"displacy-token\" fill=\"currentColor\" text-anchor=\"middle\" y=\"227.0\">\n",
              "    <tspan class=\"displacy-word\" fill=\"currentColor\" x=\"2210\">happy</tspan>\n",
              "    <tspan class=\"displacy-tag\" dy=\"2em\" fill=\"currentColor\" x=\"2210\">ADJ</tspan>\n",
              "</text>\n",
              "\n",
              "<text class=\"displacy-token\" fill=\"currentColor\" text-anchor=\"middle\" y=\"227.0\">\n",
              "    <tspan class=\"displacy-word\" fill=\"currentColor\" x=\"2300\">with</tspan>\n",
              "    <tspan class=\"displacy-tag\" dy=\"2em\" fill=\"currentColor\" x=\"2300\">ADP</tspan>\n",
              "</text>\n",
              "\n",
              "<text class=\"displacy-token\" fill=\"currentColor\" text-anchor=\"middle\" y=\"227.0\">\n",
              "    <tspan class=\"displacy-word\" fill=\"currentColor\" x=\"2390\">me.</tspan>\n",
              "    <tspan class=\"displacy-tag\" dy=\"2em\" fill=\"currentColor\" x=\"2390\">PRON</tspan>\n",
              "</text>\n",
              "\n",
              "<g class=\"displacy-arrow\">\n",
              "    <path class=\"displacy-arc\" id=\"arrow-8b286ef619df4b688b066f70f7f79317-0-0\" stroke-width=\"2px\" d=\"M70,182.0 C70,137.0 125.0,137.0 125.0,182.0\" fill=\"none\" stroke=\"currentColor\"/>\n",
              "    <text dy=\"1.25em\" style=\"font-size: 0.8em; letter-spacing: 1px\">\n",
              "        <textPath xlink:href=\"#arrow-8b286ef619df4b688b066f70f7f79317-0-0\" class=\"displacy-label\" startOffset=\"50%\" side=\"left\" fill=\"currentColor\" text-anchor=\"middle\">nsubj</textPath>\n",
              "    </text>\n",
              "    <path class=\"displacy-arrowhead\" d=\"M70,184.0 L62,172.0 78,172.0\" fill=\"currentColor\"/>\n",
              "</g>\n",
              "\n",
              "<g class=\"displacy-arrow\">\n",
              "    <path class=\"displacy-arc\" id=\"arrow-8b286ef619df4b688b066f70f7f79317-0-1\" stroke-width=\"2px\" d=\"M250,182.0 C250,47.0 495.0,47.0 495.0,182.0\" fill=\"none\" stroke=\"currentColor\"/>\n",
              "    <text dy=\"1.25em\" style=\"font-size: 0.8em; letter-spacing: 1px\">\n",
              "        <textPath xlink:href=\"#arrow-8b286ef619df4b688b066f70f7f79317-0-1\" class=\"displacy-label\" startOffset=\"50%\" side=\"left\" fill=\"currentColor\" text-anchor=\"middle\">det</textPath>\n",
              "    </text>\n",
              "    <path class=\"displacy-arrowhead\" d=\"M250,184.0 L242,172.0 258,172.0\" fill=\"currentColor\"/>\n",
              "</g>\n",
              "\n",
              "<g class=\"displacy-arrow\">\n",
              "    <path class=\"displacy-arc\" id=\"arrow-8b286ef619df4b688b066f70f7f79317-0-2\" stroke-width=\"2px\" d=\"M340,182.0 C340,92.0 490.0,92.0 490.0,182.0\" fill=\"none\" stroke=\"currentColor\"/>\n",
              "    <text dy=\"1.25em\" style=\"font-size: 0.8em; letter-spacing: 1px\">\n",
              "        <textPath xlink:href=\"#arrow-8b286ef619df4b688b066f70f7f79317-0-2\" class=\"displacy-label\" startOffset=\"50%\" side=\"left\" fill=\"currentColor\" text-anchor=\"middle\">amod</textPath>\n",
              "    </text>\n",
              "    <path class=\"displacy-arrowhead\" d=\"M340,184.0 L332,172.0 348,172.0\" fill=\"currentColor\"/>\n",
              "</g>\n",
              "\n",
              "<g class=\"displacy-arrow\">\n",
              "    <path class=\"displacy-arc\" id=\"arrow-8b286ef619df4b688b066f70f7f79317-0-3\" stroke-width=\"2px\" d=\"M430,182.0 C430,137.0 485.0,137.0 485.0,182.0\" fill=\"none\" stroke=\"currentColor\"/>\n",
              "    <text dy=\"1.25em\" style=\"font-size: 0.8em; letter-spacing: 1px\">\n",
              "        <textPath xlink:href=\"#arrow-8b286ef619df4b688b066f70f7f79317-0-3\" class=\"displacy-label\" startOffset=\"50%\" side=\"left\" fill=\"currentColor\" text-anchor=\"middle\">amod</textPath>\n",
              "    </text>\n",
              "    <path class=\"displacy-arrowhead\" d=\"M430,184.0 L422,172.0 438,172.0\" fill=\"currentColor\"/>\n",
              "</g>\n",
              "\n",
              "<g class=\"displacy-arrow\">\n",
              "    <path class=\"displacy-arc\" id=\"arrow-8b286ef619df4b688b066f70f7f79317-0-4\" stroke-width=\"2px\" d=\"M160,182.0 C160,2.0 500.0,2.0 500.0,182.0\" fill=\"none\" stroke=\"currentColor\"/>\n",
              "    <text dy=\"1.25em\" style=\"font-size: 0.8em; letter-spacing: 1px\">\n",
              "        <textPath xlink:href=\"#arrow-8b286ef619df4b688b066f70f7f79317-0-4\" class=\"displacy-label\" startOffset=\"50%\" side=\"left\" fill=\"currentColor\" text-anchor=\"middle\">attr</textPath>\n",
              "    </text>\n",
              "    <path class=\"displacy-arrowhead\" d=\"M500.0,184.0 L508.0,172.0 492.0,172.0\" fill=\"currentColor\"/>\n",
              "</g>\n",
              "\n",
              "<g class=\"displacy-arrow\">\n",
              "    <path class=\"displacy-arc\" id=\"arrow-8b286ef619df4b688b066f70f7f79317-0-5\" stroke-width=\"2px\" d=\"M610,182.0 C610,137.0 665.0,137.0 665.0,182.0\" fill=\"none\" stroke=\"currentColor\"/>\n",
              "    <text dy=\"1.25em\" style=\"font-size: 0.8em; letter-spacing: 1px\">\n",
              "        <textPath xlink:href=\"#arrow-8b286ef619df4b688b066f70f7f79317-0-5\" class=\"displacy-label\" startOffset=\"50%\" side=\"left\" fill=\"currentColor\" text-anchor=\"middle\">nsubj</textPath>\n",
              "    </text>\n",
              "    <path class=\"displacy-arrowhead\" d=\"M610,184.0 L602,172.0 618,172.0\" fill=\"currentColor\"/>\n",
              "</g>\n",
              "\n",
              "<g class=\"displacy-arrow\">\n",
              "    <path class=\"displacy-arc\" id=\"arrow-8b286ef619df4b688b066f70f7f79317-0-6\" stroke-width=\"2px\" d=\"M700,182.0 C700,137.0 755.0,137.0 755.0,182.0\" fill=\"none\" stroke=\"currentColor\"/>\n",
              "    <text dy=\"1.25em\" style=\"font-size: 0.8em; letter-spacing: 1px\">\n",
              "        <textPath xlink:href=\"#arrow-8b286ef619df4b688b066f70f7f79317-0-6\" class=\"displacy-label\" startOffset=\"50%\" side=\"left\" fill=\"currentColor\" text-anchor=\"middle\">dobj</textPath>\n",
              "    </text>\n",
              "    <path class=\"displacy-arrowhead\" d=\"M755.0,184.0 L763.0,172.0 747.0,172.0\" fill=\"currentColor\"/>\n",
              "</g>\n",
              "\n",
              "<g class=\"displacy-arrow\">\n",
              "    <path class=\"displacy-arc\" id=\"arrow-8b286ef619df4b688b066f70f7f79317-0-7\" stroke-width=\"2px\" d=\"M880,182.0 C880,137.0 935.0,137.0 935.0,182.0\" fill=\"none\" stroke=\"currentColor\"/>\n",
              "    <text dy=\"1.25em\" style=\"font-size: 0.8em; letter-spacing: 1px\">\n",
              "        <textPath xlink:href=\"#arrow-8b286ef619df4b688b066f70f7f79317-0-7\" class=\"displacy-label\" startOffset=\"50%\" side=\"left\" fill=\"currentColor\" text-anchor=\"middle\">advmod</textPath>\n",
              "    </text>\n",
              "    <path class=\"displacy-arrowhead\" d=\"M880,184.0 L872,172.0 888,172.0\" fill=\"currentColor\"/>\n",
              "</g>\n",
              "\n",
              "<g class=\"displacy-arrow\">\n",
              "    <path class=\"displacy-arc\" id=\"arrow-8b286ef619df4b688b066f70f7f79317-0-8\" stroke-width=\"2px\" d=\"M700,182.0 C700,47.0 945.0,47.0 945.0,182.0\" fill=\"none\" stroke=\"currentColor\"/>\n",
              "    <text dy=\"1.25em\" style=\"font-size: 0.8em; letter-spacing: 1px\">\n",
              "        <textPath xlink:href=\"#arrow-8b286ef619df4b688b066f70f7f79317-0-8\" class=\"displacy-label\" startOffset=\"50%\" side=\"left\" fill=\"currentColor\" text-anchor=\"middle\">advmod</textPath>\n",
              "    </text>\n",
              "    <path class=\"displacy-arrowhead\" d=\"M945.0,184.0 L953.0,172.0 937.0,172.0\" fill=\"currentColor\"/>\n",
              "</g>\n",
              "\n",
              "<g class=\"displacy-arrow\">\n",
              "    <path class=\"displacy-arc\" id=\"arrow-8b286ef619df4b688b066f70f7f79317-0-9\" stroke-width=\"2px\" d=\"M1060,182.0 C1060,137.0 1115.0,137.0 1115.0,182.0\" fill=\"none\" stroke=\"currentColor\"/>\n",
              "    <text dy=\"1.25em\" style=\"font-size: 0.8em; letter-spacing: 1px\">\n",
              "        <textPath xlink:href=\"#arrow-8b286ef619df4b688b066f70f7f79317-0-9\" class=\"displacy-label\" startOffset=\"50%\" side=\"left\" fill=\"currentColor\" text-anchor=\"middle\">nsubj</textPath>\n",
              "    </text>\n",
              "    <path class=\"displacy-arrowhead\" d=\"M1060,184.0 L1052,172.0 1068,172.0\" fill=\"currentColor\"/>\n",
              "</g>\n",
              "\n",
              "<g class=\"displacy-arrow\">\n",
              "    <path class=\"displacy-arc\" id=\"arrow-8b286ef619df4b688b066f70f7f79317-0-10\" stroke-width=\"2px\" d=\"M1240,182.0 C1240,137.0 1295.0,137.0 1295.0,182.0\" fill=\"none\" stroke=\"currentColor\"/>\n",
              "    <text dy=\"1.25em\" style=\"font-size: 0.8em; letter-spacing: 1px\">\n",
              "        <textPath xlink:href=\"#arrow-8b286ef619df4b688b066f70f7f79317-0-10\" class=\"displacy-label\" startOffset=\"50%\" side=\"left\" fill=\"currentColor\" text-anchor=\"middle\">aux</textPath>\n",
              "    </text>\n",
              "    <path class=\"displacy-arrowhead\" d=\"M1240,184.0 L1232,172.0 1248,172.0\" fill=\"currentColor\"/>\n",
              "</g>\n",
              "\n",
              "<g class=\"displacy-arrow\">\n",
              "    <path class=\"displacy-arc\" id=\"arrow-8b286ef619df4b688b066f70f7f79317-0-11\" stroke-width=\"2px\" d=\"M1150,182.0 C1150,92.0 1300.0,92.0 1300.0,182.0\" fill=\"none\" stroke=\"currentColor\"/>\n",
              "    <text dy=\"1.25em\" style=\"font-size: 0.8em; letter-spacing: 1px\">\n",
              "        <textPath xlink:href=\"#arrow-8b286ef619df4b688b066f70f7f79317-0-11\" class=\"displacy-label\" startOffset=\"50%\" side=\"left\" fill=\"currentColor\" text-anchor=\"middle\">xcomp</textPath>\n",
              "    </text>\n",
              "    <path class=\"displacy-arrowhead\" d=\"M1300.0,184.0 L1308.0,172.0 1292.0,172.0\" fill=\"currentColor\"/>\n",
              "</g>\n",
              "\n",
              "<g class=\"displacy-arrow\">\n",
              "    <path class=\"displacy-arc\" id=\"arrow-8b286ef619df4b688b066f70f7f79317-0-12\" stroke-width=\"2px\" d=\"M1330,182.0 C1330,137.0 1385.0,137.0 1385.0,182.0\" fill=\"none\" stroke=\"currentColor\"/>\n",
              "    <text dy=\"1.25em\" style=\"font-size: 0.8em; letter-spacing: 1px\">\n",
              "        <textPath xlink:href=\"#arrow-8b286ef619df4b688b066f70f7f79317-0-12\" class=\"displacy-label\" startOffset=\"50%\" side=\"left\" fill=\"currentColor\" text-anchor=\"middle\">dobj</textPath>\n",
              "    </text>\n",
              "    <path class=\"displacy-arrowhead\" d=\"M1385.0,184.0 L1393.0,172.0 1377.0,172.0\" fill=\"currentColor\"/>\n",
              "</g>\n",
              "\n",
              "<g class=\"displacy-arrow\">\n",
              "    <path class=\"displacy-arc\" id=\"arrow-8b286ef619df4b688b066f70f7f79317-0-13\" stroke-width=\"2px\" d=\"M1330,182.0 C1330,92.0 1480.0,92.0 1480.0,182.0\" fill=\"none\" stroke=\"currentColor\"/>\n",
              "    <text dy=\"1.25em\" style=\"font-size: 0.8em; letter-spacing: 1px\">\n",
              "        <textPath xlink:href=\"#arrow-8b286ef619df4b688b066f70f7f79317-0-13\" class=\"displacy-label\" startOffset=\"50%\" side=\"left\" fill=\"currentColor\" text-anchor=\"middle\">cc</textPath>\n",
              "    </text>\n",
              "    <path class=\"displacy-arrowhead\" d=\"M1480.0,184.0 L1488.0,172.0 1472.0,172.0\" fill=\"currentColor\"/>\n",
              "</g>\n",
              "\n",
              "<g class=\"displacy-arrow\">\n",
              "    <path class=\"displacy-arc\" id=\"arrow-8b286ef619df4b688b066f70f7f79317-0-14\" stroke-width=\"2px\" d=\"M1330,182.0 C1330,47.0 1575.0,47.0 1575.0,182.0\" fill=\"none\" stroke=\"currentColor\"/>\n",
              "    <text dy=\"1.25em\" style=\"font-size: 0.8em; letter-spacing: 1px\">\n",
              "        <textPath xlink:href=\"#arrow-8b286ef619df4b688b066f70f7f79317-0-14\" class=\"displacy-label\" startOffset=\"50%\" side=\"left\" fill=\"currentColor\" text-anchor=\"middle\">conj</textPath>\n",
              "    </text>\n",
              "    <path class=\"displacy-arrowhead\" d=\"M1575.0,184.0 L1583.0,172.0 1567.0,172.0\" fill=\"currentColor\"/>\n",
              "</g>\n",
              "\n",
              "<g class=\"displacy-arrow\">\n",
              "    <path class=\"displacy-arc\" id=\"arrow-8b286ef619df4b688b066f70f7f79317-0-15\" stroke-width=\"2px\" d=\"M1600,182.0 C1600,137.0 1655.0,137.0 1655.0,182.0\" fill=\"none\" stroke=\"currentColor\"/>\n",
              "    <text dy=\"1.25em\" style=\"font-size: 0.8em; letter-spacing: 1px\">\n",
              "        <textPath xlink:href=\"#arrow-8b286ef619df4b688b066f70f7f79317-0-15\" class=\"displacy-label\" startOffset=\"50%\" side=\"left\" fill=\"currentColor\" text-anchor=\"middle\">dobj</textPath>\n",
              "    </text>\n",
              "    <path class=\"displacy-arrowhead\" d=\"M1655.0,184.0 L1663.0,172.0 1647.0,172.0\" fill=\"currentColor\"/>\n",
              "</g>\n",
              "\n",
              "<g class=\"displacy-arrow\">\n",
              "    <path class=\"displacy-arc\" id=\"arrow-8b286ef619df4b688b066f70f7f79317-0-16\" stroke-width=\"2px\" d=\"M1600,182.0 C1600,92.0 1750.0,92.0 1750.0,182.0\" fill=\"none\" stroke=\"currentColor\"/>\n",
              "    <text dy=\"1.25em\" style=\"font-size: 0.8em; letter-spacing: 1px\">\n",
              "        <textPath xlink:href=\"#arrow-8b286ef619df4b688b066f70f7f79317-0-16\" class=\"displacy-label\" startOffset=\"50%\" side=\"left\" fill=\"currentColor\" text-anchor=\"middle\">prep</textPath>\n",
              "    </text>\n",
              "    <path class=\"displacy-arrowhead\" d=\"M1750.0,184.0 L1758.0,172.0 1742.0,172.0\" fill=\"currentColor\"/>\n",
              "</g>\n",
              "\n",
              "<g class=\"displacy-arrow\">\n",
              "    <path class=\"displacy-arc\" id=\"arrow-8b286ef619df4b688b066f70f7f79317-0-17\" stroke-width=\"2px\" d=\"M1780,182.0 C1780,137.0 1835.0,137.0 1835.0,182.0\" fill=\"none\" stroke=\"currentColor\"/>\n",
              "    <text dy=\"1.25em\" style=\"font-size: 0.8em; letter-spacing: 1px\">\n",
              "        <textPath xlink:href=\"#arrow-8b286ef619df4b688b066f70f7f79317-0-17\" class=\"displacy-label\" startOffset=\"50%\" side=\"left\" fill=\"currentColor\" text-anchor=\"middle\">pobj</textPath>\n",
              "    </text>\n",
              "    <path class=\"displacy-arrowhead\" d=\"M1835.0,184.0 L1843.0,172.0 1827.0,172.0\" fill=\"currentColor\"/>\n",
              "</g>\n",
              "\n",
              "<g class=\"displacy-arrow\">\n",
              "    <path class=\"displacy-arc\" id=\"arrow-8b286ef619df4b688b066f70f7f79317-0-18\" stroke-width=\"2px\" d=\"M1960,182.0 C1960,137.0 2015.0,137.0 2015.0,182.0\" fill=\"none\" stroke=\"currentColor\"/>\n",
              "    <text dy=\"1.25em\" style=\"font-size: 0.8em; letter-spacing: 1px\">\n",
              "        <textPath xlink:href=\"#arrow-8b286ef619df4b688b066f70f7f79317-0-18\" class=\"displacy-label\" startOffset=\"50%\" side=\"left\" fill=\"currentColor\" text-anchor=\"middle\">nsubj</textPath>\n",
              "    </text>\n",
              "    <path class=\"displacy-arrowhead\" d=\"M1960,184.0 L1952,172.0 1968,172.0\" fill=\"currentColor\"/>\n",
              "</g>\n",
              "\n",
              "<g class=\"displacy-arrow\">\n",
              "    <path class=\"displacy-arc\" id=\"arrow-8b286ef619df4b688b066f70f7f79317-0-19\" stroke-width=\"2px\" d=\"M2050,182.0 C2050,137.0 2105.0,137.0 2105.0,182.0\" fill=\"none\" stroke=\"currentColor\"/>\n",
              "    <text dy=\"1.25em\" style=\"font-size: 0.8em; letter-spacing: 1px\">\n",
              "        <textPath xlink:href=\"#arrow-8b286ef619df4b688b066f70f7f79317-0-19\" class=\"displacy-label\" startOffset=\"50%\" side=\"left\" fill=\"currentColor\" text-anchor=\"middle\">advmod</textPath>\n",
              "    </text>\n",
              "    <path class=\"displacy-arrowhead\" d=\"M2105.0,184.0 L2113.0,172.0 2097.0,172.0\" fill=\"currentColor\"/>\n",
              "</g>\n",
              "\n",
              "<g class=\"displacy-arrow\">\n",
              "    <path class=\"displacy-arc\" id=\"arrow-8b286ef619df4b688b066f70f7f79317-0-20\" stroke-width=\"2px\" d=\"M2050,182.0 C2050,92.0 2200.0,92.0 2200.0,182.0\" fill=\"none\" stroke=\"currentColor\"/>\n",
              "    <text dy=\"1.25em\" style=\"font-size: 0.8em; letter-spacing: 1px\">\n",
              "        <textPath xlink:href=\"#arrow-8b286ef619df4b688b066f70f7f79317-0-20\" class=\"displacy-label\" startOffset=\"50%\" side=\"left\" fill=\"currentColor\" text-anchor=\"middle\">acomp</textPath>\n",
              "    </text>\n",
              "    <path class=\"displacy-arrowhead\" d=\"M2200.0,184.0 L2208.0,172.0 2192.0,172.0\" fill=\"currentColor\"/>\n",
              "</g>\n",
              "\n",
              "<g class=\"displacy-arrow\">\n",
              "    <path class=\"displacy-arc\" id=\"arrow-8b286ef619df4b688b066f70f7f79317-0-21\" stroke-width=\"2px\" d=\"M2230,182.0 C2230,137.0 2285.0,137.0 2285.0,182.0\" fill=\"none\" stroke=\"currentColor\"/>\n",
              "    <text dy=\"1.25em\" style=\"font-size: 0.8em; letter-spacing: 1px\">\n",
              "        <textPath xlink:href=\"#arrow-8b286ef619df4b688b066f70f7f79317-0-21\" class=\"displacy-label\" startOffset=\"50%\" side=\"left\" fill=\"currentColor\" text-anchor=\"middle\">prep</textPath>\n",
              "    </text>\n",
              "    <path class=\"displacy-arrowhead\" d=\"M2285.0,184.0 L2293.0,172.0 2277.0,172.0\" fill=\"currentColor\"/>\n",
              "</g>\n",
              "\n",
              "<g class=\"displacy-arrow\">\n",
              "    <path class=\"displacy-arc\" id=\"arrow-8b286ef619df4b688b066f70f7f79317-0-22\" stroke-width=\"2px\" d=\"M2320,182.0 C2320,137.0 2375.0,137.0 2375.0,182.0\" fill=\"none\" stroke=\"currentColor\"/>\n",
              "    <text dy=\"1.25em\" style=\"font-size: 0.8em; letter-spacing: 1px\">\n",
              "        <textPath xlink:href=\"#arrow-8b286ef619df4b688b066f70f7f79317-0-22\" class=\"displacy-label\" startOffset=\"50%\" side=\"left\" fill=\"currentColor\" text-anchor=\"middle\">pobj</textPath>\n",
              "    </text>\n",
              "    <path class=\"displacy-arrowhead\" d=\"M2375.0,184.0 L2383.0,172.0 2367.0,172.0\" fill=\"currentColor\"/>\n",
              "</g>\n",
              "</svg></span>"
            ]
          },
          "metadata": {}
        }
      ]
    },
    {
      "cell_type": "markdown",
      "source": [
        "##Colab technical Specifications"
      ],
      "metadata": {
        "id": "24J3nOhjB7jD"
      }
    },
    {
      "cell_type": "code",
      "source": [
        "!df -h"
      ],
      "metadata": {
        "id": "2PdqJBJJCZhq",
        "colab": {
          "base_uri": "https://localhost:8080/"
        },
        "outputId": "d94de681-8946-4e36-dbd7-82f6c4433c98"
      },
      "execution_count": null,
      "outputs": [
        {
          "output_type": "stream",
          "name": "stdout",
          "text": [
            "Filesystem      Size  Used Avail Use% Mounted on\n",
            "overlay         226G   40G  187G  18% /\n",
            "tmpfs            64M     0   64M   0% /dev\n",
            "shm             5.8G     0  5.8G   0% /dev/shm\n",
            "/dev/root       2.0G  1.2G  812M  59% /sbin/docker-init\n",
            "tmpfs           6.4G   32K  6.4G   1% /var/colab\n",
            "/dev/sda1       233G   41G  192G  18% /etc/hosts\n",
            "tmpfs           6.4G     0  6.4G   0% /proc/acpi\n",
            "tmpfs           6.4G     0  6.4G   0% /proc/scsi\n",
            "tmpfs           6.4G     0  6.4G   0% /sys/firmware\n"
          ]
        }
      ]
    },
    {
      "cell_type": "code",
      "source": [
        "!cat /proc/cpuinfo"
      ],
      "metadata": {
        "colab": {
          "base_uri": "https://localhost:8080/"
        },
        "id": "MTX6ym8SXeOG",
        "outputId": "4e2e27e4-e679-40f2-ada6-05f6e395dc75"
      },
      "execution_count": null,
      "outputs": [
        {
          "output_type": "stream",
          "name": "stdout",
          "text": [
            "processor\t: 0\n",
            "vendor_id\t: GenuineIntel\n",
            "cpu family\t: 6\n",
            "model\t\t: 79\n",
            "model name\t: Intel(R) Xeon(R) CPU @ 2.20GHz\n",
            "stepping\t: 0\n",
            "microcode\t: 0x1\n",
            "cpu MHz\t\t: 2199.998\n",
            "cache size\t: 56320 KB\n",
            "physical id\t: 0\n",
            "siblings\t: 2\n",
            "core id\t\t: 0\n",
            "cpu cores\t: 1\n",
            "apicid\t\t: 0\n",
            "initial apicid\t: 0\n",
            "fpu\t\t: yes\n",
            "fpu_exception\t: yes\n",
            "cpuid level\t: 13\n",
            "wp\t\t: yes\n",
            "flags\t\t: fpu vme de pse tsc msr pae mce cx8 apic sep mtrr pge mca cmov pat pse36 clflush mmx fxsr sse sse2 ss ht syscall nx pdpe1gb rdtscp lm constant_tsc rep_good nopl xtopology nonstop_tsc cpuid tsc_known_freq pni pclmulqdq ssse3 fma cx16 pcid sse4_1 sse4_2 x2apic movbe popcnt aes xsave avx f16c rdrand hypervisor lahf_lm abm 3dnowprefetch invpcid_single ssbd ibrs ibpb stibp fsgsbase tsc_adjust bmi1 hle avx2 smep bmi2 erms invpcid rtm rdseed adx smap xsaveopt arat md_clear arch_capabilities\n",
            "bugs\t\t: cpu_meltdown spectre_v1 spectre_v2 spec_store_bypass l1tf mds swapgs taa\n",
            "bogomips\t: 4399.99\n",
            "clflush size\t: 64\n",
            "cache_alignment\t: 64\n",
            "address sizes\t: 46 bits physical, 48 bits virtual\n",
            "power management:\n",
            "\n",
            "processor\t: 1\n",
            "vendor_id\t: GenuineIntel\n",
            "cpu family\t: 6\n",
            "model\t\t: 79\n",
            "model name\t: Intel(R) Xeon(R) CPU @ 2.20GHz\n",
            "stepping\t: 0\n",
            "microcode\t: 0x1\n",
            "cpu MHz\t\t: 2199.998\n",
            "cache size\t: 56320 KB\n",
            "physical id\t: 0\n",
            "siblings\t: 2\n",
            "core id\t\t: 0\n",
            "cpu cores\t: 1\n",
            "apicid\t\t: 1\n",
            "initial apicid\t: 1\n",
            "fpu\t\t: yes\n",
            "fpu_exception\t: yes\n",
            "cpuid level\t: 13\n",
            "wp\t\t: yes\n",
            "flags\t\t: fpu vme de pse tsc msr pae mce cx8 apic sep mtrr pge mca cmov pat pse36 clflush mmx fxsr sse sse2 ss ht syscall nx pdpe1gb rdtscp lm constant_tsc rep_good nopl xtopology nonstop_tsc cpuid tsc_known_freq pni pclmulqdq ssse3 fma cx16 pcid sse4_1 sse4_2 x2apic movbe popcnt aes xsave avx f16c rdrand hypervisor lahf_lm abm 3dnowprefetch invpcid_single ssbd ibrs ibpb stibp fsgsbase tsc_adjust bmi1 hle avx2 smep bmi2 erms invpcid rtm rdseed adx smap xsaveopt arat md_clear arch_capabilities\n",
            "bugs\t\t: cpu_meltdown spectre_v1 spectre_v2 spec_store_bypass l1tf mds swapgs taa\n",
            "bogomips\t: 4399.99\n",
            "clflush size\t: 64\n",
            "cache_alignment\t: 64\n",
            "address sizes\t: 46 bits physical, 48 bits virtual\n",
            "power management:\n",
            "\n"
          ]
        }
      ]
    },
    {
      "cell_type": "code",
      "source": [
        "!cat /proc/meminfo"
      ],
      "metadata": {
        "colab": {
          "base_uri": "https://localhost:8080/"
        },
        "id": "sGXMWXyIXlg7",
        "outputId": "bcbcbe3a-b722-4109-f755-4e016414bbf2"
      },
      "execution_count": null,
      "outputs": [
        {
          "output_type": "stream",
          "name": "stdout",
          "text": [
            "MemTotal:       13298572 kB\n",
            "MemFree:        10317332 kB\n",
            "MemAvailable:   12040176 kB\n",
            "Buffers:          130632 kB\n",
            "Cached:          1707800 kB\n",
            "SwapCached:            0 kB\n",
            "Active:          1411520 kB\n",
            "Inactive:        1365800 kB\n",
            "Active(anon):     856116 kB\n",
            "Inactive(anon):      492 kB\n",
            "Active(file):     555404 kB\n",
            "Inactive(file):  1365308 kB\n",
            "Unevictable:           0 kB\n",
            "Mlocked:               0 kB\n",
            "SwapTotal:             0 kB\n",
            "SwapFree:              0 kB\n",
            "Dirty:               816 kB\n",
            "Writeback:             0 kB\n",
            "AnonPages:        938784 kB\n",
            "Mapped:           226548 kB\n",
            "Shmem:              1196 kB\n",
            "KReclaimable:      87420 kB\n",
            "Slab:             130164 kB\n",
            "SReclaimable:      87420 kB\n",
            "SUnreclaim:        42744 kB\n",
            "KernelStack:        4912 kB\n",
            "PageTables:        13248 kB\n",
            "NFS_Unstable:          0 kB\n",
            "Bounce:                0 kB\n",
            "WritebackTmp:          0 kB\n",
            "CommitLimit:     6649284 kB\n",
            "Committed_AS:    3041808 kB\n",
            "VmallocTotal:   34359738367 kB\n",
            "VmallocUsed:        7284 kB\n",
            "VmallocChunk:          0 kB\n",
            "Percpu:             1504 kB\n",
            "AnonHugePages:      2048 kB\n",
            "ShmemHugePages:        0 kB\n",
            "ShmemPmdMapped:        0 kB\n",
            "FileHugePages:         0 kB\n",
            "FilePmdMapped:         0 kB\n",
            "CmaTotal:              0 kB\n",
            "CmaFree:               0 kB\n",
            "HugePages_Total:       0\n",
            "HugePages_Free:        0\n",
            "HugePages_Rsvd:        0\n",
            "HugePages_Surp:        0\n",
            "Hugepagesize:       2048 kB\n",
            "Hugetlb:               0 kB\n",
            "DirectMap4k:       86848 kB\n",
            "DirectMap2M:     5152768 kB\n",
            "DirectMap1G:    10485760 kB\n"
          ]
        }
      ]
    },
    {
      "cell_type": "markdown",
      "source": [
        "## **END OF CODE**"
      ],
      "metadata": {
        "id": "TZeDUJT2x1z5"
      }
    }
  ]
}